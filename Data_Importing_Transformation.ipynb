{
 "cells": [
  {
   "cell_type": "markdown",
   "id": "88dfcaf2-795d-4ef0-a23f-8f8b7752cc8a",
   "metadata": {},
   "source": [
    "# Baseline Recommender"
   ]
  },
  {
   "cell_type": "markdown",
   "id": "a4742eec-6093-48de-b24c-31d08c2cf7fa",
   "metadata": {},
   "source": [
    "# Importing libraries"
   ]
  },
  {
   "cell_type": "code",
   "execution_count": 1,
   "id": "18b6c672-08d9-455f-8038-83e219d16752",
   "metadata": {},
   "outputs": [],
   "source": [
    "import pandas as pd\n",
    "import surprise\n",
    "from surprise import Reader, Dataset, SVD\n",
    "import numpy as np\n",
    "from sklearn.model_selection import GroupShuffleSplit, ShuffleSplit\n",
    "import torch\n",
    "from torch_geometric.data import Data\n",
    "import rdkit\n",
    "from rdkit.Chem import Descriptors, MolFromSmiles\n",
    "import os\n",
    "from os.path import exists"
   ]
  },
  {
   "cell_type": "markdown",
   "id": "382e1a12-3cd4-48b5-a155-fc402bf03abc",
   "metadata": {},
   "source": [
    "## Data Importing"
   ]
  },
  {
   "cell_type": "code",
   "execution_count": 2,
   "id": "2f9f03b9-cc05-43b1-90e4-949b298e8a25",
   "metadata": {},
   "outputs": [
    {
     "data": {
      "text/html": [
       "<div>\n",
       "<style scoped>\n",
       "    .dataframe tbody tr th:only-of-type {\n",
       "        vertical-align: middle;\n",
       "    }\n",
       "\n",
       "    .dataframe tbody tr th {\n",
       "        vertical-align: top;\n",
       "    }\n",
       "\n",
       "    .dataframe thead th {\n",
       "        text-align: right;\n",
       "    }\n",
       "</style>\n",
       "<table border=\"1\" class=\"dataframe\">\n",
       "  <thead>\n",
       "    <tr style=\"text-align: right;\">\n",
       "      <th></th>\n",
       "      <th>aid</th>\n",
       "      <th>cid</th>\n",
       "      <th>smiles</th>\n",
       "      <th>activity</th>\n",
       "    </tr>\n",
       "  </thead>\n",
       "  <tbody>\n",
       "    <tr>\n",
       "      <th>0</th>\n",
       "      <td>891</td>\n",
       "      <td>3232584</td>\n",
       "      <td>CCNC1=NC=C2C(=N1)N(C(=O)C(=N2)C3=CC=CC(=C3)C#N...</td>\n",
       "      <td>active</td>\n",
       "    </tr>\n",
       "    <tr>\n",
       "      <th>1</th>\n",
       "      <td>891</td>\n",
       "      <td>3232585</td>\n",
       "      <td>COC1=CC=C(C=C1)OC2=NC=C3C(=N2)N(C(=O)C(=N3)C4=...</td>\n",
       "      <td>inactive</td>\n",
       "    </tr>\n",
       "    <tr>\n",
       "      <th>2</th>\n",
       "      <td>891</td>\n",
       "      <td>3232587</td>\n",
       "      <td>COC1=CC=CC=C1C2=NC3=CC=CC=C3C(=N2)NCC4=CC=CC=C4</td>\n",
       "      <td>active</td>\n",
       "    </tr>\n",
       "    <tr>\n",
       "      <th>3</th>\n",
       "      <td>891</td>\n",
       "      <td>3232589</td>\n",
       "      <td>C1CN(CCC12CCN(CC2)C(=O)OC3=CC=CC=C3)C4=CC=CC=C4</td>\n",
       "      <td>inactive</td>\n",
       "    </tr>\n",
       "    <tr>\n",
       "      <th>4</th>\n",
       "      <td>891</td>\n",
       "      <td>3232590</td>\n",
       "      <td>COCCN1C2=NC(=NC=C2N=C(C1=O)C3=CC=CC(=C3)C#N)N4...</td>\n",
       "      <td>inactive</td>\n",
       "    </tr>\n",
       "  </tbody>\n",
       "</table>\n",
       "</div>"
      ],
      "text/plain": [
       "   aid      cid                                             smiles  activity\n",
       "0  891  3232584  CCNC1=NC=C2C(=N1)N(C(=O)C(=N2)C3=CC=CC(=C3)C#N...    active\n",
       "1  891  3232585  COC1=CC=C(C=C1)OC2=NC=C3C(=N2)N(C(=O)C(=N3)C4=...  inactive\n",
       "2  891  3232587    COC1=CC=CC=C1C2=NC3=CC=CC=C3C(=N2)NCC4=CC=CC=C4    active\n",
       "3  891  3232589    C1CN(CCC12CCN(CC2)C(=O)OC3=CC=CC=C3)C4=CC=CC=C4  inactive\n",
       "4  891  3232590  COCCN1C2=NC(=NC=C2N=C(C1=O)C3=CC=CC(=C3)C#N)N4...  inactive"
      ]
     },
     "execution_count": 2,
     "metadata": {},
     "output_type": "execute_result"
    }
   ],
   "source": [
    "df = pd.read_csv(\"df_assay_entries.csv\")\n",
    "df.head()"
   ]
  },
  {
   "cell_type": "code",
   "execution_count": 3,
   "id": "ffa806aa-59b2-4c4b-8392-00725e695d86",
   "metadata": {},
   "outputs": [
    {
     "data": {
      "text/plain": [
       "41620091"
      ]
     },
     "execution_count": 3,
     "metadata": {},
     "output_type": "execute_result"
    }
   ],
   "source": [
    "# check size of imported data\n",
    "len(df)"
   ]
  },
  {
   "cell_type": "code",
   "execution_count": 40,
   "id": "8680b43d-aae0-419a-80bf-2a9ed98983a1",
   "metadata": {},
   "outputs": [],
   "source": [
    "test = df['cid'].to_numpy()"
   ]
  },
  {
   "cell_type": "markdown",
   "id": "1330aad7-ac49-412e-a6c5-879256c4b48c",
   "metadata": {},
   "source": [
    "## Data Converting"
   ]
  },
  {
   "cell_type": "code",
   "execution_count": 2,
   "id": "d9dd9c1f-c2a5-4774-aa0b-6fa925688ea6",
   "metadata": {},
   "outputs": [],
   "source": [
    "def pandas_to_GNN_pyg_edges(df, cid_translation_dictionary:dict, aid_translation_dictionary:dict):\n",
    "    # definition of function used for creating the edgeset for test/train & active/inactive\n",
    "    def sub_conv(activity_string:str, df):\n",
    "        # temp save selection set\n",
    "        df_s = df[df.activity==activity_string]\n",
    "        # determine how many entries the edge set will have. 2 edges per connection because of undirected edge\n",
    "        count = df_s.size*2\n",
    "        # initialize the edges array\n",
    "        edges = np.zeros(shape=(2, count))\n",
    "        # create marker for current position in array\n",
    "        marker = 0\n",
    "        # iterate over the rows and enter the edges in the array\n",
    "        for _, row in df_s.iterrows():\n",
    "             # find mapped cid\n",
    "            mcid = cid_translation_dictionary[row.cid]\n",
    "            # find mapped aid\n",
    "            maid = aid_translation_dictionary[row.aid]\n",
    "            # input one directed edge\n",
    "            edges[0, marker]=mcid\n",
    "            edges[1, marker]=maid\n",
    "            marker += 1\n",
    "            # input other directed edge\n",
    "            edges[0, marker]=maid\n",
    "            edges[1, marker]=mcid\n",
    "            marker += 1\n",
    "        # transform edges to torch object and return it\n",
    "        return torch.tensor(edges, dtype=torch.long)\n",
    "    # COMPUTE EDGESETS\n",
    "    # generate edgeset for active/positive edges\n",
    "    pos_edge_index = sub_conv('active', df)\n",
    "    neg_edge_index = sub_conv('inactive', df)\n",
    "    return pos_edge_index, neg_edge_index"
   ]
  },
  {
   "cell_type": "code",
   "execution_count": 3,
   "id": "ad24e18e-fc8d-48ce-bfc9-33aa47f8b15d",
   "metadata": {},
   "outputs": [],
   "source": [
    "def pandas_to_GNN_pyg_edges_v2(df, cid_translation_dictionary:dict, aid_translation_dictionary:dict):\n",
    "    # faster function to convert the pandas dataframe to GNN pytorch data\n",
    "    # map ids to GNN id\n",
    "    df['id_1']=df['aid'].map(lambda x: aid_translation_dictionary[x])\n",
    "    df['id_2']=df['cid'].map(lambda x: cid_translation_dictionary[x])\n",
    "    ret = {}\n",
    "    for mode in ['active', 'inactive']:\n",
    "        df_n = df[df.activity==mode]\n",
    "        # extract edges information\n",
    "        edge_direction_1 = df_n[['id_1', 'id_2']].to_numpy()\n",
    "        edge_direction_2 = edge_direction_1.copy()\n",
    "        # swap columns so that the other direction is simulated\n",
    "        edge_direction_2[:, [0,1]]=edge_direction_2[:, [1,0]]\n",
    "        # fuse both direction arrays\n",
    "        ret[mode] = np.concatenate((edge_direction_1, edge_direction_2), axis=0)\n",
    "    return torch.tensor(np.transpose(ret['active']), dtype=torch.long), torch.tensor(np.transpose(ret['inactive']), dtype=torch.long)"
   ]
  },
  {
   "cell_type": "code",
   "execution_count": 2,
   "id": "9826cf1f-c198-438c-b328-dee7248cb776",
   "metadata": {},
   "outputs": [
    {
     "data": {
      "text/plain": [
       "True"
      ]
     },
     "execution_count": 2,
     "metadata": {},
     "output_type": "execute_result"
    }
   ],
   "source": [
    "exists(\"data/descriptors_x.csv\")"
   ]
  },
  {
   "cell_type": "code",
   "execution_count": 3,
   "id": "83806c08-a7e1-48af-b050-1784eca29a4b",
   "metadata": {},
   "outputs": [],
   "source": [
    "load_x = np.loadtxt(\"data/descriptors_x.csv\",delimiter = \",\")"
   ]
  },
  {
   "cell_type": "code",
   "execution_count": 7,
   "id": "0ee74a29-b129-4a51-96c5-573d1486f633",
   "metadata": {},
   "outputs": [
    {
     "data": {
      "text/plain": [
       "array([     0, 393134,      0,      0,      0,      0,      0,      0,\n",
       "            0,      0,    310, 454905,      0,      0,      0,      0,\n",
       "            0,      0,      0,      0, 454905,      0, 454905,      0,\n",
       "       261813,      0,      0,      0,      0,      0,      0,      0,\n",
       "            0,      0,      0,      0,      0,      0,      0, 454049,\n",
       "            0,      0,      0,      3,      0,      0,      1,      0,\n",
       "            0,      0,      0,      0,      0,      0,      0,      0,\n",
       "            0,      0,      0,      0,      0,      0,      0,      0,\n",
       "            1,      0,      0,      0,      0,      0,      0,      0,\n",
       "            0,      1,      0,      0,      0,      0,      0,      0,\n",
       "            0,      0,      0,      0,      0,      0,      0,      1,\n",
       "            0,      0,      0,      0,      0,    609,    222,   1360,\n",
       "         2031,  31623, 196488,   4161,  38198,  19429,  84388,      0,\n",
       "            0,      0,      0,      0,      0,      0,      0,      0,\n",
       "            0,      0,      0,      0,      0,      0,      0,      0,\n",
       "            0,   8228,      0,      0,      0,      0,      0,      0,\n",
       "            0,      0,      0,      0,      0,      0,      0,      0,\n",
       "            0,      0,      0,      0,      0,      0,      0,      0,\n",
       "            0,      0,      0,      0,      0,      0,      0,      0,\n",
       "            0,      0,      0,      0,      0,      0,      0,      0,\n",
       "            0,      0,      0,      0,      0,      0,      0,      0,\n",
       "            0,      0,      0,      0,      0,      0,      0,      0,\n",
       "            0,      0,      0,      0,      0,      0,      0,      0,\n",
       "            0,      0,      0,      0,      0,      0,      0,      0,\n",
       "            0,      0,      0,      0,      0,      0,      0,      0,\n",
       "            0,      0,      0,      0,      0,      0,      0,      0])"
      ]
     },
     "execution_count": 7,
     "metadata": {},
     "output_type": "execute_result"
    }
   ],
   "source": [
    "np.sum(load_x<0, axis=0)"
   ]
  },
  {
   "cell_type": "code",
   "execution_count": 26,
   "id": "df2e3419-8a0e-46d4-a7a2-0c5e75b19bb3",
   "metadata": {},
   "outputs": [],
   "source": [
    "load_x = np.nan_to_num(load_x, nan=0)"
   ]
  },
  {
   "cell_type": "code",
   "execution_count": 31,
   "id": "a88e20bb-36c1-46f9-a209-f5f88c2c364a",
   "metadata": {},
   "outputs": [
    {
     "data": {
      "text/plain": [
       "(457560, 208)"
      ]
     },
     "execution_count": 31,
     "metadata": {},
     "output_type": "execute_result"
    }
   ],
   "source": [
    "load_x.shape"
   ]
  },
  {
   "cell_type": "code",
   "execution_count": 32,
   "id": "28e07df2-44ff-48e0-bebe-3165f573cee9",
   "metadata": {},
   "outputs": [
    {
     "data": {
      "text/plain": [
       "tensor([[ 0.0000,  0.0000,  0.0000,  ...,  0.0000,  0.0000,  0.0000],\n",
       "        [ 0.0000,  0.0000,  0.0000,  ...,  0.0000,  0.0000,  0.0000],\n",
       "        [ 0.0000,  0.0000,  0.0000,  ...,  0.0000,  0.0000,  0.0000],\n",
       "        ...,\n",
       "        [10.1531, -2.4522, 10.1531,  ...,  0.0000,  0.0000,  0.0000],\n",
       "        [11.5979, -0.3191, 11.5979,  ...,  0.0000,  0.0000,  0.0000],\n",
       "        [10.4979, -3.0391, 10.4979,  ...,  0.0000,  0.0000,  0.0000]])"
      ]
     },
     "execution_count": 32,
     "metadata": {},
     "output_type": "execute_result"
    }
   ],
   "source": [
    "t1=torch.tensor(load_x, dtype=torch.float)\n",
    "t1"
   ]
  },
  {
   "cell_type": "code",
   "execution_count": 4,
   "id": "02a529b6-1825-407c-baab-7155a2461a45",
   "metadata": {},
   "outputs": [],
   "source": [
    "def smiles_and_rdkit_chem_param_generation(df, aid_count:int, cid_count:int, cid_translation_dictionary:dict, generate:bool=True, empty_GNN_x:int=0):\n",
    "    #simple check if empty_GNN_x is properly used\n",
    "    assert empty_GNN_x>=0\n",
    "    #simple check for the aid and cid count variable\n",
    "    assert aid_count>0\n",
    "    assert cid_count>0\n",
    "    # SEPARATING BETWEEN MODES missing\n",
    "    if generate:\n",
    "        # Modus where rdkit is used to generate the descriptors. any empty_GNN_x is ignored (currently)\n",
    "        # Note: this is very time-consuming so that the pre-generated x is stored in a csv file in the data folder. if the file exists we load it from there\n",
    "        if exists(\"data/descriptors_x.csv\"):\n",
    "            load_x = np.nan_to_num(np.loadtxt(\"data/descriptors_x.csv\",delimiter = \",\"), nan=0)\n",
    "            return torch.tensor(load_x, dtype=torch.float)\n",
    "        # create x array\n",
    "        x = np.zeros(shape=((aid_count+cid_count), len(Descriptors.descList)))\n",
    "        # iterate over filtered and sorted table\n",
    "        for _, row in df[['cid', 'smiles']].sort_values(by=['cid']).drop_duplicates(subset=['cid']).iterrows():\n",
    "            # get corresponding id of cid\n",
    "            mapped_id = cid_translation_dictionary[row.cid]\n",
    "            # decode smiles notation to something the Descriptors can use using MolFrom Smiles\n",
    "            mol = MolFromSmiles(row.smiles)\n",
    "            # compute descriptors using mol and Descriptors.descList\n",
    "            desc = np.array([func(mol) for _, func in Descriptors.descList])\n",
    "            # put descriptors into the correct part of the x array\n",
    "            x[mapped_id,:]=desc\n",
    "        return torch.tensor(x, dtype=torch.float)\n",
    "    else:\n",
    "        # no descriptors will be computed\n",
    "        if empty_GNN_x==0:\n",
    "            # in this case the number of parameters shall be the same as the number of descriptors. All values are set to 0\n",
    "            return torch.tensor(np.zeros(shape=((aid_count+cid_count), len(Descriptors.descList))), dtype=torch.float)\n",
    "        else:\n",
    "            # this means a specific amount is set, it will generate this specific number of parameters for each node\n",
    "            return torch.tensor(np.zeros(shape=((aid_count+cid_count), empty_GNN_x)), dtype=torch.float)"
   ]
  },
  {
   "cell_type": "code",
   "execution_count": 1,
   "id": "8beec075-1b9b-46f9-bf84-92a38d4bc5e9",
   "metadata": {},
   "outputs": [],
   "source": [
    "def data_transform_split(data_mode:int, split_mode:int=0, path:str=\"df_assay_entries.csv\", empty_GNN_x:int=0):\n",
    "    '''\n",
    "    A function that turns the pandas data into test and trainset data in which the mode determines which type of train test splitting is done.\n",
    "    Parameters\n",
    "    ----------\n",
    "    data_mode : int\n",
    "        defines if the desired output is a surprise data package (0) or the torch_geometric data (1 without rdkit information; 2 with)\n",
    "    path : str (optional)\n",
    "        path and filename of the csv containing the chemistry dataset\n",
    "    split_mode : int (optional)\n",
    "        determines which split mode is used: 0=random split entries, 1=moleculewise, 2=assaywise\n",
    "    empty_GNN_x : int (optional)\n",
    "        defines if data_mode==1 how many x-dimension each node should have in the pyg dataset\n",
    "    \n",
    "    Returns in case of data_mode=0\n",
    "    ------------------------------\n",
    "    trainset : surprise Trainset class\n",
    "        Contains the data to train on\n",
    "    testset : list of tuples with format (aid, cid, rating)\n",
    "        Contains the data to test the Recomender algorithm on\n",
    "        \n",
    "    Returns in case of data_mode=1 or datamode=2\n",
    "    --------------------------------------------\n",
    "    data : pytorch geometric Data class\n",
    "        contains all train and test neg and pos edges plus x-parameter\n",
    "    '''\n",
    "    # assert split_mode is within accepted range\n",
    "    assert split_mode>=0\n",
    "    assert split_mode<=2\n",
    "    # assert data_mode is within accepted range\n",
    "    assert data_mode>=0\n",
    "    assert data_mode<=2\n",
    "    # assert for empty_GNN_x\n",
    "    assert empty_GNN_x>=0\n",
    "    # import data\n",
    "    df = pd.read_csv(path)\n",
    "    # define empty split variable for differing split types of groupwise and randomwise splitting\n",
    "    split = None\n",
    "    #separation of split methods\n",
    "    if split_mode==0:\n",
    "        splitparam = df['cid'].to_numpy()\n",
    "        split = ShuffleSplit(n_splits=1, random_state=0, test_size=0.2, train_size=None).split(splitparam, None)\n",
    "    else:\n",
    "        splitparam = None\n",
    "        # mode 1 or 2 decides wheter the split will be with cid or aid\n",
    "        if split_mode==1:\n",
    "            splitparam = df['cid'].to_numpy()\n",
    "        else:\n",
    "            splitparam = df['aid'].to_numpy()\n",
    "        # get the split test and train set as ids in numpy arrays\n",
    "        split = GroupShuffleSplit(n_splits=1, random_state=0, test_size=0.2, train_size=None).split(splitparam, None, groups=splitparam)\n",
    "    # unpack split index arrays from generator class in split\n",
    "    test_ind = None\n",
    "    train_ind = None\n",
    "    for i,j in split:\n",
    "        train_ind = i\n",
    "        test_ind = j\n",
    "    # now we have the indexes of the split data. Left to do is use this and create the data package of choice \n",
    "    if data_mode==0:\n",
    "        #data mode of surprise package\n",
    "        # here we need to remodel the column activity to 0 and 1 boolean entries\n",
    "        df['rating']=df['activity'].map(lambda x: int(x=='active'))\n",
    "        # define reader to convert pandas dataframe to surprise package\n",
    "        reader = Reader(rating_scale=(0,1))\n",
    "        # convert dataset importing only the entries from trainset index list using the iloc function\n",
    "        trainset = Dataset.load_from_df(df.iloc[train_ind][['aid', 'cid', 'rating']], reader).build_full_trainset()\n",
    "        testset = Dataset.load_from_df(df.iloc[test_ind][['aid', 'cid', 'rating']], reader).build_full_trainset().build_testset()\n",
    "        return trainset, testset\n",
    "    else:\n",
    "        # build GNN edge set\n",
    "        # we need to unify the cid and aid to one id set so that the ids for pytorch geometric are unique\n",
    "        # ID TRANSLATION PART\n",
    "        # count the number of aid's\n",
    "        aid_count = np.unique(df['aid'].to_numpy()).shape[0]\n",
    "        # count the number of cid's\n",
    "        cid_count = np.unique(df['cid'].to_numpy()).shape[0]\n",
    "        # create aid translation dictionary\n",
    "        a = np.sort(np.unique(df['aid'].to_numpy()))\n",
    "        a_n = np.arange(aid_count)\n",
    "        aid_translation_dictionary = {a[i]:a_n[i] for i in range(aid_count)}\n",
    "        # create cid translation dictionary\n",
    "        c = np.sort(np.unique(df['cid'].to_numpy()))\n",
    "        c_n = np.arange(aid_count, (aid_count + cid_count))\n",
    "        cid_translation_dictionary = {c[i]:c_n[i] for i in range(cid_count)}\n",
    "        # PROCESSING PART\n",
    "        # the nodes in the graph are all the ids we have from aid and cid\n",
    "        # the edges are the connections between aid and cid which are ACTIVE - these are stored in the pos edge_indeces, the inactive edges are stored in the neg edge indexes\n",
    "        # generate the edges of the trainset\n",
    "        train_pos_edge_index, train_neg_edge_index = pandas_to_GNN_pyg_edges_v2(df.iloc[train_ind], cid_translation_dictionary, aid_translation_dictionary)\n",
    "        # generate the edges of the testset\n",
    "        test_pos_edge_index, test_neg_edge_index = pandas_to_GNN_pyg_edges_v2(df.iloc[test_ind], cid_translation_dictionary, aid_translation_dictionary)\n",
    "        # call rdkit generating function with info if the x parameter should be empty or not\n",
    "        x = smiles_and_rdkit_chem_param_generation(df, aid_count, cid_count, cid_translation_dictionary, generate=(data_mode==2), empty_GNN_x=empty_GNN_x)\n",
    "        data = Data(x=x, train_pos_edge_index=train_pos_edge_index, train_neg_edge_index=train_neg_edge_index, test_pos_edge_index=test_pos_edge_index, test_neg_edge_index=test_neg_edge_index)\n",
    "        # NEG EDGE INDEX CAN CONTAIN THE INACTIVE EDGES SO THAT THEY ARE DISPLAYED AS NOT ACTIVE; OMG\n",
    "        return data, aid_count"
   ]
  },
  {
   "cell_type": "code",
   "execution_count": 6,
   "id": "4b4d9a71-9cd0-4c88-93cd-72a68aecf4a1",
   "metadata": {},
   "outputs": [
    {
     "name": "stderr",
     "output_type": "stream",
     "text": [
      "C:\\Users\\JoPa21\\AppData\\Local\\Temp\\ipykernel_14732\\3582803359.py:4: SettingWithCopyWarning: \n",
      "A value is trying to be set on a copy of a slice from a DataFrame.\n",
      "Try using .loc[row_indexer,col_indexer] = value instead\n",
      "\n",
      "See the caveats in the documentation: https://pandas.pydata.org/pandas-docs/stable/user_guide/indexing.html#returning-a-view-versus-a-copy\n",
      "  df['id_1']=df['aid'].map(lambda x: aid_translation_dictionary[x])\n",
      "C:\\Users\\JoPa21\\AppData\\Local\\Temp\\ipykernel_14732\\3582803359.py:5: SettingWithCopyWarning: \n",
      "A value is trying to be set on a copy of a slice from a DataFrame.\n",
      "Try using .loc[row_indexer,col_indexer] = value instead\n",
      "\n",
      "See the caveats in the documentation: https://pandas.pydata.org/pandas-docs/stable/user_guide/indexing.html#returning-a-view-versus-a-copy\n",
      "  df['id_2']=df['cid'].map(lambda x: cid_translation_dictionary[x])\n",
      "C:\\Users\\JoPa21\\AppData\\Local\\Temp\\ipykernel_14732\\3582803359.py:4: SettingWithCopyWarning: \n",
      "A value is trying to be set on a copy of a slice from a DataFrame.\n",
      "Try using .loc[row_indexer,col_indexer] = value instead\n",
      "\n",
      "See the caveats in the documentation: https://pandas.pydata.org/pandas-docs/stable/user_guide/indexing.html#returning-a-view-versus-a-copy\n",
      "  df['id_1']=df['aid'].map(lambda x: aid_translation_dictionary[x])\n",
      "C:\\Users\\JoPa21\\AppData\\Local\\Temp\\ipykernel_14732\\3582803359.py:5: SettingWithCopyWarning: \n",
      "A value is trying to be set on a copy of a slice from a DataFrame.\n",
      "Try using .loc[row_indexer,col_indexer] = value instead\n",
      "\n",
      "See the caveats in the documentation: https://pandas.pydata.org/pandas-docs/stable/user_guide/indexing.html#returning-a-view-versus-a-copy\n",
      "  df['id_2']=df['cid'].map(lambda x: cid_translation_dictionary[x])\n"
     ]
    }
   ],
   "source": [
    "data = data_transform_split(2, path=\"df_assay_entries.csv\")"
   ]
  },
  {
   "cell_type": "code",
   "execution_count": 13,
   "id": "dbfe8ff9-5dd8-4007-9db1-7ec14d67d19b",
   "metadata": {},
   "outputs": [
    {
     "data": {
      "text/plain": [
       "Data(x=[457560, 208], train_pos_edge_index=[2, 979616], train_neg_edge_index=[2, 65612424], test_pos_edge_index=[2, 244898], test_neg_edge_index=[2, 16403118])"
      ]
     },
     "execution_count": 13,
     "metadata": {},
     "output_type": "execute_result"
    }
   ],
   "source": [
    "data"
   ]
  }
 ],
 "metadata": {
  "kernelspec": {
   "display_name": "Python [conda env:Bachelorarbeit] *",
   "language": "python",
   "name": "conda-env-Bachelorarbeit-py"
  },
  "language_info": {
   "codemirror_mode": {
    "name": "ipython",
    "version": 3
   },
   "file_extension": ".py",
   "mimetype": "text/x-python",
   "name": "python",
   "nbconvert_exporter": "python",
   "pygments_lexer": "ipython3",
   "version": "3.8.12"
  }
 },
 "nbformat": 4,
 "nbformat_minor": 5
}

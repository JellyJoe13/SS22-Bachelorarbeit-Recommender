{
 "cells": [
  {
   "cell_type": "markdown",
   "id": "88dfcaf2-795d-4ef0-a23f-8f8b7752cc8a",
   "metadata": {},
   "source": [
    "# Baseline Recommender"
   ]
  },
  {
   "cell_type": "markdown",
   "id": "a4742eec-6093-48de-b24c-31d08c2cf7fa",
   "metadata": {},
   "source": [
    "# Importing libraries"
   ]
  },
  {
   "cell_type": "code",
   "execution_count": 77,
   "id": "18b6c672-08d9-455f-8038-83e219d16752",
   "metadata": {},
   "outputs": [],
   "source": [
    "import pandas as pd\n",
    "import surprise\n",
    "from surprise import Reader, Dataset, SVD\n",
    "import numpy as np\n",
    "from sklearn.model_selection import GroupShuffleSplit, ShuffleSplit"
   ]
  },
  {
   "cell_type": "markdown",
   "id": "382e1a12-3cd4-48b5-a155-fc402bf03abc",
   "metadata": {},
   "source": [
    "## Data Importing"
   ]
  },
  {
   "cell_type": "code",
   "execution_count": 2,
   "id": "2f9f03b9-cc05-43b1-90e4-949b298e8a25",
   "metadata": {},
   "outputs": [
    {
     "data": {
      "text/html": [
       "<div>\n",
       "<style scoped>\n",
       "    .dataframe tbody tr th:only-of-type {\n",
       "        vertical-align: middle;\n",
       "    }\n",
       "\n",
       "    .dataframe tbody tr th {\n",
       "        vertical-align: top;\n",
       "    }\n",
       "\n",
       "    .dataframe thead th {\n",
       "        text-align: right;\n",
       "    }\n",
       "</style>\n",
       "<table border=\"1\" class=\"dataframe\">\n",
       "  <thead>\n",
       "    <tr style=\"text-align: right;\">\n",
       "      <th></th>\n",
       "      <th>aid</th>\n",
       "      <th>cid</th>\n",
       "      <th>smiles</th>\n",
       "      <th>activity</th>\n",
       "    </tr>\n",
       "  </thead>\n",
       "  <tbody>\n",
       "    <tr>\n",
       "      <th>0</th>\n",
       "      <td>891</td>\n",
       "      <td>3232584</td>\n",
       "      <td>CCNC1=NC=C2C(=N1)N(C(=O)C(=N2)C3=CC=CC(=C3)C#N...</td>\n",
       "      <td>active</td>\n",
       "    </tr>\n",
       "    <tr>\n",
       "      <th>1</th>\n",
       "      <td>891</td>\n",
       "      <td>3232585</td>\n",
       "      <td>COC1=CC=C(C=C1)OC2=NC=C3C(=N2)N(C(=O)C(=N3)C4=...</td>\n",
       "      <td>inactive</td>\n",
       "    </tr>\n",
       "    <tr>\n",
       "      <th>2</th>\n",
       "      <td>891</td>\n",
       "      <td>3232587</td>\n",
       "      <td>COC1=CC=CC=C1C2=NC3=CC=CC=C3C(=N2)NCC4=CC=CC=C4</td>\n",
       "      <td>active</td>\n",
       "    </tr>\n",
       "    <tr>\n",
       "      <th>3</th>\n",
       "      <td>891</td>\n",
       "      <td>3232589</td>\n",
       "      <td>C1CN(CCC12CCN(CC2)C(=O)OC3=CC=CC=C3)C4=CC=CC=C4</td>\n",
       "      <td>inactive</td>\n",
       "    </tr>\n",
       "    <tr>\n",
       "      <th>4</th>\n",
       "      <td>891</td>\n",
       "      <td>3232590</td>\n",
       "      <td>COCCN1C2=NC(=NC=C2N=C(C1=O)C3=CC=CC(=C3)C#N)N4...</td>\n",
       "      <td>inactive</td>\n",
       "    </tr>\n",
       "  </tbody>\n",
       "</table>\n",
       "</div>"
      ],
      "text/plain": [
       "   aid      cid                                             smiles  activity\n",
       "0  891  3232584  CCNC1=NC=C2C(=N1)N(C(=O)C(=N2)C3=CC=CC(=C3)C#N...    active\n",
       "1  891  3232585  COC1=CC=C(C=C1)OC2=NC=C3C(=N2)N(C(=O)C(=N3)C4=...  inactive\n",
       "2  891  3232587    COC1=CC=CC=C1C2=NC3=CC=CC=C3C(=N2)NCC4=CC=CC=C4    active\n",
       "3  891  3232589    C1CN(CCC12CCN(CC2)C(=O)OC3=CC=CC=C3)C4=CC=CC=C4  inactive\n",
       "4  891  3232590  COCCN1C2=NC(=NC=C2N=C(C1=O)C3=CC=CC(=C3)C#N)N4...  inactive"
      ]
     },
     "execution_count": 2,
     "metadata": {},
     "output_type": "execute_result"
    }
   ],
   "source": [
    "df = pd.read_csv(\"df_assay_entries.csv\")\n",
    "df.head()"
   ]
  },
  {
   "cell_type": "code",
   "execution_count": 3,
   "id": "ffa806aa-59b2-4c4b-8392-00725e695d86",
   "metadata": {},
   "outputs": [
    {
     "data": {
      "text/plain": [
       "41620091"
      ]
     },
     "execution_count": 3,
     "metadata": {},
     "output_type": "execute_result"
    }
   ],
   "source": [
    "# check size of imported data\n",
    "len(df)"
   ]
  },
  {
   "cell_type": "code",
   "execution_count": 40,
   "id": "8680b43d-aae0-419a-80bf-2a9ed98983a1",
   "metadata": {},
   "outputs": [],
   "source": [
    "test = df['cid'].to_numpy()"
   ]
  },
  {
   "cell_type": "markdown",
   "id": "1330aad7-ac49-412e-a6c5-879256c4b48c",
   "metadata": {},
   "source": [
    "## Data Converting"
   ]
  },
  {
   "cell_type": "code",
   "execution_count": 104,
   "id": "8beec075-1b9b-46f9-bf84-92a38d4bc5e9",
   "metadata": {},
   "outputs": [],
   "source": [
    "def data_transform_split(data_mode:int, split_mode:int=0, path:str=\"df_assay_entries.csv\"):\n",
    "    '''\n",
    "    A function that turns the pandas data into test and trainset data in which the mode determines which type of train test splitting is done.\n",
    "    Parameters\n",
    "    ----------\n",
    "    data_mode : int\n",
    "        defines if the desired output is a surprise data package (0) or the torch_geometric data (1)\n",
    "    path : str (optional)\n",
    "        path and filename of the csv containing the chemistry dataset\n",
    "    split_mode : int (optional)\n",
    "        determines which split mode is used: 0=random split entries, 1=moleculewise, 2=assaywise\n",
    "    \n",
    "    Returns in case of data_mode=0\n",
    "    ------------------------------\n",
    "    trainset : surprise Trainset class\n",
    "        Contains the data to train on\n",
    "    testset : list of tuples with format (aid, cid, rating)\n",
    "        Contains the data to test the Recomender algorithm on\n",
    "    '''\n",
    "    # assert split_mode is within accepted range\n",
    "    assert split_mode>=0\n",
    "    assert split_mode<=2\n",
    "    # assert data_mode is within accepted range\n",
    "    assert data_mode>=0\n",
    "    assert data_mode<=1\n",
    "    # import data\n",
    "    df = pd.read_csv(path)\n",
    "    # define empty split variable for differing split types of groupwise and randomwise splitting\n",
    "    split = None\n",
    "    #separation of split methods\n",
    "    if split_mode==0:\n",
    "        splitparam = df['cid'].to_numpy()\n",
    "        split = ShuffleSplit(n_splits=1, random_state=0, test_size=0.2, train_size=None).split(splitparam, None)\n",
    "    else:\n",
    "        splitparam = None\n",
    "        # mode 1 or 2 decides wheter the split will be with cid or aid\n",
    "        if split_mode==1:\n",
    "            splitparam = df['cid'].to_numpy()\n",
    "        else:\n",
    "            splitparam = df['aid'].to_numpy()\n",
    "        # get the split test and train set as ids in numpy arrays\n",
    "        split = GroupShuffleSplit(n_splits=1, random_state=0, test_size=0.2, train_size=None).split(splitparam, None, groups=splitparam)\n",
    "    # unpack split index arrays from generator class in split\n",
    "    test_ind = None\n",
    "    train_ind = None\n",
    "    for i,j in split:\n",
    "        train_ind = i\n",
    "        test_ind = j\n",
    "    # now we have the indexes of the split data. Left to do is use this and create the data package of choice \n",
    "    if data_mode==0:\n",
    "        #data mode of surprise package\n",
    "        # here we need to remodel the column activity to 0 and 1 boolean entries\n",
    "        df['rating']=df['activity'].map(lambda x: int(x=='active'))\n",
    "        # define reader to convert pandas dataframe to surprise package\n",
    "        reader = Reader(rating_scale=(0,1))\n",
    "        # convert dataset importing only the entries from trainset index list using the iloc function\n",
    "        trainset = Dataset.load_from_df(df.iloc[train_ind][['aid', 'cid', 'rating']], reader).build_full_trainset()\n",
    "        testset = Dataset.load_from_df(df.iloc[test_ind][['aid', 'cid', 'rating']], reader).build_full_trainset().build_testset()\n",
    "        return trainset, testset\n",
    "    else:\n",
    "        # build GNN edge set\n",
    "        return None"
   ]
  },
  {
   "cell_type": "code",
   "execution_count": 105,
   "id": "4a1ef2b1-63e1-49d0-9dd9-0d4973ed242e",
   "metadata": {},
   "outputs": [],
   "source": [
    "test, train = data_transform_split(0)"
   ]
  },
  {
   "cell_type": "code",
   "execution_count": 108,
   "id": "421a9989-5ad9-4129-8a68-47f03c879ff6",
   "metadata": {},
   "outputs": [
    {
     "data": {
      "text/plain": [
       "33296072"
      ]
     },
     "execution_count": 108,
     "metadata": {},
     "output_type": "execute_result"
    }
   ],
   "source": [
    "test.n_ratings"
   ]
  },
  {
   "cell_type": "code",
   "execution_count": 112,
   "id": "52e88579-f7e8-4469-af0c-4ca692f7c485",
   "metadata": {},
   "outputs": [
    {
     "data": {
      "text/plain": [
       "122449"
      ]
     },
     "execution_count": 112,
     "metadata": {},
     "output_type": "execute_result"
    }
   ],
   "source": [
    "count = 0\n",
    "for i in train:\n",
    "    if int(i[2])==1:\n",
    "        count += 1\n",
    "count"
   ]
  }
 ],
 "metadata": {
  "kernelspec": {
   "display_name": "Python [conda env:Bachelorarbeit] *",
   "language": "python",
   "name": "conda-env-Bachelorarbeit-py"
  },
  "language_info": {
   "codemirror_mode": {
    "name": "ipython",
    "version": 3
   },
   "file_extension": ".py",
   "mimetype": "text/x-python",
   "name": "python",
   "nbconvert_exporter": "python",
   "pygments_lexer": "ipython3",
   "version": "3.8.12"
  }
 },
 "nbformat": 4,
 "nbformat_minor": 5
}

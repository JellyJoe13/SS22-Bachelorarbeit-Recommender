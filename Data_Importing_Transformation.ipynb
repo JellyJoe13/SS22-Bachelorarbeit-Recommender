{
 "cells": [
  {
   "cell_type": "markdown",
   "id": "88dfcaf2-795d-4ef0-a23f-8f8b7752cc8a",
   "metadata": {},
   "source": [
    "# Baseline Recommender"
   ]
  },
  {
   "cell_type": "markdown",
   "id": "a4742eec-6093-48de-b24c-31d08c2cf7fa",
   "metadata": {},
   "source": [
    "# Importing libraries"
   ]
  },
  {
   "cell_type": "code",
   "execution_count": 156,
   "id": "18b6c672-08d9-455f-8038-83e219d16752",
   "metadata": {},
   "outputs": [],
   "source": [
    "import pandas as pd\n",
    "import surprise\n",
    "from surprise import Reader, Dataset, SVD\n",
    "import numpy as np\n",
    "from sklearn.model_selection import GroupShuffleSplit, ShuffleSplit\n",
    "import torch\n",
    "from torch_geometric.data import Data"
   ]
  },
  {
   "cell_type": "markdown",
   "id": "382e1a12-3cd4-48b5-a155-fc402bf03abc",
   "metadata": {},
   "source": [
    "## Data Importing"
   ]
  },
  {
   "cell_type": "code",
   "execution_count": 2,
   "id": "2f9f03b9-cc05-43b1-90e4-949b298e8a25",
   "metadata": {},
   "outputs": [
    {
     "data": {
      "text/html": [
       "<div>\n",
       "<style scoped>\n",
       "    .dataframe tbody tr th:only-of-type {\n",
       "        vertical-align: middle;\n",
       "    }\n",
       "\n",
       "    .dataframe tbody tr th {\n",
       "        vertical-align: top;\n",
       "    }\n",
       "\n",
       "    .dataframe thead th {\n",
       "        text-align: right;\n",
       "    }\n",
       "</style>\n",
       "<table border=\"1\" class=\"dataframe\">\n",
       "  <thead>\n",
       "    <tr style=\"text-align: right;\">\n",
       "      <th></th>\n",
       "      <th>aid</th>\n",
       "      <th>cid</th>\n",
       "      <th>smiles</th>\n",
       "      <th>activity</th>\n",
       "    </tr>\n",
       "  </thead>\n",
       "  <tbody>\n",
       "    <tr>\n",
       "      <th>0</th>\n",
       "      <td>891</td>\n",
       "      <td>3232584</td>\n",
       "      <td>CCNC1=NC=C2C(=N1)N(C(=O)C(=N2)C3=CC=CC(=C3)C#N...</td>\n",
       "      <td>active</td>\n",
       "    </tr>\n",
       "    <tr>\n",
       "      <th>1</th>\n",
       "      <td>891</td>\n",
       "      <td>3232585</td>\n",
       "      <td>COC1=CC=C(C=C1)OC2=NC=C3C(=N2)N(C(=O)C(=N3)C4=...</td>\n",
       "      <td>inactive</td>\n",
       "    </tr>\n",
       "    <tr>\n",
       "      <th>2</th>\n",
       "      <td>891</td>\n",
       "      <td>3232587</td>\n",
       "      <td>COC1=CC=CC=C1C2=NC3=CC=CC=C3C(=N2)NCC4=CC=CC=C4</td>\n",
       "      <td>active</td>\n",
       "    </tr>\n",
       "    <tr>\n",
       "      <th>3</th>\n",
       "      <td>891</td>\n",
       "      <td>3232589</td>\n",
       "      <td>C1CN(CCC12CCN(CC2)C(=O)OC3=CC=CC=C3)C4=CC=CC=C4</td>\n",
       "      <td>inactive</td>\n",
       "    </tr>\n",
       "    <tr>\n",
       "      <th>4</th>\n",
       "      <td>891</td>\n",
       "      <td>3232590</td>\n",
       "      <td>COCCN1C2=NC(=NC=C2N=C(C1=O)C3=CC=CC(=C3)C#N)N4...</td>\n",
       "      <td>inactive</td>\n",
       "    </tr>\n",
       "  </tbody>\n",
       "</table>\n",
       "</div>"
      ],
      "text/plain": [
       "   aid      cid                                             smiles  activity\n",
       "0  891  3232584  CCNC1=NC=C2C(=N1)N(C(=O)C(=N2)C3=CC=CC(=C3)C#N...    active\n",
       "1  891  3232585  COC1=CC=C(C=C1)OC2=NC=C3C(=N2)N(C(=O)C(=N3)C4=...  inactive\n",
       "2  891  3232587    COC1=CC=CC=C1C2=NC3=CC=CC=C3C(=N2)NCC4=CC=CC=C4    active\n",
       "3  891  3232589    C1CN(CCC12CCN(CC2)C(=O)OC3=CC=CC=C3)C4=CC=CC=C4  inactive\n",
       "4  891  3232590  COCCN1C2=NC(=NC=C2N=C(C1=O)C3=CC=CC(=C3)C#N)N4...  inactive"
      ]
     },
     "execution_count": 2,
     "metadata": {},
     "output_type": "execute_result"
    }
   ],
   "source": [
    "df = pd.read_csv(\"df_assay_entries.csv\")\n",
    "df.head()"
   ]
  },
  {
   "cell_type": "code",
   "execution_count": 3,
   "id": "ffa806aa-59b2-4c4b-8392-00725e695d86",
   "metadata": {},
   "outputs": [
    {
     "data": {
      "text/plain": [
       "41620091"
      ]
     },
     "execution_count": 3,
     "metadata": {},
     "output_type": "execute_result"
    }
   ],
   "source": [
    "# check size of imported data\n",
    "len(df)"
   ]
  },
  {
   "cell_type": "code",
   "execution_count": 40,
   "id": "8680b43d-aae0-419a-80bf-2a9ed98983a1",
   "metadata": {},
   "outputs": [],
   "source": [
    "test = df['cid'].to_numpy()"
   ]
  },
  {
   "cell_type": "markdown",
   "id": "1330aad7-ac49-412e-a6c5-879256c4b48c",
   "metadata": {},
   "source": [
    "## Data Converting"
   ]
  },
  {
   "cell_type": "code",
   "execution_count": 166,
   "id": "8beec075-1b9b-46f9-bf84-92a38d4bc5e9",
   "metadata": {},
   "outputs": [],
   "source": [
    "def data_transform_split(data_mode:int, split_mode:int=0, path:str=\"df_assay_entries.csv\"):\n",
    "    '''\n",
    "    A function that turns the pandas data into test and trainset data in which the mode determines which type of train test splitting is done.\n",
    "    Parameters\n",
    "    ----------\n",
    "    data_mode : int\n",
    "        defines if the desired output is a surprise data package (0) or the torch_geometric data (1)\n",
    "    path : str (optional)\n",
    "        path and filename of the csv containing the chemistry dataset\n",
    "    split_mode : int (optional)\n",
    "        determines which split mode is used: 0=random split entries, 1=moleculewise, 2=assaywise\n",
    "    \n",
    "    Returns in case of data_mode=0\n",
    "    ------------------------------\n",
    "    trainset : surprise Trainset class\n",
    "        Contains the data to train on\n",
    "    testset : list of tuples with format (aid, cid, rating)\n",
    "        Contains the data to test the Recomender algorithm on\n",
    "    '''\n",
    "    # assert split_mode is within accepted range\n",
    "    assert split_mode>=0\n",
    "    assert split_mode<=2\n",
    "    # assert data_mode is within accepted range\n",
    "    assert data_mode>=0\n",
    "    assert data_mode<=1\n",
    "    # import data\n",
    "    df = pd.read_csv(path)\n",
    "    # define empty split variable for differing split types of groupwise and randomwise splitting\n",
    "    split = None\n",
    "    #separation of split methods\n",
    "    if split_mode==0:\n",
    "        splitparam = df['cid'].to_numpy()\n",
    "        split = ShuffleSplit(n_splits=1, random_state=0, test_size=0.2, train_size=None).split(splitparam, None)\n",
    "    else:\n",
    "        splitparam = None\n",
    "        # mode 1 or 2 decides wheter the split will be with cid or aid\n",
    "        if split_mode==1:\n",
    "            splitparam = df['cid'].to_numpy()\n",
    "        else:\n",
    "            splitparam = df['aid'].to_numpy()\n",
    "        # get the split test and train set as ids in numpy arrays\n",
    "        split = GroupShuffleSplit(n_splits=1, random_state=0, test_size=0.2, train_size=None).split(splitparam, None, groups=splitparam)\n",
    "    # unpack split index arrays from generator class in split\n",
    "    test_ind = None\n",
    "    train_ind = None\n",
    "    for i,j in split:\n",
    "        train_ind = i\n",
    "        test_ind = j\n",
    "    # now we have the indexes of the split data. Left to do is use this and create the data package of choice \n",
    "    if data_mode==0:\n",
    "        #data mode of surprise package\n",
    "        # here we need to remodel the column activity to 0 and 1 boolean entries\n",
    "        df['rating']=df['activity'].map(lambda x: int(x=='active'))\n",
    "        # define reader to convert pandas dataframe to surprise package\n",
    "        reader = Reader(rating_scale=(0,1))\n",
    "        # convert dataset importing only the entries from trainset index list using the iloc function\n",
    "        trainset = Dataset.load_from_df(df.iloc[train_ind][['aid', 'cid', 'rating']], reader).build_full_trainset()\n",
    "        testset = Dataset.load_from_df(df.iloc[test_ind][['aid', 'cid', 'rating']], reader).build_full_trainset().build_testset()\n",
    "        return trainset, testset\n",
    "    else:\n",
    "        # build GNN edge set\n",
    "        # we need to unify the cid and aid to one id set so that the ids for pytorch geometric are unique\n",
    "        # ID TRANSLATION PART\n",
    "        # count the number of aid's\n",
    "        aid_count = np.unique(df['aid'].to_numpy()).shape[0]\n",
    "        # count the number of cid's\n",
    "        cid_count = np.unique(df['cid'].to_numpy()).shape[0]\n",
    "        # create aid translation dictionary\n",
    "        a = np.sort(np.unique(df['aid'].to_numpy()))\n",
    "        a_n = np.arange(aid_count)\n",
    "        aid_translation_dictionary = {a[i]:a_n[i] for i in range(aid_count)}\n",
    "        # create cid translation dictionary\n",
    "        c = np.sort(np.unique(df['cid'].to_numpy()))\n",
    "        c_n = np.arange(aid_count, cid_count)\n",
    "        cid_translation_dictionary = {c[i]:c_n[i] for i in range(cid_count)}\n",
    "        # PROCESSING PART\n",
    "        # the nodes in the graph are all the ids we have from aid and cid\n",
    "        # the edges are the connections between aid and cid which are ACTIVE, inactive edges do not exist in this model\n",
    "        # filter dataset to only active relations with df[df.activity=='active']\n",
    "        # space needed for the edges in array. *2 because we need to have 2 edges per entry signaling an undirected edge\n",
    "        active_count = df[df.activity=='active'].size*2\n",
    "        # initialize the edges array\n",
    "        edges = np.zeros(shape=(2,active_count))\n",
    "        # create marker for current position in array\n",
    "        marker = 0\n",
    "        # iterate over the rows and enter the edges in the array\n",
    "        for index, row in df[df.activity=='active'].iterrows():\n",
    "            # find mapped cid\n",
    "            mcid = cid_translation_dictionary[row.cid]\n",
    "            # find mapped aid\n",
    "            maid = aid_translation_dictionary[row.aid]\n",
    "            # input one directed edge\n",
    "            edges[0, marker]=mcid\n",
    "            edges[1, marker]=maid\n",
    "            marker += 1\n",
    "            # input other directed edge\n",
    "            edges[0, marker]=maid\n",
    "            edges[1, marker]=mcid\n",
    "            marker += 1\n",
    "        # transform edges to torch object\n",
    "        edges = torch.tensor(edges, dtype=torch.long)\n",
    "        # TODO \n",
    "        # do here something with SMILES and rdkit\n",
    "        # create pytorch geometric Data object\n",
    "        data = Data(edge_index=edges)\n",
    "        # TODO\n",
    "        # test and training mask/pos edge, neg edge...\n",
    "        # create Dataset\n",
    "        return None"
   ]
  },
  {
   "cell_type": "code",
   "execution_count": 105,
   "id": "4a1ef2b1-63e1-49d0-9dd9-0d4973ed242e",
   "metadata": {},
   "outputs": [],
   "source": [
    "test, train = data_transform_split(0)"
   ]
  },
  {
   "cell_type": "code",
   "execution_count": 108,
   "id": "421a9989-5ad9-4129-8a68-47f03c879ff6",
   "metadata": {},
   "outputs": [
    {
     "data": {
      "text/plain": [
       "33296072"
      ]
     },
     "execution_count": 108,
     "metadata": {},
     "output_type": "execute_result"
    }
   ],
   "source": [
    "test.n_ratings"
   ]
  },
  {
   "cell_type": "code",
   "execution_count": 115,
   "id": "52e88579-f7e8-4469-af0c-4ca692f7c485",
   "metadata": {},
   "outputs": [
    {
     "data": {
      "text/plain": [
       "False"
      ]
     },
     "execution_count": 115,
     "metadata": {},
     "output_type": "execute_result"
    }
   ],
   "source": [
    "count = False\n",
    "for i in train:\n",
    "    if not count and int(i[0])==1:\n",
    "        count=True\n",
    "count"
   ]
  },
  {
   "cell_type": "code",
   "execution_count": 125,
   "id": "39a9c6c1-6b37-4bce-88fa-a5451230e040",
   "metadata": {},
   "outputs": [],
   "source": [
    "n = df['aid'].to_numpy()"
   ]
  },
  {
   "cell_type": "code",
   "execution_count": 128,
   "id": "19c2ceab-7ba5-486b-937c-114701a8aa09",
   "metadata": {},
   "outputs": [],
   "source": [
    "n1 = np.sort(np.unique(n))"
   ]
  },
  {
   "cell_type": "code",
   "execution_count": 129,
   "id": "07d77e83-c17f-49cf-8a18-56b3a818533f",
   "metadata": {},
   "outputs": [
    {
     "data": {
      "text/plain": [
       "(2481,)"
      ]
     },
     "execution_count": 129,
     "metadata": {},
     "output_type": "execute_result"
    }
   ],
   "source": [
    "n1.shape"
   ]
  },
  {
   "cell_type": "code",
   "execution_count": 131,
   "id": "e20450b7-792c-4dbe-8289-943bce192a9d",
   "metadata": {},
   "outputs": [
    {
     "data": {
      "text/plain": [
       "array([        4,         6,        11, ..., 146170511, 146170512,\n",
       "       146170513], dtype=int64)"
      ]
     },
     "execution_count": 131,
     "metadata": {},
     "output_type": "execute_result"
    }
   ],
   "source": [
    "c"
   ]
  },
  {
   "cell_type": "code",
   "execution_count": 132,
   "id": "0f54581c-40d5-42a1-bc60-e7f4a2c3eac6",
   "metadata": {},
   "outputs": [
    {
     "data": {
      "text/plain": [
       "(455079,)"
      ]
     },
     "execution_count": 132,
     "metadata": {},
     "output_type": "execute_result"
    }
   ],
   "source": [
    "c.shape"
   ]
  },
  {
   "cell_type": "code",
   "execution_count": 134,
   "id": "80bc863a-9a25-4946-a902-7f9402ea626b",
   "metadata": {},
   "outputs": [
    {
     "data": {
      "text/plain": [
       "2481"
      ]
     },
     "execution_count": 134,
     "metadata": {},
     "output_type": "execute_result"
    }
   ],
   "source": [
    "aid_count = np.unique(df['aid'].to_numpy()).shape[0]\n",
    "aid_count"
   ]
  },
  {
   "cell_type": "code",
   "execution_count": null,
   "id": "fcc2bf02-9dc0-41fe-a11f-09aee6c086e9",
   "metadata": {},
   "outputs": [],
   "source": [
    "cid_count"
   ]
  },
  {
   "cell_type": "code",
   "execution_count": 135,
   "id": "f4e143d3-5213-4f41-83ba-316c8e09e851",
   "metadata": {},
   "outputs": [
    {
     "data": {
      "text/html": [
       "<div>\n",
       "<style scoped>\n",
       "    .dataframe tbody tr th:only-of-type {\n",
       "        vertical-align: middle;\n",
       "    }\n",
       "\n",
       "    .dataframe tbody tr th {\n",
       "        vertical-align: top;\n",
       "    }\n",
       "\n",
       "    .dataframe thead th {\n",
       "        text-align: right;\n",
       "    }\n",
       "</style>\n",
       "<table border=\"1\" class=\"dataframe\">\n",
       "  <thead>\n",
       "    <tr style=\"text-align: right;\">\n",
       "      <th></th>\n",
       "      <th>aid</th>\n",
       "      <th>cid</th>\n",
       "      <th>smiles</th>\n",
       "      <th>activity</th>\n",
       "      <th>rating</th>\n",
       "    </tr>\n",
       "  </thead>\n",
       "  <tbody>\n",
       "    <tr>\n",
       "      <th>0</th>\n",
       "      <td>891</td>\n",
       "      <td>3232584</td>\n",
       "      <td>CCNC1=NC=C2C(=N1)N(C(=O)C(=N2)C3=CC=CC(=C3)C#N...</td>\n",
       "      <td>active</td>\n",
       "      <td>1</td>\n",
       "    </tr>\n",
       "    <tr>\n",
       "      <th>2</th>\n",
       "      <td>891</td>\n",
       "      <td>3232587</td>\n",
       "      <td>COC1=CC=CC=C1C2=NC3=CC=CC=C3C(=N2)NCC4=CC=CC=C4</td>\n",
       "      <td>active</td>\n",
       "      <td>1</td>\n",
       "    </tr>\n",
       "    <tr>\n",
       "      <th>7</th>\n",
       "      <td>891</td>\n",
       "      <td>3232595</td>\n",
       "      <td>C1OC2=C(O1)C=C(C=C2)C3=CN=CN=C3NCC4=CC=CC=C4</td>\n",
       "      <td>active</td>\n",
       "      <td>1</td>\n",
       "    </tr>\n",
       "    <tr>\n",
       "      <th>9</th>\n",
       "      <td>891</td>\n",
       "      <td>3232600</td>\n",
       "      <td>COC1=CC2=C(C=C1)NC=C2CCNC3=NC(=NC=C3)C4=COC=C4</td>\n",
       "      <td>active</td>\n",
       "      <td>1</td>\n",
       "    </tr>\n",
       "    <tr>\n",
       "      <th>11</th>\n",
       "      <td>891</td>\n",
       "      <td>3232604</td>\n",
       "      <td>CC1=C(C(=NO1)C)C2=CC3=C(C=C2)N=CN=C3NCCC4=CNC5...</td>\n",
       "      <td>active</td>\n",
       "      <td>1</td>\n",
       "    </tr>\n",
       "    <tr>\n",
       "      <th>...</th>\n",
       "      <td>...</td>\n",
       "      <td>...</td>\n",
       "      <td>...</td>\n",
       "      <td>...</td>\n",
       "      <td>...</td>\n",
       "    </tr>\n",
       "    <tr>\n",
       "      <th>41620085</th>\n",
       "      <td>1479148</td>\n",
       "      <td>636397</td>\n",
       "      <td>C[C@H]1[C@H]([C@H](C[C@@H](O1)O[C@H]2C[C@@](CC...</td>\n",
       "      <td>active</td>\n",
       "      <td>1</td>\n",
       "    </tr>\n",
       "    <tr>\n",
       "      <th>41620087</th>\n",
       "      <td>1479148</td>\n",
       "      <td>4724</td>\n",
       "      <td>CC(C)(C)NCC(COC1=CC=CC=C1C2CCCC2)O</td>\n",
       "      <td>active</td>\n",
       "      <td>1</td>\n",
       "    </tr>\n",
       "    <tr>\n",
       "      <th>41620088</th>\n",
       "      <td>1479148</td>\n",
       "      <td>6708778</td>\n",
       "      <td>COC1=CC(=CC(=C1O)OC)[C@H]2[C@@H]3C(COC3=O)C(C4...</td>\n",
       "      <td>active</td>\n",
       "      <td>1</td>\n",
       "    </tr>\n",
       "    <tr>\n",
       "      <th>41620089</th>\n",
       "      <td>1479148</td>\n",
       "      <td>54728271</td>\n",
       "      <td>CC1=NN=C(O1)C(=O)NC(C)(C)C2=NC(=C(C(=O)N2C)[O-...</td>\n",
       "      <td>active</td>\n",
       "      <td>1</td>\n",
       "    </tr>\n",
       "    <tr>\n",
       "      <th>41620090</th>\n",
       "      <td>1479148</td>\n",
       "      <td>456389</td>\n",
       "      <td>C1=CC(=CC=C1C(C#N)C2=C(C=C(C=C2Cl)N3C(=O)NC(=O...</td>\n",
       "      <td>active</td>\n",
       "      <td>1</td>\n",
       "    </tr>\n",
       "  </tbody>\n",
       "</table>\n",
       "<p>612257 rows × 5 columns</p>\n",
       "</div>"
      ],
      "text/plain": [
       "              aid       cid  \\\n",
       "0             891   3232584   \n",
       "2             891   3232587   \n",
       "7             891   3232595   \n",
       "9             891   3232600   \n",
       "11            891   3232604   \n",
       "...           ...       ...   \n",
       "41620085  1479148    636397   \n",
       "41620087  1479148      4724   \n",
       "41620088  1479148   6708778   \n",
       "41620089  1479148  54728271   \n",
       "41620090  1479148    456389   \n",
       "\n",
       "                                                     smiles activity  rating  \n",
       "0         CCNC1=NC=C2C(=N1)N(C(=O)C(=N2)C3=CC=CC(=C3)C#N...   active       1  \n",
       "2           COC1=CC=CC=C1C2=NC3=CC=CC=C3C(=N2)NCC4=CC=CC=C4   active       1  \n",
       "7              C1OC2=C(O1)C=C(C=C2)C3=CN=CN=C3NCC4=CC=CC=C4   active       1  \n",
       "9            COC1=CC2=C(C=C1)NC=C2CCNC3=NC(=NC=C3)C4=COC=C4   active       1  \n",
       "11        CC1=C(C(=NO1)C)C2=CC3=C(C=C2)N=CN=C3NCCC4=CNC5...   active       1  \n",
       "...                                                     ...      ...     ...  \n",
       "41620085  C[C@H]1[C@H]([C@H](C[C@@H](O1)O[C@H]2C[C@@](CC...   active       1  \n",
       "41620087                 CC(C)(C)NCC(COC1=CC=CC=C1C2CCCC2)O   active       1  \n",
       "41620088  COC1=CC(=CC(=C1O)OC)[C@H]2[C@@H]3C(COC3=O)C(C4...   active       1  \n",
       "41620089  CC1=NN=C(O1)C(=O)NC(C)(C)C2=NC(=C(C(=O)N2C)[O-...   active       1  \n",
       "41620090  C1=CC(=CC=C1C(C#N)C2=C(C=C(C=C2Cl)N3C(=O)NC(=O...   active       1  \n",
       "\n",
       "[612257 rows x 5 columns]"
      ]
     },
     "execution_count": 135,
     "metadata": {},
     "output_type": "execute_result"
    }
   ],
   "source": [
    "df[df.activity=='active']"
   ]
  },
  {
   "cell_type": "code",
   "execution_count": 140,
   "id": "f0329580-b7dd-464d-a247-5ed3af8491bf",
   "metadata": {},
   "outputs": [],
   "source": [
    "c = np.sort(np.unique(df['cid'].to_numpy()))\n",
    "c_n = np.arange(c.shape[0])\n",
    "cid_translation_dictionary = {c[i]:c_n[i] for i in range(c.shape[0])}"
   ]
  },
  {
   "cell_type": "code",
   "execution_count": 143,
   "id": "bc915d05-4529-4391-89b2-9f5fd57a5014",
   "metadata": {},
   "outputs": [
    {
     "data": {
      "text/plain": [
       "2967"
      ]
     },
     "execution_count": 143,
     "metadata": {},
     "output_type": "execute_result"
    }
   ],
   "source": [
    "cid_translation_dictionary[7529]"
   ]
  },
  {
   "cell_type": "code",
   "execution_count": 152,
   "id": "d9dd9c1f-c2a5-4774-aa0b-6fa925688ea6",
   "metadata": {},
   "outputs": [],
   "source": [
    "# space needed for the edges in array. *2 because we need to have 2 edges per entry signaling an undirected edge\n",
    "active_count = df[df.activity=='active'].size*2\n",
    "# initialize the edges array\n",
    "edges = np.zeros(shape=(2,active_count))\n",
    "# create marker for current position in array\n",
    "marker = 0\n",
    "# iterate over the rows and enter the edges in the array\n",
    "for index, row in df[df.activity=='active'].iterrows():\n",
    "    # find mapped cid\n",
    "    mcid = cid_translation_dictionary[row.cid]\n",
    "    # find mapped aid\n",
    "    maid = aid_translation_dictionary[row.aid]\n",
    "    # input one directed edge\n",
    "    edges[0, marker]=mcid\n",
    "    edges[1, marker]=maid\n",
    "    marker += 1\n",
    "    # input other directed edge\n",
    "    edges[0, marker]=maid\n",
    "    edges[1, marker]=mcid\n",
    "    marker += 1\n",
    "# transform edges to torch object\n",
    "edges = torch.tensor(edges, dtype=torch.long)\n",
    "# TODO \n",
    "# do here something with SMILES and rdkit\n",
    "# create pytorch geometric Data object\n",
    "data = Data(edge_index=edges)\n",
    "# TODO\n",
    "# test and training mask/pos edge, neg edge..."
   ]
  },
  {
   "cell_type": "code",
   "execution_count": 154,
   "id": "aaa31067-93d5-4f35-aec4-5649d26cb44e",
   "metadata": {},
   "outputs": [
    {
     "data": {
      "text/plain": [
       "185036"
      ]
     },
     "execution_count": 154,
     "metadata": {},
     "output_type": "execute_result"
    }
   ],
   "source": [
    "cid_translation_dictionary[p.cid]"
   ]
  },
  {
   "cell_type": "code",
   "execution_count": 155,
   "id": "9c64de3d-c306-4120-bff9-87c88dbee491",
   "metadata": {},
   "outputs": [
    {
     "data": {
      "text/plain": [
       "3232584"
      ]
     },
     "execution_count": 155,
     "metadata": {},
     "output_type": "execute_result"
    }
   ],
   "source": [
    "p.cid"
   ]
  },
  {
   "cell_type": "code",
   "execution_count": 157,
   "id": "901c14ff-16e1-4f2f-a09e-9b4c3db9cd5c",
   "metadata": {},
   "outputs": [],
   "source": [
    "edge_index = torch.tensor(np.array([[0, 1, 1, 2], [1, 0, 2, 1]]), dtype=torch.long)"
   ]
  },
  {
   "cell_type": "code",
   "execution_count": 158,
   "id": "ca3bc9d2-fba7-423c-9a50-bcee7bfe129a",
   "metadata": {},
   "outputs": [
    {
     "data": {
      "text/plain": [
       "tensor([[0, 1, 1, 2],\n",
       "        [1, 0, 2, 1]])"
      ]
     },
     "execution_count": 158,
     "metadata": {},
     "output_type": "execute_result"
    }
   ],
   "source": [
    "edge_index"
   ]
  },
  {
   "cell_type": "code",
   "execution_count": 159,
   "id": "24df1cef-c225-4a5a-a893-1513bf22d8c0",
   "metadata": {},
   "outputs": [
    {
     "data": {
      "text/plain": [
       "3061285"
      ]
     },
     "execution_count": 159,
     "metadata": {},
     "output_type": "execute_result"
    }
   ],
   "source": [
    "df[df.activity=='active'].size"
   ]
  },
  {
   "cell_type": "code",
   "execution_count": 163,
   "id": "855109a6-0ed3-4da0-8322-38bba2f8cc0e",
   "metadata": {},
   "outputs": [],
   "source": [
    "edges = np.zeros(shape=(2,5))"
   ]
  },
  {
   "cell_type": "code",
   "execution_count": 164,
   "id": "916f403e-c487-47b3-9db4-0ace6ebf2313",
   "metadata": {},
   "outputs": [],
   "source": [
    "edges[0,3]=4"
   ]
  },
  {
   "cell_type": "code",
   "execution_count": 165,
   "id": "ccc7f947-a135-4a40-b3aa-783a0b9821f5",
   "metadata": {},
   "outputs": [
    {
     "data": {
      "text/plain": [
       "array([[0., 0., 0., 4., 0.],\n",
       "       [0., 0., 0., 0., 0.]])"
      ]
     },
     "execution_count": 165,
     "metadata": {},
     "output_type": "execute_result"
    }
   ],
   "source": [
    "edges"
   ]
  }
 ],
 "metadata": {
  "kernelspec": {
   "display_name": "Python [conda env:Bachelorarbeit] *",
   "language": "python",
   "name": "conda-env-Bachelorarbeit-py"
  },
  "language_info": {
   "codemirror_mode": {
    "name": "ipython",
    "version": 3
   },
   "file_extension": ".py",
   "mimetype": "text/x-python",
   "name": "python",
   "nbconvert_exporter": "python",
   "pygments_lexer": "ipython3",
   "version": "3.8.12"
  }
 },
 "nbformat": 4,
 "nbformat_minor": 5
}

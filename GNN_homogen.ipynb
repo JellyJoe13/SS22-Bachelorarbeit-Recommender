{
 "cells": [
  {
   "cell_type": "markdown",
   "id": "7f7c006c-fc98-417d-ac0a-703384565eff",
   "metadata": {},
   "source": [
    "# Pytorch Geometric GNN - homogen"
   ]
  },
  {
   "cell_type": "markdown",
   "id": "4b6122bc-74cc-4bfb-be51-5bb4fda78370",
   "metadata": {},
   "source": [
    "## Import section"
   ]
  },
  {
   "cell_type": "code",
   "execution_count": 1,
   "id": "6bd44fa9-e701-4f5e-9cc8-f56d379023e7",
   "metadata": {},
   "outputs": [],
   "source": [
    "from data_gen import data_transform_split"
   ]
  },
  {
   "cell_type": "code",
   "execution_count": 192,
   "id": "6994b9f1-ad1c-431d-894d-69035d81b458",
   "metadata": {},
   "outputs": [],
   "source": [
    "import numpy as np\n",
    "import torch\n",
    "import torch.nn.functional as F\n",
    "from torch_geometric.nn import GCNConv\n",
    "import pandas as pd\n",
    "from sklearn.metrics import roc_auc_score"
   ]
  },
  {
   "cell_type": "code",
   "execution_count": 3,
   "id": "36d1e5cd-a989-4993-8c2f-9f705cda866b",
   "metadata": {},
   "outputs": [],
   "source": [
    "from torch_geometric.transforms import GCNNorm, NormalizeFeatures"
   ]
  },
  {
   "cell_type": "markdown",
   "id": "943db81f-2bfb-40d9-957a-2c3d96baa17e",
   "metadata": {},
   "source": [
    "## Section for GNN with rdkit"
   ]
  },
  {
   "cell_type": "code",
   "execution_count": 4,
   "id": "42c0553b-e128-430e-b9f1-7e73a763b662",
   "metadata": {},
   "outputs": [
    {
     "name": "stderr",
     "output_type": "stream",
     "text": [
      "D:\\DATEN\\Bachelorarbeit\\data_gen.py:55: SettingWithCopyWarning: \n",
      "A value is trying to be set on a copy of a slice from a DataFrame.\n",
      "Try using .loc[row_indexer,col_indexer] = value instead\n",
      "\n",
      "See the caveats in the documentation: https://pandas.pydata.org/pandas-docs/stable/user_guide/indexing.html#returning-a-view-versus-a-copy\n",
      "  df['id_1']=df['aid'].map(lambda x: aid_translation_dictionary[x])\n",
      "D:\\DATEN\\Bachelorarbeit\\data_gen.py:56: SettingWithCopyWarning: \n",
      "A value is trying to be set on a copy of a slice from a DataFrame.\n",
      "Try using .loc[row_indexer,col_indexer] = value instead\n",
      "\n",
      "See the caveats in the documentation: https://pandas.pydata.org/pandas-docs/stable/user_guide/indexing.html#returning-a-view-versus-a-copy\n",
      "  df['id_2']=df['cid'].map(lambda x: cid_translation_dictionary[x])\n",
      "D:\\DATEN\\Bachelorarbeit\\data_gen.py:55: SettingWithCopyWarning: \n",
      "A value is trying to be set on a copy of a slice from a DataFrame.\n",
      "Try using .loc[row_indexer,col_indexer] = value instead\n",
      "\n",
      "See the caveats in the documentation: https://pandas.pydata.org/pandas-docs/stable/user_guide/indexing.html#returning-a-view-versus-a-copy\n",
      "  df['id_1']=df['aid'].map(lambda x: aid_translation_dictionary[x])\n",
      "D:\\DATEN\\Bachelorarbeit\\data_gen.py:56: SettingWithCopyWarning: \n",
      "A value is trying to be set on a copy of a slice from a DataFrame.\n",
      "Try using .loc[row_indexer,col_indexer] = value instead\n",
      "\n",
      "See the caveats in the documentation: https://pandas.pydata.org/pandas-docs/stable/user_guide/indexing.html#returning-a-view-versus-a-copy\n",
      "  df['id_2']=df['cid'].map(lambda x: cid_translation_dictionary[x])\n"
     ]
    }
   ],
   "source": [
    "data_rdkit, id_breakpoint = data_transform_split(2)"
   ]
  },
  {
   "cell_type": "code",
   "execution_count": 5,
   "id": "659caec9-0f69-4f20-8fed-17d037b7f64d",
   "metadata": {},
   "outputs": [
    {
     "data": {
      "text/plain": [
       "Data(x=[457560, 205], train_pos_edge_index=[2, 979616], train_neg_edge_index=[2, 65612424], test_pos_edge_index=[2, 244898], test_neg_edge_index=[2, 16403118])"
      ]
     },
     "execution_count": 5,
     "metadata": {},
     "output_type": "execute_result"
    }
   ],
   "source": [
    "data_rdkit"
   ]
  },
  {
   "cell_type": "code",
   "execution_count": 6,
   "id": "0c0ab54e-c1c6-461f-97e0-d0b5bfcf257e",
   "metadata": {},
   "outputs": [
    {
     "data": {
      "text/plain": [
       "205"
      ]
     },
     "execution_count": 6,
     "metadata": {},
     "output_type": "execute_result"
    }
   ],
   "source": [
    "data_rdkit.num_features"
   ]
  },
  {
   "cell_type": "code",
   "execution_count": 7,
   "id": "d94b79bc-b8c0-4604-b75d-5a69099a7181",
   "metadata": {},
   "outputs": [
    {
     "data": {
      "text/plain": [
       "tensor([[0.0000e+00, 0.0000e+00, 0.0000e+00,  ..., 7.1074e-01, 5.0734e-01,\n",
       "         2.1855e-06],\n",
       "        [0.0000e+00, 0.0000e+00, 0.0000e+00,  ..., 7.1074e-01, 5.0734e-01,\n",
       "         4.3710e-06],\n",
       "        [0.0000e+00, 0.0000e+00, 0.0000e+00,  ..., 7.1074e-01, 5.0734e-01,\n",
       "         6.5565e-06],\n",
       "        ...,\n",
       "        [5.8124e-01, 5.8124e-01, 2.1965e-02,  ..., 7.1074e-01, 6.5092e-01,\n",
       "         9.9999e-01],\n",
       "        [6.6395e-01, 6.6395e-01, 1.4381e-02,  ..., 7.4109e-01, 5.4121e-01,\n",
       "         1.0000e+00],\n",
       "        [6.0097e-01, 6.0097e-01, 5.6981e-04,  ..., 7.1074e-01, 6.0960e-01,\n",
       "         1.0000e+00]])"
      ]
     },
     "execution_count": 7,
     "metadata": {},
     "output_type": "execute_result"
    }
   ],
   "source": [
    "data_rdkit.x"
   ]
  },
  {
   "cell_type": "code",
   "execution_count": 8,
   "id": "9789de0c-4105-4541-8129-bd309f962b68",
   "metadata": {},
   "outputs": [
    {
     "data": {
      "text/plain": [
       "457560"
      ]
     },
     "execution_count": 8,
     "metadata": {},
     "output_type": "execute_result"
    }
   ],
   "source": [
    "data_rdkit.x.shape[0]"
   ]
  },
  {
   "cell_type": "markdown",
   "id": "c2ad8cf3-27f1-4412-8c76-831e32f9abf4",
   "metadata": {},
   "source": [
    "## Setup pytorch Model"
   ]
  },
  {
   "cell_type": "code",
   "execution_count": 9,
   "id": "b5f3d8d8-7294-4a5f-8d52-7f12d7e41a6a",
   "metadata": {
    "tags": []
   },
   "outputs": [],
   "source": [
    "class GNN_homogen_with_data(torch.nn.Module):\n",
    "    '''\n",
    "    basic implementation of GNN, inspired by content shown in https://antoniolonga.github.io/Pytorch_geometric_tutorials/posts/post12.html from Antionio Longa\n",
    "    '''\n",
    "    def __init__(self):\n",
    "        super(GNN_homogen_with_data, self).__init__()\n",
    "        self.conv1 = GCNConv(data.num_features, int(data.num_features/2))\n",
    "        self.conv2 = GCNConv(int(data.num_features/2), 64)\n",
    "    \n",
    "    def encode(self):\n",
    "        x = self.conv1(data.x.relu(), data.train_pos_edge_index) # first convolution layer\n",
    "        x = x.relu() # relu function for tu - disables negative values\n",
    "        x = self.conv2(x, data.train_pos_edge_index) # second convolution layer\n",
    "        return x\n",
    "    \n",
    "    def decode(self, z, pos_edge_index, neg_edge_index):\n",
    "        edge_index = torch.cat([pos_edge_index, neg_edge_index], dim=-1) #fuse pos and neg edges together\n",
    "        logits = (z[edge_index[0]] * z[edge_index[1]]).sum(dim=-1) # dot product of ... getting the mapped entries with z? z=model?\n",
    "        return logits\n",
    "    \n",
    "    def decode_all(self, z):\n",
    "        prob_adj = z @ z.t() # get adjacenticy matrix NxN\n",
    "        return (prob_adj > 0).nonzero(as_tuple=False).t() # get predicted edge_list # should this not be 0.5?"
   ]
  },
  {
   "cell_type": "code",
   "execution_count": 195,
   "id": "002b3536-95fc-4bba-8c1f-48b4cc9c439b",
   "metadata": {},
   "outputs": [
    {
     "data": {
      "text/plain": [
       "device(type='cpu')"
      ]
     },
     "execution_count": 195,
     "metadata": {},
     "output_type": "execute_result"
    }
   ],
   "source": [
    "device = torch.device('cuda' if torch.cuda.is_available() else 'cpu')\n",
    "device"
   ]
  },
  {
   "cell_type": "code",
   "execution_count": 196,
   "id": "ec4f65bb-4c06-491d-a696-2213df63f15f",
   "metadata": {},
   "outputs": [],
   "source": [
    "data = data_rdkit.to(device)\n",
    "model = GNN_homogen_with_data().to(device)\n",
    "optimizer = torch.optim.Adam(params=model.parameters())#, lr=0.01)"
   ]
  },
  {
   "cell_type": "code",
   "execution_count": 197,
   "id": "2159bca0-12ce-44bb-9f69-5e0608956f90",
   "metadata": {},
   "outputs": [],
   "source": [
    "def get_link_labels(pos_edge_index, neg_edge_index):\n",
    "    # returns a tensor:\n",
    "    # [1,1,1,1,...,0,0,0,0,0,..] with the number of ones is equel to the lenght of pos_edge_index\n",
    "    # and the number of zeros is equal to the length of neg_edge_index\n",
    "    E = pos_edge_index.size(1) + neg_edge_index.size(1)\n",
    "    link_labels = torch.zeros(E, dtype=torch.float, device=device)\n",
    "    link_labels[:pos_edge_index.size(1)] = 1.\n",
    "    return link_labels"
   ]
  },
  {
   "cell_type": "code",
   "execution_count": 204,
   "id": "8f3020ac-e020-4d0d-a6f3-1cc0d2fbda93",
   "metadata": {},
   "outputs": [
    {
     "data": {
      "text/plain": [
       "GNN_homogen_with_data(\n",
       "  (conv1): GCNConv(205, 102)\n",
       "  (conv2): GCNConv(102, 64)\n",
       ")"
      ]
     },
     "execution_count": 204,
     "metadata": {},
     "output_type": "execute_result"
    }
   ],
   "source": [
    "model.train()"
   ]
  },
  {
   "cell_type": "code",
   "execution_count": 205,
   "id": "91cada48-6008-4cc3-8354-b37b20f2eeee",
   "metadata": {},
   "outputs": [],
   "source": [
    "optimizer.zero_grad()"
   ]
  },
  {
   "cell_type": "code",
   "execution_count": 206,
   "id": "5e7067b6-bfc8-42d8-bf5c-a5e0e7399bf8",
   "metadata": {},
   "outputs": [],
   "source": [
    "z=model.encode()"
   ]
  },
  {
   "cell_type": "code",
   "execution_count": 207,
   "id": "f46cc1f1-a523-466f-915f-21a559572bec",
   "metadata": {},
   "outputs": [
    {
     "data": {
      "text/plain": [
       "tensor([[-0.0974, -0.1214, -0.0637,  ..., -0.0782, -0.0597, -0.0757],\n",
       "        [-0.0635, -0.0458, -0.0330,  ..., -0.0031, -0.0316, -0.0515],\n",
       "        [-0.0860, -0.0047,  0.0530,  ..., -0.0160,  0.0372, -0.0865],\n",
       "        ...,\n",
       "        [-0.0253, -0.0154, -0.0436,  ..., -0.0304, -0.0609,  0.0548],\n",
       "        [ 0.1037,  0.0387, -0.0903,  ..., -0.0897, -0.0034,  0.1298],\n",
       "        [ 0.0030, -0.0061, -0.0316,  ..., -0.0355, -0.0283,  0.0637]],\n",
       "       grad_fn=<AddBackward0>)"
      ]
     },
     "execution_count": 207,
     "metadata": {},
     "output_type": "execute_result"
    }
   ],
   "source": [
    "z"
   ]
  },
  {
   "cell_type": "code",
   "execution_count": 208,
   "id": "c3968784-9886-4453-aab8-5206e14698a8",
   "metadata": {},
   "outputs": [
    {
     "data": {
      "text/plain": [
       "tensor(0)"
      ]
     },
     "execution_count": 208,
     "metadata": {},
     "output_type": "execute_result"
    }
   ],
   "source": [
    "torch.isnan(z).sum()"
   ]
  },
  {
   "cell_type": "code",
   "execution_count": 209,
   "id": "fc3f3a9f-3637-4baa-9dae-7a3177e8dfbb",
   "metadata": {},
   "outputs": [
    {
     "data": {
      "text/plain": [
       "tensor([6.2329, 1.8432, 4.9308,  ..., 0.4853, 0.0889, 0.1001],\n",
       "       grad_fn=<SumBackward1>)"
      ]
     },
     "execution_count": 209,
     "metadata": {},
     "output_type": "execute_result"
    }
   ],
   "source": [
    "link_logits = model.decode(z, data.train_pos_edge_index, data.train_neg_edge_index)\n",
    "link_logits"
   ]
  },
  {
   "cell_type": "code",
   "execution_count": 210,
   "id": "ddcfc5c0-cbcc-4fb3-b8b2-2787fc8007c9",
   "metadata": {},
   "outputs": [
    {
     "data": {
      "text/plain": [
       "tensor(0)"
      ]
     },
     "execution_count": 210,
     "metadata": {},
     "output_type": "execute_result"
    }
   ],
   "source": [
    "torch.isnan(link_logits).sum()"
   ]
  },
  {
   "cell_type": "code",
   "execution_count": 211,
   "id": "5f456923-9904-4fe8-b913-6393953cd3fc",
   "metadata": {},
   "outputs": [
    {
     "data": {
      "text/plain": [
       "tensor(1028184)"
      ]
     },
     "execution_count": 211,
     "metadata": {},
     "output_type": "execute_result"
    }
   ],
   "source": [
    "(link_logits<0).sum()"
   ]
  },
  {
   "cell_type": "code",
   "execution_count": 216,
   "id": "38a8170e-bb35-4df5-b356-10aba1c36cca",
   "metadata": {},
   "outputs": [
    {
     "data": {
      "text/plain": [
       "tensor([0.9980, 0.8633, 0.9928,  ..., 0.6190, 0.5222, 0.5250],\n",
       "       grad_fn=<SigmoidBackward0>)"
      ]
     },
     "execution_count": 216,
     "metadata": {},
     "output_type": "execute_result"
    }
   ],
   "source": [
    "link_logits.sigmoid()"
   ]
  },
  {
   "cell_type": "code",
   "execution_count": 212,
   "id": "4f3465f1-a084-4668-87a6-aeaf03640c93",
   "metadata": {},
   "outputs": [
    {
     "data": {
      "text/plain": [
       "tensor([1., 1., 1.,  ..., 0., 0., 0.])"
      ]
     },
     "execution_count": 212,
     "metadata": {},
     "output_type": "execute_result"
    }
   ],
   "source": [
    "link_labels = get_link_labels(data.train_pos_edge_index, data.train_neg_edge_index)\n",
    "link_labels"
   ]
  },
  {
   "cell_type": "code",
   "execution_count": 213,
   "id": "4e9b2166-b3e8-4d61-8837-fed47df31766",
   "metadata": {},
   "outputs": [
    {
     "data": {
      "text/plain": [
       "tensor(1.0098, grad_fn=<BinaryCrossEntropyWithLogitsBackward0>)"
      ]
     },
     "execution_count": 213,
     "metadata": {},
     "output_type": "execute_result"
    }
   ],
   "source": [
    "loss = F.binary_cross_entropy_with_logits(link_logits, link_labels)\n",
    "loss"
   ]
  },
  {
   "cell_type": "code",
   "execution_count": 214,
   "id": "12c7ac81-fcdd-4f4e-bdc7-b27f130fdfcd",
   "metadata": {},
   "outputs": [],
   "source": [
    "loss.backward()"
   ]
  },
  {
   "cell_type": "code",
   "execution_count": 215,
   "id": "f1c2665a-be25-4bdc-b5e8-6e6831c1e3b6",
   "metadata": {},
   "outputs": [],
   "source": [
    "optimizer.step()"
   ]
  },
  {
   "cell_type": "code",
   "execution_count": 194,
   "id": "c07a51b6-4cb1-415e-88b9-501efcafd47c",
   "metadata": {},
   "outputs": [],
   "source": [
    "def train():\n",
    "    model.train()\n",
    "    optimizer.zero_grad()\n",
    "    link_logits = model.decode(model.encode(), data.train_pos_edge_index, data.train_neg_edge_index)\n",
    "    link_labels = get_link_labels(data.train_pos_edge_index, data.train_neg_edge_index)\n",
    "    loss = F.binary_cross_entropy_with_logits(link_logits, link_labels)\n",
    "    loss.backward()\n",
    "    optimizer.step()\n",
    "    return loss"
   ]
  },
  {
   "cell_type": "code",
   "execution_count": 193,
   "id": "2c8c46c6-9c1d-4020-8549-6a7975b21bf1",
   "metadata": {},
   "outputs": [],
   "source": [
    "@torch.no_grad()\n",
    "def test():\n",
    "    model.eval()\n",
    "    link_probs = model.decode(model.encode(), data.test_pos_edge_index, data.test_neg_edge_index).sigmoid()\n",
    "    link_labels = get_link_labels(data.test_pos_edge_index, data.test_neg_edge_index)\n",
    "    return roc_auc_score(link_labels.cpu(), link_probs.cpu())"
   ]
  },
  {
   "cell_type": "code",
   "execution_count": 198,
   "id": "1aeef478-5752-4bca-b129-e281a9d5405d",
   "metadata": {},
   "outputs": [
    {
     "name": "stdout",
     "output_type": "stream",
     "text": [
      "Epoch: 1 ; Loss: tensor(10.0603, grad_fn=<BinaryCrossEntropyWithLogitsBackward0>) ; Test ROC AUC: 0.731988258365546\n",
      "Epoch: 2 ; Loss: tensor(7.4104, grad_fn=<BinaryCrossEntropyWithLogitsBackward0>) ; Test ROC AUC: 0.737008758369764\n",
      "Epoch: 3 ; Loss: tensor(5.4159, grad_fn=<BinaryCrossEntropyWithLogitsBackward0>) ; Test ROC AUC: 0.740678341275256\n",
      "Epoch: 4 ; Loss: tensor(3.9415, grad_fn=<BinaryCrossEntropyWithLogitsBackward0>) ; Test ROC AUC: 0.741253644363905\n",
      "Epoch: 5 ; Loss: tensor(2.8895, grad_fn=<BinaryCrossEntropyWithLogitsBackward0>) ; Test ROC AUC: 0.7427462450360114\n",
      "Epoch: 6 ; Loss: tensor(2.1713, grad_fn=<BinaryCrossEntropyWithLogitsBackward0>) ; Test ROC AUC: 0.7450774385018735\n",
      "Epoch: 7 ; Loss: tensor(1.6979, grad_fn=<BinaryCrossEntropyWithLogitsBackward0>) ; Test ROC AUC: 0.748230762050184\n",
      "Epoch: 8 ; Loss: tensor(1.3939, grad_fn=<BinaryCrossEntropyWithLogitsBackward0>) ; Test ROC AUC: 0.7520375172777707\n",
      "Epoch: 9 ; Loss: tensor(1.2026, grad_fn=<BinaryCrossEntropyWithLogitsBackward0>) ; Test ROC AUC: 0.7560586955185796\n",
      "Epoch: 10 ; Loss: tensor(1.0844, grad_fn=<BinaryCrossEntropyWithLogitsBackward0>) ; Test ROC AUC: 0.7592300760991448\n"
     ]
    }
   ],
   "source": [
    "for epoch in range(1, 11):\n",
    "    loss = train()\n",
    "    roc_auc = test()\n",
    "    print(\"Epoch:\", epoch, \"; Loss:\", loss, \"; Test ROC AUC:\", roc_auc)"
   ]
  },
  {
   "cell_type": "code",
   "execution_count": 199,
   "id": "ea01e64b-6af8-4ca0-909e-675bbcd62753",
   "metadata": {},
   "outputs": [
    {
     "data": {
      "image/png": "[encoded data removed]",
      "text/plain": [
       "<Figure size 432x288 with 1 Axes>"
      ]
     },
     "metadata": {
      "needs_background": "light"
     },
     "output_type": "display_data"
    }
   ],
   "source": [
    "calc_and_plot_ROC_pyg(link_labels, link_logits)"
   ]
  },
  {
   "cell_type": "code",
   "execution_count": 200,
   "id": "f6fc17ec-85c8-454d-9d09-8ced12a5a1ca",
   "metadata": {},
   "outputs": [
    {
     "name": "stdout",
     "output_type": "stream",
     "text": [
      "precision: 0.40666125570137146 \n",
      "recall: 0.739847321075063\n"
     ]
    }
   ],
   "source": [
    "precision, recall = accuracy_precision_recall_pyg(torch.cat([data.test_pos_edge_index, data.test_neg_edge_index], dim=-1),\n",
    "                                                 link_labels, link_logits, id_breakpoint)\n",
    "print(\"precision:\", precision, \"\\nrecall:\", recall)"
   ]
  },
  {
   "cell_type": "code",
   "execution_count": 203,
   "id": "ab5ce0d6-c105-4fa3-a30f-dfeb5a13ee9b",
   "metadata": {},
   "outputs": [
    {
     "data": {
      "text/plain": [
       "tensor([0.5093, 0.5092, 0.5092,  ..., 0.5092, 0.5092, 0.5092],\n",
       "       grad_fn=<SigmoidBackward0>)"
      ]
     },
     "execution_count": 203,
     "metadata": {},
     "output_type": "execute_result"
    }
   ],
   "source": [
    "link_probs"
   ]
  },
  {
   "cell_type": "markdown",
   "id": "8d8d2a30-9088-43ff-8803-b6fd3e35afd8",
   "metadata": {},
   "source": [
    "## Beginning of accuracy section"
   ]
  },
  {
   "cell_type": "code",
   "execution_count": 123,
   "id": "b5b78695-7897-4366-bc06-1bbab40c7432",
   "metadata": {},
   "outputs": [],
   "source": [
    "from sklearn import metrics\n",
    "import matplotlib.pyplot as plt\n",
    "from collections import defaultdict"
   ]
  },
  {
   "cell_type": "code",
   "execution_count": 124,
   "id": "9fa8d597-1a61-4965-8886-c209a3c032b3",
   "metadata": {},
   "outputs": [],
   "source": [
    "def calc_and_plot_ROC_pyg(link_labels, link_logits):\n",
    "    label_prob = link_logits.sigmoid()\n",
    "    # use sklearn to get fpr and tpr\n",
    "    fpr, tpr, _ = metrics.roc_curve(link_labels.detach().numpy(), label_prob.detach().numpy())\n",
    "    # calculate the roc_auc (area under the curve)\n",
    "    roc_auc = metrics.auc(fpr, tpr)\n",
    "    # PLOT THE ROC CURVE\n",
    "    '''\n",
    "    Following code inspired/partly copied from https://scikit-learn.org/stable/auto_examples/model_selection/plot_roc.html#sphx-glr-auto-examples-model-selection-plot-roc-py\n",
    "    '''\n",
    "    plt.figure()\n",
    "    plt.plot(fpr, tpr, color=\"darkorange\", label=\"ROC curve (ROC AUC=%0.2f)\" % roc_auc)\n",
    "    plt.plot([0,1], [0,1], color=\"blue\", linestyle=\"--\")\n",
    "    plt.xlim([-0.05, 1.0])\n",
    "    plt.ylim([0.0, 1.05])\n",
    "    plt.xlabel(\"False Positive Rate\")\n",
    "    plt.ylabel(\"True Positive Rate\")\n",
    "    plt.title(\"ROC CURVE\")\n",
    "    plt.legend(loc=\"lower right\")\n",
    "    plt.show()"
   ]
  },
  {
   "cell_type": "code",
   "execution_count": 74,
   "id": "dd3edbea-3651-444d-8e7d-72f59363b695",
   "metadata": {},
   "outputs": [
    {
     "data": {
      "image/png": "[encoded data removed]",
      "text/plain": [
       "<Figure size 432x288 with 1 Axes>"
      ]
     },
     "metadata": {
      "needs_background": "light"
     },
     "output_type": "display_data"
    }
   ],
   "source": [
    "calc_and_plot_ROC_pyg(link_labels, link_logits)"
   ]
  },
  {
   "cell_type": "code",
   "execution_count": 125,
   "id": "332bd84c-90d4-40cb-81b2-411c0e4973c1",
   "metadata": {},
   "outputs": [],
   "source": [
    "def accuracy_precision_recall_pyg(edge_index, link_labels, link_logits, id_breakpoint):\n",
    "    # define function for creating precision and recall at k for each user\n",
    "    def precision_recall_at_k(edge_index, link_labels, link_logits, k, threshold, id_breakpoint):\n",
    "        # problem with duplicity of edges... fixed with double of simplelib k, then it should result in the same metrics\n",
    "        user_est_true = defaultdict(list)\n",
    "        # write user_est_true\n",
    "        for edge, true_label, pred_label in zip(edge_index.t().detach().numpy(), link_labels.detach().numpy(), link_logits.sigmoid().detach().numpy()):\n",
    "            user = None\n",
    "            # determine user. user = experiment\n",
    "            if edge[0]<id_breakpoint:\n",
    "                user = edge[0]\n",
    "            else:\n",
    "                user = edge[1]\n",
    "            # write into user_est_true\n",
    "            user_est_true[user].append((pred_label, true_label))\n",
    "\n",
    "        # create precisions and recalls dictionary\n",
    "        precisions = dict()\n",
    "        recalls = dict()\n",
    "        for uid, user_ratings in user_est_true.items():\n",
    "\n",
    "            # Sort user ratings by estimated value\n",
    "            user_ratings.sort(key=lambda x: x[0], reverse=True)\n",
    "\n",
    "            # Number of relevant items\n",
    "            n_rel = sum((true_r >= threshold) for (_, true_r) in user_ratings)\n",
    "\n",
    "            # Number of recommended items in top k\n",
    "            n_rec_k = sum((est >= threshold) for (est, _) in user_ratings[:k])\n",
    "\n",
    "            # Number of relevant and recommended items in top k\n",
    "            n_rel_and_rec_k = sum(((true_r >= threshold) and (est >= threshold))\n",
    "                                  for (est, true_r) in user_ratings[:k])\n",
    "\n",
    "            # Precision@K: Proportion of recommended items that are relevant\n",
    "            # When n_rec_k is 0, Precision is undefined. We here set it to 0.\n",
    "\n",
    "            precisions[uid] = n_rel_and_rec_k / n_rec_k if n_rec_k != 0 else 0\n",
    "\n",
    "            # Recall@K: Proportion of relevant items that are recommended\n",
    "            # When n_rel is 0, Recall is undefined. We here set it to 0.\n",
    "\n",
    "            recalls[uid] = n_rel_and_rec_k / n_rel if n_rel != 0 else 0\n",
    "        return precisions, recalls\n",
    "    # execute precision-recall function and compute average over precision and recall values\n",
    "    precision_list, recall_list = precision_recall_at_k(edge_index, link_labels, link_logits, 200, 0.5, id_breakpoint)\n",
    "    p = sum(precision_list.values())/len(precision_list)\n",
    "    r = sum(recall_list.values())/len(recall_list)\n",
    "    return p, r"
   ]
  },
  {
   "cell_type": "code",
   "execution_count": 89,
   "id": "dc1b3528-f53a-4283-b8c7-d46c76597ed5",
   "metadata": {},
   "outputs": [],
   "source": [
    "precision, recall = accuracy_precision_recall_pyg(torch.cat([data.train_pos_edge_index, data.train_neg_edge_index], dim=-1),\n",
    "                                                 link_labels, link_logits, id_breakpoint)"
   ]
  },
  {
   "cell_type": "code",
   "execution_count": 90,
   "id": "63062f9f-7e7b-4f85-a1f4-9240cc7f4b46",
   "metadata": {},
   "outputs": [
    {
     "name": "stdout",
     "output_type": "stream",
     "text": [
      "precision: 0.36884013842343405 \n",
      "recall: 0.6119862432430785\n"
     ]
    }
   ],
   "source": [
    "print(\"precision:\", precision, \"\\nrecall:\", recall)"
   ]
  },
  {
   "cell_type": "markdown",
   "id": "17e4ef0c-7949-40d5-a339-2c0e14db4f4d",
   "metadata": {},
   "source": [
    "## Testing it with test data - worst test case (manual testing section)"
   ]
  },
  {
   "cell_type": "code",
   "execution_count": 126,
   "id": "37d39a6b-b444-473f-80e7-3a0a6e9d10e6",
   "metadata": {},
   "outputs": [
    {
     "data": {
      "text/plain": [
       "GNN_homogen_with_data(\n",
       "  (conv1): GCNConv(205, 102)\n",
       "  (conv2): GCNConv(102, 64)\n",
       ")"
      ]
     },
     "execution_count": 126,
     "metadata": {},
     "output_type": "execute_result"
    }
   ],
   "source": [
    "model.eval()"
   ]
  },
  {
   "cell_type": "code",
   "execution_count": 127,
   "id": "6c75a61c-dcdd-4b03-bfb3-2051c228c133",
   "metadata": {},
   "outputs": [],
   "source": [
    "z = model.encode()"
   ]
  },
  {
   "cell_type": "code",
   "execution_count": 128,
   "id": "ac3540b9-0bb2-4a8b-8b43-64dd75d39deb",
   "metadata": {},
   "outputs": [
    {
     "data": {
      "text/plain": [
       "tensor([[-0.0330, -0.0004,  0.0117,  ..., -0.0381,  0.0109,  0.0610],\n",
       "        [-0.0330, -0.0004,  0.0116,  ..., -0.0381,  0.0109,  0.0610],\n",
       "        [-0.0330, -0.0004,  0.0116,  ..., -0.0381,  0.0109,  0.0610],\n",
       "        ...,\n",
       "        [-0.0330, -0.0004,  0.0116,  ..., -0.0381,  0.0109,  0.0610],\n",
       "        [-0.0330, -0.0004,  0.0116,  ..., -0.0381,  0.0109,  0.0610],\n",
       "        [-0.0330, -0.0004,  0.0116,  ..., -0.0381,  0.0109,  0.0610]],\n",
       "       grad_fn=<AddBackward0>)"
      ]
     },
     "execution_count": 128,
     "metadata": {},
     "output_type": "execute_result"
    }
   ],
   "source": [
    "z"
   ]
  },
  {
   "cell_type": "code",
   "execution_count": 129,
   "id": "4d5ad26f-d732-4063-8888-b5b7c1ea758d",
   "metadata": {},
   "outputs": [
    {
     "data": {
      "text/plain": [
       "tensor([0.0370, 0.0370, 0.0370,  ..., 0.0370, 0.0370, 0.0370],\n",
       "       grad_fn=<SumBackward1>)"
      ]
     },
     "execution_count": 129,
     "metadata": {},
     "output_type": "execute_result"
    }
   ],
   "source": [
    "link_logits = model.decode(z, data.test_pos_edge_index, data.test_neg_edge_index)\n",
    "link_logits"
   ]
  },
  {
   "cell_type": "code",
   "execution_count": 130,
   "id": "355dffa7-1c4a-4e59-b58e-6c4ac33c2564",
   "metadata": {},
   "outputs": [
    {
     "data": {
      "text/plain": [
       "tensor([0.5093, 0.5092, 0.5092,  ..., 0.5092, 0.5092, 0.5092],\n",
       "       grad_fn=<SigmoidBackward0>)"
      ]
     },
     "execution_count": 130,
     "metadata": {},
     "output_type": "execute_result"
    }
   ],
   "source": [
    "link_probs = link_logits.sigmoid()\n",
    "link_probs"
   ]
  },
  {
   "cell_type": "code",
   "execution_count": 137,
   "id": "6ef03fb7-39ae-4511-b391-3d9d82cafd56",
   "metadata": {
    "tags": []
   },
   "outputs": [
    {
     "data": {
      "text/plain": [
       "tensor(0.0370, grad_fn=<SelectBackward0>)"
      ]
     },
     "execution_count": 137,
     "metadata": {},
     "output_type": "execute_result"
    }
   ],
   "source": [
    "link_logits[0]"
   ]
  },
  {
   "cell_type": "code",
   "execution_count": 131,
   "id": "24dfd794-ab94-4964-ab41-fe0783888248",
   "metadata": {},
   "outputs": [
    {
     "data": {
      "text/plain": [
       "tensor(0)"
      ]
     },
     "execution_count": 131,
     "metadata": {},
     "output_type": "execute_result"
    }
   ],
   "source": [
    "(link_probs<0.5).sum()"
   ]
  },
  {
   "cell_type": "code",
   "execution_count": 132,
   "id": "38f1f423-6849-4522-af29-658cb78b7d24",
   "metadata": {},
   "outputs": [
    {
     "data": {
      "text/plain": [
       "tensor([1., 1., 1.,  ..., 0., 0., 0.])"
      ]
     },
     "execution_count": 132,
     "metadata": {},
     "output_type": "execute_result"
    }
   ],
   "source": [
    "link_labels = get_link_labels(data.test_pos_edge_index, data.test_neg_edge_index)\n",
    "link_labels"
   ]
  },
  {
   "cell_type": "code",
   "execution_count": 133,
   "id": "88ff8ea1-cccb-4ab4-b1fb-efe521ccd951",
   "metadata": {},
   "outputs": [
    {
     "data": {
      "image/png": "[encoded data removed]",
      "text/plain": [
       "<Figure size 432x288 with 1 Axes>"
      ]
     },
     "metadata": {
      "needs_background": "light"
     },
     "output_type": "display_data"
    }
   ],
   "source": [
    "calc_and_plot_ROC_pyg(link_labels, link_logits)"
   ]
  },
  {
   "cell_type": "code",
   "execution_count": 134,
   "id": "70e25b7e-2eb2-466a-af57-edb2020eabf1",
   "metadata": {},
   "outputs": [],
   "source": [
    "precision, recall = accuracy_precision_recall_pyg(torch.cat([data.test_pos_edge_index, data.test_neg_edge_index], dim=-1),\n",
    "                                                 link_labels, link_logits, id_breakpoint)"
   ]
  },
  {
   "cell_type": "code",
   "execution_count": 135,
   "id": "df9bc21e-f0d5-4776-a6f5-6ca437a44eb4",
   "metadata": {},
   "outputs": [
    {
     "name": "stdout",
     "output_type": "stream",
     "text": [
      "precision: 0.3608354276867442 \n",
      "recall: 0.6721041255977497\n"
     ]
    }
   ],
   "source": [
    "print(\"precision:\", precision, \"\\nrecall:\", recall)"
   ]
  },
  {
   "cell_type": "markdown",
   "id": "48ae788b-d81c-445f-beb9-215d92a3365e",
   "metadata": {},
   "source": [
    "## Test section 2"
   ]
  },
  {
   "cell_type": "code",
   "execution_count": 218,
   "id": "30f0f0df-cbd4-43a3-856e-ad1180bf10de",
   "metadata": {},
   "outputs": [
    {
     "data": {
      "text/plain": [
       "tensor([[-0.1414, -0.1699, -0.0718,  ..., -0.0716, -0.1209, -0.1339],\n",
       "        [-0.0779, -0.0596, -0.0362,  ..., -0.0012, -0.0550, -0.0735],\n",
       "        [-0.0961, -0.0153,  0.0493,  ..., -0.0115,  0.0200, -0.0973],\n",
       "        ...,\n",
       "        [-0.0266, -0.0262, -0.0494,  ..., -0.0315, -0.0786,  0.0398],\n",
       "        [ 0.0965,  0.0257, -0.0892,  ..., -0.0850, -0.0207,  0.1184],\n",
       "        [-0.0029, -0.0178, -0.0322,  ..., -0.0350, -0.0455,  0.0485]],\n",
       "       grad_fn=<AddBackward0>)"
      ]
     },
     "execution_count": 218,
     "metadata": {},
     "output_type": "execute_result"
    }
   ],
   "source": [
    "model.eval()\n",
    "z=model.encode()\n",
    "z"
   ]
  },
  {
   "cell_type": "code",
   "execution_count": 219,
   "id": "8536a0de-9601-4ee0-8e43-bbd53af5e966",
   "metadata": {},
   "outputs": [
    {
     "data": {
      "text/plain": [
       "tensor([0.6867, 0.7601, 0.5345,  ..., 0.7459, 0.5091, 0.5096],\n",
       "       grad_fn=<SigmoidBackward0>)"
      ]
     },
     "execution_count": 219,
     "metadata": {},
     "output_type": "execute_result"
    }
   ],
   "source": [
    "link_logits = model.decode(z, data.test_pos_edge_index, data.test_neg_edge_index)\n",
    "link_logits.sigmoid()"
   ]
  },
  {
   "cell_type": "code",
   "execution_count": 223,
   "id": "f63b8fe0-e76d-4780-a593-fb8eb96cab80",
   "metadata": {},
   "outputs": [
    {
     "data": {
      "text/plain": [
       "tensor(510480)"
      ]
     },
     "execution_count": 223,
     "metadata": {},
     "output_type": "execute_result"
    }
   ],
   "source": [
    "(link_logits.sigmoid()<0.5).sum()"
   ]
  },
  {
   "cell_type": "code",
   "execution_count": 220,
   "id": "7848ed2f-3d87-4557-8b95-60c097bc1760",
   "metadata": {},
   "outputs": [
    {
     "data": {
      "text/plain": [
       "tensor([1., 1., 1.,  ..., 0., 0., 0.])"
      ]
     },
     "execution_count": 220,
     "metadata": {},
     "output_type": "execute_result"
    }
   ],
   "source": [
    "link_labels = get_link_labels(data.test_pos_edge_index, data.test_neg_edge_index)\n",
    "link_labels"
   ]
  },
  {
   "cell_type": "code",
   "execution_count": 221,
   "id": "4a1c54b7-00db-4166-9d33-d2271ccbe382",
   "metadata": {},
   "outputs": [
    {
     "data": {
      "image/png": "[encoded data removed]",
      "text/plain": [
       "<Figure size 432x288 with 1 Axes>"
      ]
     },
     "metadata": {
      "needs_background": "light"
     },
     "output_type": "display_data"
    }
   ],
   "source": [
    "calc_and_plot_ROC_pyg(link_labels, link_logits)"
   ]
  },
  {
   "cell_type": "code",
   "execution_count": 222,
   "id": "ff31149c-4284-42db-b29f-a512456b24e9",
   "metadata": {},
   "outputs": [
    {
     "name": "stdout",
     "output_type": "stream",
     "text": [
      "precision: 0.34207395758778514 \n",
      "recall: 0.6056583577358485\n"
     ]
    }
   ],
   "source": [
    "precision, recall = accuracy_precision_recall_pyg(torch.cat([data.test_pos_edge_index, data.test_neg_edge_index], dim=-1),\n",
    "                                                 link_labels, link_logits, id_breakpoint)\n",
    "print(\"precision:\", precision, \"\\nrecall:\", recall)"
   ]
  }
 ],
 "metadata": {
  "kernelspec": {
   "display_name": "Python [conda env:Bachelorarbeit] *",
   "language": "python",
   "name": "conda-env-Bachelorarbeit-py"
  },
  "language_info": {
   "codemirror_mode": {
    "name": "ipython",
    "version": 3
   },
   "file_extension": ".py",
   "mimetype": "text/x-python",
   "name": "python",
   "nbconvert_exporter": "python",
   "pygments_lexer": "ipython3",
   "version": "3.8.12"
  }
 },
 "nbformat": 4,
 "nbformat_minor": 5
}

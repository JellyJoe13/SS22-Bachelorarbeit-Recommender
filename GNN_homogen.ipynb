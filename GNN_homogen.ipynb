{
 "cells": [
  {
   "cell_type": "markdown",
   "id": "7f7c006c-fc98-417d-ac0a-703384565eff",
   "metadata": {},
   "source": [
    "# Pytorch Geometric GNN - homogen"
   ]
  },
  {
   "cell_type": "markdown",
   "id": "4b6122bc-74cc-4bfb-be51-5bb4fda78370",
   "metadata": {},
   "source": [
    "## Import section"
   ]
  },
  {
   "cell_type": "code",
   "execution_count": 1,
   "id": "6bd44fa9-e701-4f5e-9cc8-f56d379023e7",
   "metadata": {},
   "outputs": [],
   "source": [
    "from data_gen import data_transform_split"
   ]
  },
  {
   "cell_type": "code",
   "execution_count": 2,
   "id": "6994b9f1-ad1c-431d-894d-69035d81b458",
   "metadata": {},
   "outputs": [],
   "source": [
    "import numpy as np\n",
    "import torch\n",
    "import torch.nn.functional as F\n",
    "from torch_geometric.nn import GCNConv"
   ]
  },
  {
   "cell_type": "markdown",
   "id": "943db81f-2bfb-40d9-957a-2c3d96baa17e",
   "metadata": {},
   "source": [
    "## Section for GNN with rdkit"
   ]
  },
  {
   "cell_type": "code",
   "execution_count": null,
   "id": "42c0553b-e128-430e-b9f1-7e73a763b662",
   "metadata": {},
   "outputs": [
    {
     "name": "stdout",
     "output_type": "stream",
     "text": [
      "Load CSV\n",
      "Split part\n",
      "Begin data creation part\n",
      "Build trainset\n"
     ]
    },
    {
     "data": {
      "application/vnd.jupyter.widget-view+json": {
       "model_id": "501cf7ded5984eb1a3d86a0dc58b54db",
       "version_major": 2,
       "version_minor": 0
      },
      "text/plain": [
       "0it [00:00, ?it/s]"
      ]
     },
     "metadata": {},
     "output_type": "display_data"
    },
    {
     "data": {
      "application/vnd.jupyter.widget-view+json": {
       "model_id": "3b614cf2183840b28482546e51dd8558",
       "version_major": 2,
       "version_minor": 0
      },
      "text/plain": [
       "0it [00:00, ?it/s]"
      ]
     },
     "metadata": {},
     "output_type": "display_data"
    }
   ],
   "source": [
    "data_rdkit = data_transform_split(2)"
   ]
  },
  {
   "cell_type": "code",
   "execution_count": 2,
   "id": "38aebb26-fb5e-4405-92a2-9717237bc026",
   "metadata": {},
   "outputs": [],
   "source": [
    "import pandas as pd\n",
    "df = pd.read_csv(\"df_assay_entries.csv\")"
   ]
  },
  {
   "cell_type": "code",
   "execution_count": 5,
   "id": "0a2629ac-b5b5-4002-be62-506eefd06f6d",
   "metadata": {},
   "outputs": [],
   "source": [
    "from rdkit.Chem import Descriptors, MolFromSmiles"
   ]
  },
  {
   "cell_type": "code",
   "execution_count": 3,
   "id": "64cef4c2-a483-496d-8ce0-1abb6201f176",
   "metadata": {},
   "outputs": [],
   "source": [
    "zwi = df[['cid', 'smiles']].drop_duplicates(subset=['cid'])"
   ]
  },
  {
   "cell_type": "code",
   "execution_count": 6,
   "id": "0b9167b3-f20b-4aec-b165-e16385b72d3c",
   "metadata": {},
   "outputs": [],
   "source": [
    "zwi['molecule']=zwi['smiles'].map(lambda x: MolFromSmiles(x))"
   ]
  },
  {
   "cell_type": "code",
   "execution_count": 9,
   "id": "94e3cff1-d8fc-4504-8aba-19ea6147560b",
   "metadata": {},
   "outputs": [
    {
     "ename": "KeyboardInterrupt",
     "evalue": "",
     "output_type": "error",
     "traceback": [
      "\u001b[1;31m---------------------------------------------------------------------------\u001b[0m",
      "\u001b[1;31mKeyboardInterrupt\u001b[0m                         Traceback (most recent call last)",
      "Input \u001b[1;32mIn [9]\u001b[0m, in \u001b[0;36m<module>\u001b[1;34m\u001b[0m\n\u001b[1;32m----> 1\u001b[0m zwi2 \u001b[38;5;241m=\u001b[39m \u001b[43mzwi\u001b[49m\u001b[38;5;241;43m.\u001b[39;49m\u001b[43msort_values\u001b[49m\u001b[43m(\u001b[49m\u001b[43mby\u001b[49m\u001b[38;5;241;43m=\u001b[39;49m\u001b[43m[\u001b[49m\u001b[38;5;124;43m'\u001b[39;49m\u001b[38;5;124;43mcid\u001b[39;49m\u001b[38;5;124;43m'\u001b[39;49m\u001b[43m]\u001b[49m\u001b[43m)\u001b[49m\u001b[43m[\u001b[49m\u001b[38;5;124;43m'\u001b[39;49m\u001b[38;5;124;43mmolecule\u001b[39;49m\u001b[38;5;124;43m'\u001b[39;49m\u001b[43m]\u001b[49m\u001b[38;5;241;43m.\u001b[39;49m\u001b[43mmap\u001b[49m\u001b[43m(\u001b[49m\u001b[38;5;28;43;01mlambda\u001b[39;49;00m\u001b[43m \u001b[49m\u001b[43mx\u001b[49m\u001b[43m:\u001b[49m\u001b[43m \u001b[49m\u001b[43m[\u001b[49m\u001b[43mfunc\u001b[49m\u001b[43m(\u001b[49m\u001b[43mx\u001b[49m\u001b[43m)\u001b[49m\u001b[43m \u001b[49m\u001b[38;5;28;43;01mfor\u001b[39;49;00m\u001b[43m \u001b[49m\u001b[43m_\u001b[49m\u001b[43m,\u001b[49m\u001b[43m \u001b[49m\u001b[43mfunc\u001b[49m\u001b[43m \u001b[49m\u001b[38;5;129;43;01min\u001b[39;49;00m\u001b[43m \u001b[49m\u001b[43mDescriptors\u001b[49m\u001b[38;5;241;43m.\u001b[39;49m\u001b[43mdescList\u001b[49m\u001b[43m]\u001b[49m\u001b[43m)\u001b[49m\n",
      "File \u001b[1;32m~\\Anaconda3new\\envs\\Bachelorarbeit\\lib\\site-packages\\pandas\\core\\series.py:4234\u001b[0m, in \u001b[0;36mSeries.map\u001b[1;34m(self, arg, na_action)\u001b[0m\n\u001b[0;32m   4159\u001b[0m \u001b[38;5;28;01mdef\u001b[39;00m \u001b[38;5;21mmap\u001b[39m(\u001b[38;5;28mself\u001b[39m, arg, na_action\u001b[38;5;241m=\u001b[39m\u001b[38;5;28;01mNone\u001b[39;00m) \u001b[38;5;241m-\u001b[39m\u001b[38;5;241m>\u001b[39m Series:\n\u001b[0;32m   4160\u001b[0m     \u001b[38;5;124;03m\"\"\"\u001b[39;00m\n\u001b[0;32m   4161\u001b[0m \u001b[38;5;124;03m    Map values of Series according to an input mapping or function.\u001b[39;00m\n\u001b[0;32m   4162\u001b[0m \n\u001b[1;32m   (...)\u001b[0m\n\u001b[0;32m   4232\u001b[0m \u001b[38;5;124;03m    dtype: object\u001b[39;00m\n\u001b[0;32m   4233\u001b[0m \u001b[38;5;124;03m    \"\"\"\u001b[39;00m\n\u001b[1;32m-> 4234\u001b[0m     new_values \u001b[38;5;241m=\u001b[39m \u001b[38;5;28;43mself\u001b[39;49m\u001b[38;5;241;43m.\u001b[39;49m\u001b[43m_map_values\u001b[49m\u001b[43m(\u001b[49m\u001b[43marg\u001b[49m\u001b[43m,\u001b[49m\u001b[43m \u001b[49m\u001b[43mna_action\u001b[49m\u001b[38;5;241;43m=\u001b[39;49m\u001b[43mna_action\u001b[49m\u001b[43m)\u001b[49m\n\u001b[0;32m   4235\u001b[0m     \u001b[38;5;28;01mreturn\u001b[39;00m \u001b[38;5;28mself\u001b[39m\u001b[38;5;241m.\u001b[39m_constructor(new_values, index\u001b[38;5;241m=\u001b[39m\u001b[38;5;28mself\u001b[39m\u001b[38;5;241m.\u001b[39mindex)\u001b[38;5;241m.\u001b[39m__finalize__(\n\u001b[0;32m   4236\u001b[0m         \u001b[38;5;28mself\u001b[39m, method\u001b[38;5;241m=\u001b[39m\u001b[38;5;124m\"\u001b[39m\u001b[38;5;124mmap\u001b[39m\u001b[38;5;124m\"\u001b[39m\n\u001b[0;32m   4237\u001b[0m     )\n",
      "File \u001b[1;32m~\\Anaconda3new\\envs\\Bachelorarbeit\\lib\\site-packages\\pandas\\core\\base.py:880\u001b[0m, in \u001b[0;36mIndexOpsMixin._map_values\u001b[1;34m(self, mapper, na_action)\u001b[0m\n\u001b[0;32m    877\u001b[0m         \u001b[38;5;28;01mraise\u001b[39;00m \u001b[38;5;167;01mValueError\u001b[39;00m(msg)\n\u001b[0;32m    879\u001b[0m \u001b[38;5;66;03m# mapper is a function\u001b[39;00m\n\u001b[1;32m--> 880\u001b[0m new_values \u001b[38;5;241m=\u001b[39m \u001b[43mmap_f\u001b[49m\u001b[43m(\u001b[49m\u001b[43mvalues\u001b[49m\u001b[43m,\u001b[49m\u001b[43m \u001b[49m\u001b[43mmapper\u001b[49m\u001b[43m)\u001b[49m\n\u001b[0;32m    882\u001b[0m \u001b[38;5;28;01mreturn\u001b[39;00m new_values\n",
      "File \u001b[1;32m~\\Anaconda3new\\envs\\Bachelorarbeit\\lib\\site-packages\\pandas\\_libs\\lib.pyx:2870\u001b[0m, in \u001b[0;36mpandas._libs.lib.map_infer\u001b[1;34m()\u001b[0m\n",
      "Input \u001b[1;32mIn [9]\u001b[0m, in \u001b[0;36m<lambda>\u001b[1;34m(x)\u001b[0m\n\u001b[1;32m----> 1\u001b[0m zwi2 \u001b[38;5;241m=\u001b[39m zwi\u001b[38;5;241m.\u001b[39msort_values(by\u001b[38;5;241m=\u001b[39m[\u001b[38;5;124m'\u001b[39m\u001b[38;5;124mcid\u001b[39m\u001b[38;5;124m'\u001b[39m])[\u001b[38;5;124m'\u001b[39m\u001b[38;5;124mmolecule\u001b[39m\u001b[38;5;124m'\u001b[39m]\u001b[38;5;241m.\u001b[39mmap(\u001b[38;5;28;01mlambda\u001b[39;00m x: [func(x) \u001b[38;5;28;01mfor\u001b[39;00m _, func \u001b[38;5;129;01min\u001b[39;00m Descriptors\u001b[38;5;241m.\u001b[39mdescList])\n",
      "Input \u001b[1;32mIn [9]\u001b[0m, in \u001b[0;36m<listcomp>\u001b[1;34m(.0)\u001b[0m\n\u001b[1;32m----> 1\u001b[0m zwi2 \u001b[38;5;241m=\u001b[39m zwi\u001b[38;5;241m.\u001b[39msort_values(by\u001b[38;5;241m=\u001b[39m[\u001b[38;5;124m'\u001b[39m\u001b[38;5;124mcid\u001b[39m\u001b[38;5;124m'\u001b[39m])[\u001b[38;5;124m'\u001b[39m\u001b[38;5;124mmolecule\u001b[39m\u001b[38;5;124m'\u001b[39m]\u001b[38;5;241m.\u001b[39mmap(\u001b[38;5;28;01mlambda\u001b[39;00m x: [\u001b[43mfunc\u001b[49m\u001b[43m(\u001b[49m\u001b[43mx\u001b[49m\u001b[43m)\u001b[49m \u001b[38;5;28;01mfor\u001b[39;00m _, func \u001b[38;5;129;01min\u001b[39;00m Descriptors\u001b[38;5;241m.\u001b[39mdescList])\n",
      "File \u001b[1;32m~\\Anaconda3new\\envs\\Bachelorarbeit\\lib\\site-packages\\rdkit\\Chem\\GraphDescriptors.py:124\u001b[0m, in \u001b[0;36mIpc\u001b[1;34m(mol, avg, dMat, forceDMat)\u001b[0m\n\u001b[0;32m    121\u001b[0m       mol\u001b[38;5;241m.\u001b[39m_adjMat \u001b[38;5;241m=\u001b[39m dMat\n\u001b[0;32m    123\u001b[0m adjMat \u001b[38;5;241m=\u001b[39m numpy\u001b[38;5;241m.\u001b[39mequal(dMat, \u001b[38;5;241m1\u001b[39m)\n\u001b[1;32m--> 124\u001b[0m cPoly \u001b[38;5;241m=\u001b[39m \u001b[38;5;28mabs\u001b[39m(\u001b[43mGraphs\u001b[49m\u001b[38;5;241;43m.\u001b[39;49m\u001b[43mCharacteristicPolynomial\u001b[49m\u001b[43m(\u001b[49m\u001b[43mmol\u001b[49m\u001b[43m,\u001b[49m\u001b[43m \u001b[49m\u001b[43madjMat\u001b[49m\u001b[43m)\u001b[49m)\n\u001b[0;32m    125\u001b[0m \u001b[38;5;28;01mif\u001b[39;00m avg:\n\u001b[0;32m    126\u001b[0m   \u001b[38;5;28;01mreturn\u001b[39;00m entropy\u001b[38;5;241m.\u001b[39mInfoEntropy(cPoly)\n",
      "File \u001b[1;32m~\\Anaconda3new\\envs\\Bachelorarbeit\\lib\\site-packages\\rdkit\\Chem\\Graphs.py:48\u001b[0m, in \u001b[0;36mCharacteristicPolynomial\u001b[1;34m(mol, mat)\u001b[0m\n\u001b[0;32m     46\u001b[0m     res[n] \u001b[38;5;241m=\u001b[39m \u001b[38;5;241m1.\u001b[39m \u001b[38;5;241m/\u001b[39m n \u001b[38;5;241m*\u001b[39m numpy\u001b[38;5;241m.\u001b[39mtrace(An)\n\u001b[0;32m     47\u001b[0m     Bn \u001b[38;5;241m=\u001b[39m An \u001b[38;5;241m-\u001b[39m res[n] \u001b[38;5;241m*\u001b[39m I\n\u001b[1;32m---> 48\u001b[0m     An \u001b[38;5;241m=\u001b[39m \u001b[43mnumpy\u001b[49m\u001b[38;5;241;43m.\u001b[39;49m\u001b[43mdot\u001b[49m\u001b[43m(\u001b[49m\u001b[43mA\u001b[49m\u001b[43m,\u001b[49m\u001b[43m \u001b[49m\u001b[43mBn\u001b[49m\u001b[43m)\u001b[49m\n\u001b[0;32m     50\u001b[0m res[\u001b[38;5;241m1\u001b[39m:] \u001b[38;5;241m*\u001b[39m\u001b[38;5;241m=\u001b[39m \u001b[38;5;241m-\u001b[39m\u001b[38;5;241m1\u001b[39m\n\u001b[0;32m     51\u001b[0m \u001b[38;5;28;01mreturn\u001b[39;00m res\n",
      "File \u001b[1;32m<__array_function__ internals>:5\u001b[0m, in \u001b[0;36mdot\u001b[1;34m(*args, **kwargs)\u001b[0m\n",
      "\u001b[1;31mKeyboardInterrupt\u001b[0m: "
     ]
    }
   ],
   "source": [
    "zwi2 = zwi.sort_values(by=['cid'])['molecule'].map(lambda x: [func(x) for _, func in Descriptors.descList])"
   ]
  },
  {
   "cell_type": "code",
   "execution_count": null,
   "id": "87b15d43-7113-4c20-b8a9-7505abbec800",
   "metadata": {},
   "outputs": [],
   "source": []
  }
 ],
 "metadata": {
  "kernelspec": {
   "display_name": "Python [conda env:Bachelorarbeit] *",
   "language": "python",
   "name": "conda-env-Bachelorarbeit-py"
  },
  "language_info": {
   "codemirror_mode": {
    "name": "ipython",
    "version": 3
   },
   "file_extension": ".py",
   "mimetype": "text/x-python",
   "name": "python",
   "nbconvert_exporter": "python",
   "pygments_lexer": "ipython3",
   "version": "3.8.12"
  }
 },
 "nbformat": 4,
 "nbformat_minor": 5
}

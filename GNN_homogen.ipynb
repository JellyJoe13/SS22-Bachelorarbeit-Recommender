{
 "cells": [
  {
   "cell_type": "markdown",
   "id": "7f7c006c-fc98-417d-ac0a-703384565eff",
   "metadata": {},
   "source": [
    "# Pytorch Geometric GNN - homogen"
   ]
  },
  {
   "cell_type": "markdown",
   "id": "4b6122bc-74cc-4bfb-be51-5bb4fda78370",
   "metadata": {},
   "source": [
    "## Import section"
   ]
  },
  {
   "cell_type": "code",
   "execution_count": 1,
   "id": "6bd44fa9-e701-4f5e-9cc8-f56d379023e7",
   "metadata": {},
   "outputs": [],
   "source": [
    "from data_gen import data_transform_split"
   ]
  },
  {
   "cell_type": "code",
   "execution_count": 2,
   "id": "6994b9f1-ad1c-431d-894d-69035d81b458",
   "metadata": {},
   "outputs": [],
   "source": [
    "import numpy as np\n",
    "import torch\n",
    "import torch.nn.functional as F\n",
    "from torch_geometric.nn import GCNConv\n",
    "import pandas as pd"
   ]
  },
  {
   "cell_type": "markdown",
   "id": "943db81f-2bfb-40d9-957a-2c3d96baa17e",
   "metadata": {},
   "source": [
    "## Section for GNN with rdkit"
   ]
  },
  {
   "cell_type": "code",
   "execution_count": 3,
   "id": "42c0553b-e128-430e-b9f1-7e73a763b662",
   "metadata": {},
   "outputs": [
    {
     "name": "stderr",
     "output_type": "stream",
     "text": [
      "D:\\DATEN\\Bachelorarbeit\\data_gen.py:55: SettingWithCopyWarning: \n",
      "A value is trying to be set on a copy of a slice from a DataFrame.\n",
      "Try using .loc[row_indexer,col_indexer] = value instead\n",
      "\n",
      "See the caveats in the documentation: https://pandas.pydata.org/pandas-docs/stable/user_guide/indexing.html#returning-a-view-versus-a-copy\n",
      "  df['id_1']=df['aid'].map(lambda x: aid_translation_dictionary[x])\n",
      "D:\\DATEN\\Bachelorarbeit\\data_gen.py:56: SettingWithCopyWarning: \n",
      "A value is trying to be set on a copy of a slice from a DataFrame.\n",
      "Try using .loc[row_indexer,col_indexer] = value instead\n",
      "\n",
      "See the caveats in the documentation: https://pandas.pydata.org/pandas-docs/stable/user_guide/indexing.html#returning-a-view-versus-a-copy\n",
      "  df['id_2']=df['cid'].map(lambda x: cid_translation_dictionary[x])\n",
      "D:\\DATEN\\Bachelorarbeit\\data_gen.py:55: SettingWithCopyWarning: \n",
      "A value is trying to be set on a copy of a slice from a DataFrame.\n",
      "Try using .loc[row_indexer,col_indexer] = value instead\n",
      "\n",
      "See the caveats in the documentation: https://pandas.pydata.org/pandas-docs/stable/user_guide/indexing.html#returning-a-view-versus-a-copy\n",
      "  df['id_1']=df['aid'].map(lambda x: aid_translation_dictionary[x])\n",
      "D:\\DATEN\\Bachelorarbeit\\data_gen.py:56: SettingWithCopyWarning: \n",
      "A value is trying to be set on a copy of a slice from a DataFrame.\n",
      "Try using .loc[row_indexer,col_indexer] = value instead\n",
      "\n",
      "See the caveats in the documentation: https://pandas.pydata.org/pandas-docs/stable/user_guide/indexing.html#returning-a-view-versus-a-copy\n",
      "  df['id_2']=df['cid'].map(lambda x: cid_translation_dictionary[x])\n"
     ]
    }
   ],
   "source": [
    "data_rdkit = data_transform_split(2)"
   ]
  },
  {
   "cell_type": "code",
   "execution_count": 4,
   "id": "659caec9-0f69-4f20-8fed-17d037b7f64d",
   "metadata": {},
   "outputs": [
    {
     "data": {
      "text/plain": [
       "Data(x=[457560, 208], train_pos_edge_index=[2, 979616], train_neg_edge_index=[2, 65612424], test_pos_edge_index=[2, 244898], test_neg_edge_index=[2, 16403118])"
      ]
     },
     "execution_count": 4,
     "metadata": {},
     "output_type": "execute_result"
    }
   ],
   "source": [
    "data_rdkit"
   ]
  },
  {
   "cell_type": "code",
   "execution_count": 5,
   "id": "0c0ab54e-c1c6-461f-97e0-d0b5bfcf257e",
   "metadata": {},
   "outputs": [
    {
     "data": {
      "text/plain": [
       "208"
      ]
     },
     "execution_count": 5,
     "metadata": {},
     "output_type": "execute_result"
    }
   ],
   "source": [
    "data_rdkit.num_features"
   ]
  },
  {
   "cell_type": "code",
   "execution_count": 6,
   "id": "00b6c36d-ef9f-4b24-a9b8-037aa0d5296e",
   "metadata": {},
   "outputs": [
    {
     "data": {
      "text/plain": [
       "104"
      ]
     },
     "execution_count": 6,
     "metadata": {},
     "output_type": "execute_result"
    }
   ],
   "source": [
    "int(data_rdkit.num_features/2)"
   ]
  },
  {
   "cell_type": "code",
   "execution_count": 39,
   "id": "103fadc5-3584-4745-b190-f2c425252457",
   "metadata": {},
   "outputs": [],
   "source": [
    "data_rdkit.x = torch.tensor(np.ones(shape=data_rdkit.x.shape), dtype=torch.float)"
   ]
  },
  {
   "cell_type": "markdown",
   "id": "c2ad8cf3-27f1-4412-8c76-831e32f9abf4",
   "metadata": {},
   "source": [
    "## Setup pytorch Model"
   ]
  },
  {
   "cell_type": "code",
   "execution_count": 40,
   "id": "b5f3d8d8-7294-4a5f-8d52-7f12d7e41a6a",
   "metadata": {},
   "outputs": [],
   "source": [
    "class GNN_homogen_with_data(torch.nn.Module):\n",
    "    '''\n",
    "    basic implementation of GNN, inspired by content shown in https://antoniolonga.github.io/Pytorch_geometric_tutorials/posts/post12.html from Antionio Longa\n",
    "    '''\n",
    "    def __init__(self):\n",
    "        super(GNN_homogen_with_data, self).__init__()\n",
    "        self.conv1 = GCNConv(data.num_features, int(data.num_features/2))\n",
    "        self.conv2 = GCNConv(int(data.num_features/2), 64)\n",
    "    \n",
    "    def encode(self):\n",
    "        x = self.conv1(data.x, data.train_pos_edge_index) # first convolution layer\n",
    "        x = x.relu() # relu function for tu - disables negative values\n",
    "        x = self.conv2(x, data.train_pos_edge_index) # second convolution layer\n",
    "        return x\n",
    "    \n",
    "    def decode(self, z, pos_edge_index, neg_edge_index):\n",
    "        edge_index = torch.cat([pos_edge_index, neg_edge_index], dim=-1) #fuse pos and neg edges together\n",
    "        logits = (z[edge_index[0]] * z[edge_index[1]]).sum(dim=-1) # dot product of ... getting the mapped entries with z? z=model?\n",
    "        return logits\n",
    "    \n",
    "    def decode_all(self, z):\n",
    "        prob_adj = z @ z.t() # get adjacenticy matrix NxN\n",
    "        return (prob_adj > 0).nonzero(as_tuple=False).t() # get predicted edge_list # should this not be 0.5?"
   ]
  },
  {
   "cell_type": "code",
   "execution_count": 41,
   "id": "002b3536-95fc-4bba-8c1f-48b4cc9c439b",
   "metadata": {},
   "outputs": [
    {
     "data": {
      "text/plain": [
       "device(type='cpu')"
      ]
     },
     "execution_count": 41,
     "metadata": {},
     "output_type": "execute_result"
    }
   ],
   "source": [
    "device = torch.device('cuda' if torch.cuda.is_available() else 'cpu')\n",
    "device"
   ]
  },
  {
   "cell_type": "code",
   "execution_count": 42,
   "id": "ec4f65bb-4c06-491d-a696-2213df63f15f",
   "metadata": {},
   "outputs": [],
   "source": [
    "data = data_rdkit.to(device)\n",
    "model = GNN_homogen_with_data().to(device)\n",
    "optimizer = torch.optim.Adam(params=model.parameters(), lr=0.01)"
   ]
  },
  {
   "cell_type": "code",
   "execution_count": 43,
   "id": "2159bca0-12ce-44bb-9f69-5e0608956f90",
   "metadata": {},
   "outputs": [],
   "source": [
    "def get_link_labels(pos_edge_index, neg_edge_index):\n",
    "    # returns a tensor:\n",
    "    # [1,1,1,1,...,0,0,0,0,0,..] with the number of ones is equel to the lenght of pos_edge_index\n",
    "    # and the number of zeros is equal to the length of neg_edge_index\n",
    "    E = pos_edge_index.size(1) + neg_edge_index.size(1)\n",
    "    link_labels = torch.zeros(E, dtype=torch.float, device=device)\n",
    "    link_labels[:pos_edge_index.size(1)] = 1.\n",
    "    return link_labels"
   ]
  },
  {
   "cell_type": "code",
   "execution_count": 125,
   "id": "8f3020ac-e020-4d0d-a6f3-1cc0d2fbda93",
   "metadata": {},
   "outputs": [
    {
     "data": {
      "text/plain": [
       "GNN_homogen_with_data(\n",
       "  (conv1): GCNConv(208, 104)\n",
       "  (conv2): GCNConv(104, 64)\n",
       ")"
      ]
     },
     "execution_count": 125,
     "metadata": {},
     "output_type": "execute_result"
    }
   ],
   "source": [
    "model.train()"
   ]
  },
  {
   "cell_type": "code",
   "execution_count": 126,
   "id": "91cada48-6008-4cc3-8354-b37b20f2eeee",
   "metadata": {},
   "outputs": [],
   "source": [
    "optimizer.zero_grad()"
   ]
  },
  {
   "cell_type": "code",
   "execution_count": 127,
   "id": "5e7067b6-bfc8-42d8-bf5c-a5e0e7399bf8",
   "metadata": {},
   "outputs": [],
   "source": [
    "z=model.encode()"
   ]
  },
  {
   "cell_type": "code",
   "execution_count": 128,
   "id": "f46cc1f1-a523-466f-915f-21a559572bec",
   "metadata": {},
   "outputs": [
    {
     "data": {
      "text/plain": [
       "tensor([[-0.0627, -0.0699, -0.0100,  ...,  0.0549,  0.0191, -0.0587],\n",
       "        [-0.0627, -0.0699, -0.0100,  ...,  0.0549,  0.0191, -0.0587],\n",
       "        [-0.0627, -0.0699, -0.0100,  ...,  0.0549,  0.0191, -0.0587],\n",
       "        ...,\n",
       "        [-0.0627, -0.0699, -0.0100,  ...,  0.0549,  0.0191, -0.0587],\n",
       "        [-0.0627, -0.0699, -0.0100,  ...,  0.0549,  0.0191, -0.0587],\n",
       "        [-0.0627, -0.0699, -0.0100,  ...,  0.0549,  0.0191, -0.0587]],\n",
       "       grad_fn=<AddBackward0>)"
      ]
     },
     "execution_count": 128,
     "metadata": {},
     "output_type": "execute_result"
    }
   ],
   "source": [
    "z"
   ]
  },
  {
   "cell_type": "code",
   "execution_count": 129,
   "id": "fc3f3a9f-3637-4baa-9dae-7a3177e8dfbb",
   "metadata": {},
   "outputs": [
    {
     "data": {
      "text/plain": [
       "tensor([0.0779, 0.0779, 0.0779,  ..., 0.0779, 0.0779, 0.0779],\n",
       "       grad_fn=<SumBackward1>)"
      ]
     },
     "execution_count": 129,
     "metadata": {},
     "output_type": "execute_result"
    }
   ],
   "source": [
    "link_logits = model.decode(z, data.train_pos_edge_index, data.train_neg_edge_index)\n",
    "link_logits"
   ]
  },
  {
   "cell_type": "code",
   "execution_count": 130,
   "id": "4f3465f1-a084-4668-87a6-aeaf03640c93",
   "metadata": {},
   "outputs": [
    {
     "data": {
      "text/plain": [
       "tensor([1., 1., 1.,  ..., 0., 0., 0.])"
      ]
     },
     "execution_count": 130,
     "metadata": {},
     "output_type": "execute_result"
    }
   ],
   "source": [
    "link_labels = get_link_labels(data.train_pos_edge_index, data.train_neg_edge_index)\n",
    "link_labels"
   ]
  },
  {
   "cell_type": "code",
   "execution_count": 131,
   "id": "4e9b2166-b3e8-4d61-8837-fed47df31766",
   "metadata": {},
   "outputs": [
    {
     "data": {
      "text/plain": [
       "tensor(0.7317, grad_fn=<BinaryCrossEntropyWithLogitsBackward0>)"
      ]
     },
     "execution_count": 131,
     "metadata": {},
     "output_type": "execute_result"
    }
   ],
   "source": [
    "loss = F.binary_cross_entropy_with_logits(link_logits, link_labels)\n",
    "loss"
   ]
  },
  {
   "cell_type": "code",
   "execution_count": 123,
   "id": "12c7ac81-fcdd-4f4e-bdc7-b27f130fdfcd",
   "metadata": {},
   "outputs": [],
   "source": [
    "loss.backward()"
   ]
  },
  {
   "cell_type": "code",
   "execution_count": 124,
   "id": "f1c2665a-be25-4bdc-b5e8-6e6831c1e3b6",
   "metadata": {},
   "outputs": [],
   "source": [
    "optimizer.step()"
   ]
  },
  {
   "cell_type": "code",
   "execution_count": 52,
   "id": "a4ed16cf-56cc-446d-b3a2-e199d87bfebc",
   "metadata": {},
   "outputs": [],
   "source": []
  }
 ],
 "metadata": {
  "kernelspec": {
   "display_name": "Python [conda env:Bachelorarbeit]",
   "language": "python",
   "name": "conda-env-Bachelorarbeit-py"
  },
  "language_info": {
   "codemirror_mode": {
    "name": "ipython",
    "version": 3
   },
   "file_extension": ".py",
   "mimetype": "text/x-python",
   "name": "python",
   "nbconvert_exporter": "python",
   "pygments_lexer": "ipython3",
   "version": "3.8.12"
  }
 },
 "nbformat": 4,
 "nbformat_minor": 5
}

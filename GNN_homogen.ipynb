{
 "cells": [
  {
   "cell_type": "markdown",
   "id": "7f7c006c-fc98-417d-ac0a-703384565eff",
   "metadata": {},
   "source": [
    "# Pytorch Geometric GNN - homogen"
   ]
  },
  {
   "cell_type": "markdown",
   "id": "4b6122bc-74cc-4bfb-be51-5bb4fda78370",
   "metadata": {},
   "source": [
    "## Import section"
   ]
  },
  {
   "cell_type": "code",
   "execution_count": 1,
   "id": "6bd44fa9-e701-4f5e-9cc8-f56d379023e7",
   "metadata": {},
   "outputs": [],
   "source": [
    "from data_gen import data_transform_split"
   ]
  },
  {
   "cell_type": "code",
   "execution_count": 2,
   "id": "6994b9f1-ad1c-431d-894d-69035d81b458",
   "metadata": {},
   "outputs": [],
   "source": [
    "import numpy as np\n",
    "import torch\n",
    "import torch.nn.functional as F\n",
    "from torch_geometric.nn import GCNConv\n",
    "import pandas as pd"
   ]
  },
  {
   "cell_type": "code",
   "execution_count": 71,
   "id": "36d1e5cd-a989-4993-8c2f-9f705cda866b",
   "metadata": {},
   "outputs": [],
   "source": [
    "from torch_geometric.transforms import GCNNorm, NormalizeFeatures"
   ]
  },
  {
   "cell_type": "markdown",
   "id": "943db81f-2bfb-40d9-957a-2c3d96baa17e",
   "metadata": {},
   "source": [
    "## Section for GNN with rdkit"
   ]
  },
  {
   "cell_type": "code",
   "execution_count": 3,
   "id": "42c0553b-e128-430e-b9f1-7e73a763b662",
   "metadata": {},
   "outputs": [
    {
     "name": "stderr",
     "output_type": "stream",
     "text": [
      "D:\\DATEN\\Bachelorarbeit\\data_gen.py:55: SettingWithCopyWarning: \n",
      "A value is trying to be set on a copy of a slice from a DataFrame.\n",
      "Try using .loc[row_indexer,col_indexer] = value instead\n",
      "\n",
      "See the caveats in the documentation: https://pandas.pydata.org/pandas-docs/stable/user_guide/indexing.html#returning-a-view-versus-a-copy\n",
      "  df['id_1']=df['aid'].map(lambda x: aid_translation_dictionary[x])\n",
      "D:\\DATEN\\Bachelorarbeit\\data_gen.py:56: SettingWithCopyWarning: \n",
      "A value is trying to be set on a copy of a slice from a DataFrame.\n",
      "Try using .loc[row_indexer,col_indexer] = value instead\n",
      "\n",
      "See the caveats in the documentation: https://pandas.pydata.org/pandas-docs/stable/user_guide/indexing.html#returning-a-view-versus-a-copy\n",
      "  df['id_2']=df['cid'].map(lambda x: cid_translation_dictionary[x])\n",
      "D:\\DATEN\\Bachelorarbeit\\data_gen.py:55: SettingWithCopyWarning: \n",
      "A value is trying to be set on a copy of a slice from a DataFrame.\n",
      "Try using .loc[row_indexer,col_indexer] = value instead\n",
      "\n",
      "See the caveats in the documentation: https://pandas.pydata.org/pandas-docs/stable/user_guide/indexing.html#returning-a-view-versus-a-copy\n",
      "  df['id_1']=df['aid'].map(lambda x: aid_translation_dictionary[x])\n",
      "D:\\DATEN\\Bachelorarbeit\\data_gen.py:56: SettingWithCopyWarning: \n",
      "A value is trying to be set on a copy of a slice from a DataFrame.\n",
      "Try using .loc[row_indexer,col_indexer] = value instead\n",
      "\n",
      "See the caveats in the documentation: https://pandas.pydata.org/pandas-docs/stable/user_guide/indexing.html#returning-a-view-versus-a-copy\n",
      "  df['id_2']=df['cid'].map(lambda x: cid_translation_dictionary[x])\n"
     ]
    }
   ],
   "source": [
    "data_rdkit = data_transform_split(2)"
   ]
  },
  {
   "cell_type": "code",
   "execution_count": 4,
   "id": "659caec9-0f69-4f20-8fed-17d037b7f64d",
   "metadata": {},
   "outputs": [
    {
     "data": {
      "text/plain": [
       "Data(x=[457560, 208], train_pos_edge_index=[2, 979616], train_neg_edge_index=[2, 65612424], test_pos_edge_index=[2, 244898], test_neg_edge_index=[2, 16403118])"
      ]
     },
     "execution_count": 4,
     "metadata": {},
     "output_type": "execute_result"
    }
   ],
   "source": [
    "data_rdkit"
   ]
  },
  {
   "cell_type": "code",
   "execution_count": 5,
   "id": "0c0ab54e-c1c6-461f-97e0-d0b5bfcf257e",
   "metadata": {},
   "outputs": [
    {
     "data": {
      "text/plain": [
       "208"
      ]
     },
     "execution_count": 5,
     "metadata": {},
     "output_type": "execute_result"
    }
   ],
   "source": [
    "data_rdkit.num_features"
   ]
  },
  {
   "cell_type": "code",
   "execution_count": 7,
   "id": "d94b79bc-b8c0-4604-b75d-5a69099a7181",
   "metadata": {},
   "outputs": [
    {
     "data": {
      "text/plain": [
       "tensor([[ 0.0000,  0.0000,  0.0000,  ...,  0.0000,  0.0000,  0.0000],\n",
       "        [ 0.0000,  0.0000,  0.0000,  ...,  0.0000,  0.0000,  0.0000],\n",
       "        [ 0.0000,  0.0000,  0.0000,  ...,  0.0000,  0.0000,  0.0000],\n",
       "        ...,\n",
       "        [10.1531, -2.4522, 10.1531,  ...,  0.0000,  0.0000,  0.0000],\n",
       "        [11.5979, -0.3191, 11.5979,  ...,  0.0000,  0.0000,  0.0000],\n",
       "        [10.4979, -3.0391, 10.4979,  ...,  0.0000,  0.0000,  0.0000]])"
      ]
     },
     "execution_count": 7,
     "metadata": {},
     "output_type": "execute_result"
    }
   ],
   "source": [
    "data_rdkit.x"
   ]
  },
  {
   "cell_type": "code",
   "execution_count": 9,
   "id": "9789de0c-4105-4541-8129-bd309f962b68",
   "metadata": {},
   "outputs": [
    {
     "data": {
      "text/plain": [
       "457560"
      ]
     },
     "execution_count": 9,
     "metadata": {},
     "output_type": "execute_result"
    }
   ],
   "source": [
    "data_rdkit.x.shape[0]"
   ]
  },
  {
   "cell_type": "code",
   "execution_count": 65,
   "id": "f2668cd0-cb47-401f-a16d-252c3e82e0ed",
   "metadata": {},
   "outputs": [
    {
     "data": {
      "text/plain": [
       "tensor(7)"
      ]
     },
     "execution_count": 65,
     "metadata": {},
     "output_type": "execute_result"
    }
   ],
   "source": [
    "(data.x.relu().sum(axis=0)==0).sum()"
   ]
  },
  {
   "cell_type": "code",
   "execution_count": 28,
   "id": "1610e16a-ef61-4f2a-93aa-6412984170e3",
   "metadata": {},
   "outputs": [
    {
     "data": {
      "text/plain": [
       "tensor([[1.],\n",
       "        [1.],\n",
       "        [1.],\n",
       "        ...,\n",
       "        [1.],\n",
       "        [1.],\n",
       "        [1.]])"
      ]
     },
     "execution_count": 28,
     "metadata": {},
     "output_type": "execute_result"
    }
   ],
   "source": [
    "new_column = torch.tensor(np.ones(data_rdkit.x.shape[0]), dtype=torch.float).reshape(1, -1).t()\n",
    "new_column"
   ]
  },
  {
   "cell_type": "code",
   "execution_count": 26,
   "id": "349b645c-73fb-47a2-8bf0-9a5c01411e0b",
   "metadata": {},
   "outputs": [
    {
     "name": "stdout",
     "output_type": "stream",
     "text": [
      "tensor([[0.2450, 0.7865, 0.2071, 0.1587, 0.3370, 0.3059, 0.6930, 0.9754, 0.0175,\n",
      "         0.9674]])\n",
      "tensor([0.2450, 0.7865, 0.2071, 0.1587, 0.3370, 0.3059, 0.6930, 0.9754, 0.0175,\n",
      "        0.9674])\n",
      "tensor([[0.2450],\n",
      "        [0.7865],\n",
      "        [0.2071],\n",
      "        [0.1587],\n",
      "        [0.3370],\n",
      "        [0.3059],\n",
      "        [0.6930],\n",
      "        [0.9754],\n",
      "        [0.0175],\n",
      "        [0.9674]])\n"
     ]
    }
   ],
   "source": [
    "a = torch.rand(1,10)\n",
    "b = a[0,:]\n",
    "print(a)\n",
    "print(b)\n",
    "print(b.reshape(1, -1).t())"
   ]
  },
  {
   "cell_type": "code",
   "execution_count": 30,
   "id": "4af9e587-d37f-4656-be13-f5f87496c419",
   "metadata": {},
   "outputs": [],
   "source": [
    "data_rdkit.x = torch.cat((data_rdkit.x, new_column), axis=1)"
   ]
  },
  {
   "cell_type": "code",
   "execution_count": 31,
   "id": "5e7a3d87-bc2a-4e66-a059-3fc1f859ea19",
   "metadata": {},
   "outputs": [
    {
     "data": {
      "text/plain": [
       "tensor([[ 0.0000,  0.0000,  0.0000,  ...,  0.0000,  0.0000,  1.0000],\n",
       "        [ 0.0000,  0.0000,  0.0000,  ...,  0.0000,  0.0000,  1.0000],\n",
       "        [ 0.0000,  0.0000,  0.0000,  ...,  0.0000,  0.0000,  1.0000],\n",
       "        ...,\n",
       "        [10.1531, -2.4522, 10.1531,  ...,  0.0000,  0.0000,  1.0000],\n",
       "        [11.5979, -0.3191, 11.5979,  ...,  0.0000,  0.0000,  1.0000],\n",
       "        [10.4979, -3.0391, 10.4979,  ...,  0.0000,  0.0000,  1.0000]])"
      ]
     },
     "execution_count": 31,
     "metadata": {},
     "output_type": "execute_result"
    }
   ],
   "source": [
    "data_rdkit.x"
   ]
  },
  {
   "cell_type": "code",
   "execution_count": 12,
   "id": "271454a4-cc6b-4d3e-9ca1-ba1e081810c8",
   "metadata": {},
   "outputs": [],
   "source": [
    "data_rdkit.edge_index = torch.cat([data_rdkit.test_pos_edge_index, data_rdkit.train_pos_edge_index], dim=-1)"
   ]
  },
  {
   "cell_type": "code",
   "execution_count": 13,
   "id": "3d539983-62cc-48e4-9f11-7cdc4965edfa",
   "metadata": {},
   "outputs": [
    {
     "data": {
      "text/plain": [
       "Data(x=[457560, 208], train_pos_edge_index=[2, 979616], train_neg_edge_index=[2, 65612424], test_pos_edge_index=[2, 244898], test_neg_edge_index=[2, 16403118], edge_index=[2, 1682074], edge_weight=[1682074])"
      ]
     },
     "execution_count": 13,
     "metadata": {},
     "output_type": "execute_result"
    }
   ],
   "source": [
    "data_new = GCNNorm()(data_rdkit)\n",
    "data_new"
   ]
  },
  {
   "cell_type": "code",
   "execution_count": 16,
   "id": "807c0e74-f4d9-4d8c-9e08-5fe841159840",
   "metadata": {},
   "outputs": [
    {
     "data": {
      "text/plain": [
       "tensor(0)"
      ]
     },
     "execution_count": 16,
     "metadata": {},
     "output_type": "execute_result"
    }
   ],
   "source": [
    "(data_new.x!=data_rdkit.x).sum()"
   ]
  },
  {
   "cell_type": "code",
   "execution_count": 72,
   "id": "55374711-cc17-46df-b785-3d9e5d873755",
   "metadata": {},
   "outputs": [
    {
     "data": {
      "text/plain": [
       "Data(x=[457560, 209], train_pos_edge_index=[2, 979616], train_neg_edge_index=[2, 65612424], test_pos_edge_index=[2, 244898], test_neg_edge_index=[2, 16403118])"
      ]
     },
     "execution_count": 72,
     "metadata": {},
     "output_type": "execute_result"
    }
   ],
   "source": [
    "data_new = NormalizeFeatures()(data_rdkit)\n",
    "data_new"
   ]
  },
  {
   "cell_type": "code",
   "execution_count": 99,
   "id": "12b5a229-2467-43b9-8c03-d88fd12197f9",
   "metadata": {},
   "outputs": [
    {
     "data": {
      "text/plain": [
       "tensor(92)"
      ]
     },
     "execution_count": 99,
     "metadata": {},
     "output_type": "execute_result"
    }
   ],
   "source": [
    "torch.isnan(data_new.x).sum()"
   ]
  },
  {
   "cell_type": "code",
   "execution_count": 101,
   "id": "0874f793-c998-4a1a-b4be-b28a6a0a2334",
   "metadata": {},
   "outputs": [
    {
     "data": {
      "text/plain": [
       "tensor([[0.8651, 0.1905, 0.9215,  ..., 0.9031, 0.3471, 0.4725],\n",
       "        [0.7042, 0.3468, 0.1994,  ..., 0.2055, 0.0625, 0.3152],\n",
       "        [0.0027, 0.2533, 0.9149,  ..., 0.6185, 0.4625, 0.7404],\n",
       "        ...,\n",
       "        [0.9810, 0.3969, 0.4471,  ..., 0.8952, 0.6479, 0.9719],\n",
       "        [0.3596, 0.9181, 0.0828,  ..., 0.6332, 0.9475, 0.4834],\n",
       "        [0.4147, 0.4871, 0.1751,  ..., 0.8589, 0.3981, 0.1067]])"
      ]
     },
     "execution_count": 101,
     "metadata": {},
     "output_type": "execute_result"
    }
   ],
   "source": [
    "data_rdkit.x = torch.tensor(np.random.rand(data_rdkit.x.shape[0], data_rdkit.x.shape[1]), dtype=torch.float)\n",
    "data_rdkit.x"
   ]
  },
  {
   "cell_type": "markdown",
   "id": "c2ad8cf3-27f1-4412-8c76-831e32f9abf4",
   "metadata": {},
   "source": [
    "## Setup pytorch Model"
   ]
  },
  {
   "cell_type": "code",
   "execution_count": 102,
   "id": "b5f3d8d8-7294-4a5f-8d52-7f12d7e41a6a",
   "metadata": {
    "tags": []
   },
   "outputs": [],
   "source": [
    "class GNN_homogen_with_data(torch.nn.Module):\n",
    "    '''\n",
    "    basic implementation of GNN, inspired by content shown in https://antoniolonga.github.io/Pytorch_geometric_tutorials/posts/post12.html from Antionio Longa\n",
    "    '''\n",
    "    def __init__(self):\n",
    "        super(GNN_homogen_with_data, self).__init__()\n",
    "        self.conv1 = GCNConv(data.num_features, 64) #int(data.num_features/2))\n",
    "        self.conv2 = GCNConv(int(data.num_features/2), 64)\n",
    "    \n",
    "    def encode(self):\n",
    "        x = self.conv1(data.x.relu(), data.train_pos_edge_index) # first convolution layer\n",
    "        # x = x.relu() # relu function for tu - disables negative values\n",
    "        # x = self.conv2(x, data.train_pos_edge_index) # second convolution layer\n",
    "        return x\n",
    "    \n",
    "    def decode(self, z, pos_edge_index, neg_edge_index):\n",
    "        edge_index = torch.cat([pos_edge_index, neg_edge_index], dim=-1) #fuse pos and neg edges together\n",
    "        logits = (z[edge_index[0]] * z[edge_index[1]]).sum(dim=-1) # dot product of ... getting the mapped entries with z? z=model?\n",
    "        return logits\n",
    "    \n",
    "    def decode_all(self, z):\n",
    "        prob_adj = z @ z.t() # get adjacenticy matrix NxN\n",
    "        return (prob_adj > 0).nonzero(as_tuple=False).t() # get predicted edge_list # should this not be 0.5?"
   ]
  },
  {
   "cell_type": "code",
   "execution_count": 103,
   "id": "002b3536-95fc-4bba-8c1f-48b4cc9c439b",
   "metadata": {},
   "outputs": [
    {
     "data": {
      "text/plain": [
       "device(type='cpu')"
      ]
     },
     "execution_count": 103,
     "metadata": {},
     "output_type": "execute_result"
    }
   ],
   "source": [
    "device = torch.device('cuda' if torch.cuda.is_available() else 'cpu')\n",
    "device"
   ]
  },
  {
   "cell_type": "code",
   "execution_count": 104,
   "id": "ec4f65bb-4c06-491d-a696-2213df63f15f",
   "metadata": {},
   "outputs": [],
   "source": [
    "data = data_rdkit.to(device)\n",
    "model = GNN_homogen_with_data().to(device)\n",
    "optimizer = torch.optim.Adam(params=model.parameters(), lr=0.01)"
   ]
  },
  {
   "cell_type": "code",
   "execution_count": 105,
   "id": "2159bca0-12ce-44bb-9f69-5e0608956f90",
   "metadata": {},
   "outputs": [],
   "source": [
    "def get_link_labels(pos_edge_index, neg_edge_index):\n",
    "    # returns a tensor:\n",
    "    # [1,1,1,1,...,0,0,0,0,0,..] with the number of ones is equel to the lenght of pos_edge_index\n",
    "    # and the number of zeros is equal to the length of neg_edge_index\n",
    "    E = pos_edge_index.size(1) + neg_edge_index.size(1)\n",
    "    link_labels = torch.zeros(E, dtype=torch.float, device=device)\n",
    "    link_labels[:pos_edge_index.size(1)] = 1.\n",
    "    return link_labels"
   ]
  },
  {
   "cell_type": "code",
   "execution_count": 106,
   "id": "497b5266-e40f-4dcb-8f36-09e9cf7dc3ca",
   "metadata": {},
   "outputs": [
    {
     "data": {
      "text/plain": [
       "tensor([[0.8651, 0.1905, 0.9215,  ..., 0.9031, 0.3471, 0.4725],\n",
       "        [0.7042, 0.3468, 0.1994,  ..., 0.2055, 0.0625, 0.3152],\n",
       "        [0.0027, 0.2533, 0.9149,  ..., 0.6185, 0.4625, 0.7404],\n",
       "        ...,\n",
       "        [0.9810, 0.3969, 0.4471,  ..., 0.8952, 0.6479, 0.9719],\n",
       "        [0.3596, 0.9181, 0.0828,  ..., 0.6332, 0.9475, 0.4834],\n",
       "        [0.4147, 0.4871, 0.1751,  ..., 0.8589, 0.3981, 0.1067]])"
      ]
     },
     "execution_count": 106,
     "metadata": {},
     "output_type": "execute_result"
    }
   ],
   "source": [
    "data.x"
   ]
  },
  {
   "cell_type": "code",
   "execution_count": 135,
   "id": "8f3020ac-e020-4d0d-a6f3-1cc0d2fbda93",
   "metadata": {},
   "outputs": [
    {
     "data": {
      "text/plain": [
       "GNN_homogen_with_data(\n",
       "  (conv1): GCNConv(209, 64)\n",
       "  (conv2): GCNConv(104, 64)\n",
       ")"
      ]
     },
     "execution_count": 135,
     "metadata": {},
     "output_type": "execute_result"
    }
   ],
   "source": [
    "model.train()"
   ]
  },
  {
   "cell_type": "code",
   "execution_count": 136,
   "id": "91cada48-6008-4cc3-8354-b37b20f2eeee",
   "metadata": {},
   "outputs": [],
   "source": [
    "optimizer.zero_grad()"
   ]
  },
  {
   "cell_type": "code",
   "execution_count": 137,
   "id": "5e7067b6-bfc8-42d8-bf5c-a5e0e7399bf8",
   "metadata": {},
   "outputs": [],
   "source": [
    "z=model.encode()"
   ]
  },
  {
   "cell_type": "code",
   "execution_count": 138,
   "id": "f46cc1f1-a523-466f-915f-21a559572bec",
   "metadata": {},
   "outputs": [
    {
     "data": {
      "text/plain": [
       "tensor([[-9.6189e+00,  3.4387e+00, -5.4617e+00,  ..., -4.0006e+00,\n",
       "         -3.6837e+00, -9.7379e+00],\n",
       "        [-1.7464e+00,  7.2858e-01, -8.1092e-01,  ..., -7.0704e-01,\n",
       "         -3.5331e-01, -1.6652e+00],\n",
       "        [-1.1571e+00,  5.8220e-01, -3.9171e-01,  ..., -4.8766e-01,\n",
       "         -4.4352e-01, -8.4365e-01],\n",
       "        ...,\n",
       "        [-4.9819e-01,  1.7642e-01, -3.0245e-01,  ..., -1.3701e-01,\n",
       "          1.1615e-01, -1.1898e+00],\n",
       "        [-6.1882e-01,  2.7655e-02,  6.5801e-02,  ..., -1.4631e-01,\n",
       "         -2.6542e-03, -9.4102e-02],\n",
       "        [-6.9829e-01,  2.7407e-01, -5.0496e-01,  ...,  2.5450e-01,\n",
       "         -1.6318e-01, -5.0229e-01]], grad_fn=<AddBackward0>)"
      ]
     },
     "execution_count": 138,
     "metadata": {},
     "output_type": "execute_result"
    }
   ],
   "source": [
    "z"
   ]
  },
  {
   "cell_type": "code",
   "execution_count": 139,
   "id": "c3968784-9886-4453-aab8-5206e14698a8",
   "metadata": {},
   "outputs": [
    {
     "data": {
      "text/plain": [
       "tensor(0)"
      ]
     },
     "execution_count": 139,
     "metadata": {},
     "output_type": "execute_result"
    }
   ],
   "source": [
    "torch.isnan(z).sum()"
   ]
  },
  {
   "cell_type": "code",
   "execution_count": 140,
   "id": "64dd288e-c6e0-4db4-8b85-1ca8aa314342",
   "metadata": {},
   "outputs": [
    {
     "data": {
      "text/plain": [
       "tensor(16022971)"
      ]
     },
     "execution_count": 140,
     "metadata": {},
     "output_type": "execute_result"
    }
   ],
   "source": [
    "(z<0).sum()"
   ]
  },
  {
   "cell_type": "code",
   "execution_count": 141,
   "id": "9f604ab4-07a2-4b0c-8f99-c8542392341c",
   "metadata": {},
   "outputs": [
    {
     "data": {
      "text/plain": [
       "tensor(0)"
      ]
     },
     "execution_count": 141,
     "metadata": {},
     "output_type": "execute_result"
    }
   ],
   "source": [
    "torch.isnan(z).sum()"
   ]
  },
  {
   "cell_type": "code",
   "execution_count": 142,
   "id": "fc3f3a9f-3637-4baa-9dae-7a3177e8dfbb",
   "metadata": {},
   "outputs": [
    {
     "data": {
      "text/plain": [
       "tensor([462.7568, 387.0594, 123.0425,  ..., 148.0059,  53.0981, 143.7039],\n",
       "       grad_fn=<SumBackward1>)"
      ]
     },
     "execution_count": 142,
     "metadata": {},
     "output_type": "execute_result"
    }
   ],
   "source": [
    "link_logits = model.decode(z, data.train_pos_edge_index, data.train_neg_edge_index)\n",
    "link_logits"
   ]
  },
  {
   "cell_type": "code",
   "execution_count": 143,
   "id": "ddcfc5c0-cbcc-4fb3-b8b2-2787fc8007c9",
   "metadata": {},
   "outputs": [
    {
     "data": {
      "text/plain": [
       "tensor(0)"
      ]
     },
     "execution_count": 143,
     "metadata": {},
     "output_type": "execute_result"
    }
   ],
   "source": [
    "torch.isnan(link_logits).sum()"
   ]
  },
  {
   "cell_type": "code",
   "execution_count": 144,
   "id": "4f3465f1-a084-4668-87a6-aeaf03640c93",
   "metadata": {},
   "outputs": [
    {
     "data": {
      "text/plain": [
       "tensor([1., 1., 1.,  ..., 0., 0., 0.])"
      ]
     },
     "execution_count": 144,
     "metadata": {},
     "output_type": "execute_result"
    }
   ],
   "source": [
    "link_labels = get_link_labels(data.train_pos_edge_index, data.train_neg_edge_index)\n",
    "link_labels"
   ]
  },
  {
   "cell_type": "code",
   "execution_count": 145,
   "id": "4e9b2166-b3e8-4d61-8837-fed47df31766",
   "metadata": {},
   "outputs": [
    {
     "data": {
      "text/plain": [
       "tensor(150.1187, grad_fn=<BinaryCrossEntropyWithLogitsBackward0>)"
      ]
     },
     "execution_count": 145,
     "metadata": {},
     "output_type": "execute_result"
    }
   ],
   "source": [
    "loss = F.binary_cross_entropy_with_logits(link_logits, link_labels)\n",
    "loss"
   ]
  },
  {
   "cell_type": "code",
   "execution_count": 146,
   "id": "6027bc28-eeb4-4947-a1f7-779a4e4327d7",
   "metadata": {},
   "outputs": [
    {
     "data": {
      "text/plain": [
       "tensor(0)"
      ]
     },
     "execution_count": 146,
     "metadata": {},
     "output_type": "execute_result"
    }
   ],
   "source": [
    "torch.isnan(link_logits).sum()"
   ]
  },
  {
   "cell_type": "code",
   "execution_count": 147,
   "id": "12c7ac81-fcdd-4f4e-bdc7-b27f130fdfcd",
   "metadata": {},
   "outputs": [],
   "source": [
    "loss.backward()"
   ]
  },
  {
   "cell_type": "code",
   "execution_count": 148,
   "id": "f1c2665a-be25-4bdc-b5e8-6e6831c1e3b6",
   "metadata": {},
   "outputs": [],
   "source": [
    "optimizer.step()"
   ]
  },
  {
   "cell_type": "code",
   "execution_count": 52,
   "id": "a4ed16cf-56cc-446d-b3a2-e199d87bfebc",
   "metadata": {},
   "outputs": [],
   "source": []
  }
 ],
 "metadata": {
  "kernelspec": {
   "display_name": "Python [conda env:Bachelorarbeit] *",
   "language": "python",
   "name": "conda-env-Bachelorarbeit-py"
  },
  "language_info": {
   "codemirror_mode": {
    "name": "ipython",
    "version": 3
   },
   "file_extension": ".py",
   "mimetype": "text/x-python",
   "name": "python",
   "nbconvert_exporter": "python",
   "pygments_lexer": "ipython3",
   "version": "3.8.12"
  }
 },
 "nbformat": 4,
 "nbformat_minor": 5
}

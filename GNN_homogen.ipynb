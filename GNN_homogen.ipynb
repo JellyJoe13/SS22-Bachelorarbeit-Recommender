{
 "cells": [
  {
   "cell_type": "markdown",
   "id": "7f7c006c-fc98-417d-ac0a-703384565eff",
   "metadata": {},
   "source": [
    "# Pytorch Geometric GNN - homogen"
   ]
  },
  {
   "cell_type": "markdown",
   "id": "4b6122bc-74cc-4bfb-be51-5bb4fda78370",
   "metadata": {},
   "source": [
    "## Import section"
   ]
  },
  {
   "cell_type": "code",
   "execution_count": 1,
   "id": "6bd44fa9-e701-4f5e-9cc8-f56d379023e7",
   "metadata": {},
   "outputs": [],
   "source": [
    "from data_gen import data_transform_split"
   ]
  },
  {
   "cell_type": "code",
   "execution_count": 1,
   "id": "6994b9f1-ad1c-431d-894d-69035d81b458",
   "metadata": {},
   "outputs": [],
   "source": [
    "import numpy as np\n",
    "import torch\n",
    "import torch.nn.functional as F\n",
    "from torch_geometric.nn import GCNConv\n",
    "import pandas as pd"
   ]
  },
  {
   "cell_type": "markdown",
   "id": "943db81f-2bfb-40d9-957a-2c3d96baa17e",
   "metadata": {},
   "source": [
    "## Section for GNN with rdkit"
   ]
  },
  {
   "cell_type": "code",
   "execution_count": 3,
   "id": "42c0553b-e128-430e-b9f1-7e73a763b662",
   "metadata": {},
   "outputs": [
    {
     "name": "stdout",
     "output_type": "stream",
     "text": [
      "Load CSV\n",
      "Split part\n",
      "Begin data creation part\n",
      "Build trainset\n"
     ]
    },
    {
     "data": {
      "application/vnd.jupyter.widget-view+json": {
       "model_id": "501cf7ded5984eb1a3d86a0dc58b54db",
       "version_major": 2,
       "version_minor": 0
      },
      "text/plain": [
       "0it [00:00, ?it/s]"
      ]
     },
     "metadata": {},
     "output_type": "display_data"
    },
    {
     "data": {
      "application/vnd.jupyter.widget-view+json": {
       "model_id": "3b614cf2183840b28482546e51dd8558",
       "version_major": 2,
       "version_minor": 0
      },
      "text/plain": [
       "0it [00:00, ?it/s]"
      ]
     },
     "metadata": {},
     "output_type": "display_data"
    },
    {
     "name": "stdout",
     "output_type": "stream",
     "text": [
      "Build testset\n"
     ]
    },
    {
     "data": {
      "application/vnd.jupyter.widget-view+json": {
       "model_id": "950cbb6bec4e4d29b25eec10e707ba03",
       "version_major": 2,
       "version_minor": 0
      },
      "text/plain": [
       "0it [00:00, ?it/s]"
      ]
     },
     "metadata": {},
     "output_type": "display_data"
    },
    {
     "data": {
      "application/vnd.jupyter.widget-view+json": {
       "model_id": "532b8df539d4426fbadebbf024e75972",
       "version_major": 2,
       "version_minor": 0
      },
      "text/plain": [
       "0it [00:00, ?it/s]"
      ]
     },
     "metadata": {},
     "output_type": "display_data"
    },
    {
     "name": "stdout",
     "output_type": "stream",
     "text": [
      "Starting SMILES conversion\n"
     ]
    },
    {
     "data": {
      "application/vnd.jupyter.widget-view+json": {
       "model_id": "6b8e83834fd249b8a95ba827c9f59d67",
       "version_major": 2,
       "version_minor": 0
      },
      "text/plain": [
       "0it [00:00, ?it/s]"
      ]
     },
     "metadata": {},
     "output_type": "display_data"
    }
   ],
   "source": [
    "data_rdkit = data_transform_split(2)"
   ]
  }
 ],
 "metadata": {
  "kernelspec": {
   "display_name": "Python [conda env:Bachelorarbeit]",
   "language": "python",
   "name": "conda-env-Bachelorarbeit-py"
  },
  "language_info": {
   "codemirror_mode": {
    "name": "ipython",
    "version": 3
   },
   "file_extension": ".py",
   "mimetype": "text/x-python",
   "name": "python",
   "nbconvert_exporter": "python",
   "pygments_lexer": "ipython3",
   "version": "3.8.12"
  }
 },
 "nbformat": 4,
 "nbformat_minor": 5
}

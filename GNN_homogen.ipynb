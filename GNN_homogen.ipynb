{
 "cells": [
  {
   "cell_type": "markdown",
   "id": "7f7c006c-fc98-417d-ac0a-703384565eff",
   "metadata": {},
   "source": [
    "# Pytorch Geometric GNN - homogen"
   ]
  },
  {
   "cell_type": "markdown",
   "id": "4b6122bc-74cc-4bfb-be51-5bb4fda78370",
   "metadata": {},
   "source": [
    "## Import section"
   ]
  },
  {
   "cell_type": "code",
   "execution_count": 1,
   "id": "6bd44fa9-e701-4f5e-9cc8-f56d379023e7",
   "metadata": {},
   "outputs": [],
   "source": [
    "from data_gen import data_transform_split"
   ]
  },
  {
   "cell_type": "code",
   "execution_count": 2,
   "id": "6994b9f1-ad1c-431d-894d-69035d81b458",
   "metadata": {},
   "outputs": [],
   "source": [
    "import numpy as np\n",
    "import torch\n",
    "import torch.nn.functional as F\n",
    "from torch_geometric.nn import GCNConv\n",
    "import pandas as pd\n",
    "from sklearn.metrics import roc_auc_score"
   ]
  },
  {
   "cell_type": "code",
   "execution_count": 3,
   "id": "36d1e5cd-a989-4993-8c2f-9f705cda866b",
   "metadata": {},
   "outputs": [],
   "source": [
    "from torch_geometric.transforms import GCNNorm, NormalizeFeatures"
   ]
  },
  {
   "cell_type": "markdown",
   "id": "943db81f-2bfb-40d9-957a-2c3d96baa17e",
   "metadata": {},
   "source": [
    "## Section for GNN with rdkit"
   ]
  },
  {
   "cell_type": "code",
   "execution_count": 4,
   "id": "42c0553b-e128-430e-b9f1-7e73a763b662",
   "metadata": {},
   "outputs": [
    {
     "name": "stderr",
     "output_type": "stream",
     "text": [
      "D:\\DATEN\\Bachelorarbeit\\data_gen.py:77: SettingWithCopyWarning: \n",
      "A value is trying to be set on a copy of a slice from a DataFrame.\n",
      "Try using .loc[row_indexer,col_indexer] = value instead\n",
      "\n",
      "See the caveats in the documentation: https://pandas.pydata.org/pandas-docs/stable/user_guide/indexing.html#returning-a-view-versus-a-copy\n",
      "  df['id_1'] = df['aid'].map(lambda x: aid_translation_dictionary[x])\n",
      "D:\\DATEN\\Bachelorarbeit\\data_gen.py:78: SettingWithCopyWarning: \n",
      "A value is trying to be set on a copy of a slice from a DataFrame.\n",
      "Try using .loc[row_indexer,col_indexer] = value instead\n",
      "\n",
      "See the caveats in the documentation: https://pandas.pydata.org/pandas-docs/stable/user_guide/indexing.html#returning-a-view-versus-a-copy\n",
      "  df['id_2'] = df['cid'].map(lambda x: cid_translation_dictionary[x])\n",
      "D:\\DATEN\\Bachelorarbeit\\data_gen.py:77: SettingWithCopyWarning: \n",
      "A value is trying to be set on a copy of a slice from a DataFrame.\n",
      "Try using .loc[row_indexer,col_indexer] = value instead\n",
      "\n",
      "See the caveats in the documentation: https://pandas.pydata.org/pandas-docs/stable/user_guide/indexing.html#returning-a-view-versus-a-copy\n",
      "  df['id_1'] = df['aid'].map(lambda x: aid_translation_dictionary[x])\n",
      "D:\\DATEN\\Bachelorarbeit\\data_gen.py:78: SettingWithCopyWarning: \n",
      "A value is trying to be set on a copy of a slice from a DataFrame.\n",
      "Try using .loc[row_indexer,col_indexer] = value instead\n",
      "\n",
      "See the caveats in the documentation: https://pandas.pydata.org/pandas-docs/stable/user_guide/indexing.html#returning-a-view-versus-a-copy\n",
      "  df['id_2'] = df['cid'].map(lambda x: cid_translation_dictionary[x])\n"
     ]
    }
   ],
   "source": [
    "data_rdkit, id_breakpoint = data_transform_split(2)"
   ]
  },
  {
   "cell_type": "code",
   "execution_count": 5,
   "id": "acde5acf-2739-4676-928a-25e57858a51f",
   "metadata": {},
   "outputs": [
    {
     "data": {
      "text/plain": [
       "Data(x=[457560, 205], train_pos_edge_index=[2, 979616], train_neg_edge_index=[2, 65612424], test_pos_edge_index=[2, 244898], test_neg_edge_index=[2, 16403118])"
      ]
     },
     "execution_count": 5,
     "metadata": {},
     "output_type": "execute_result"
    }
   ],
   "source": [
    "data_rdkit"
   ]
  },
  {
   "cell_type": "code",
   "execution_count": 6,
   "id": "0c0ab54e-c1c6-461f-97e0-d0b5bfcf257e",
   "metadata": {},
   "outputs": [
    {
     "data": {
      "text/plain": [
       "205"
      ]
     },
     "execution_count": 6,
     "metadata": {},
     "output_type": "execute_result"
    }
   ],
   "source": [
    "data_rdkit.num_features"
   ]
  },
  {
   "cell_type": "code",
   "execution_count": 7,
   "id": "353a4e28-fd74-42b1-8b22-a618b06596d2",
   "metadata": {},
   "outputs": [
    {
     "data": {
      "text/plain": [
       "tensor([[0.0000, 0.7382, 0.0000,  ..., 0.0000, 0.0000, 0.8007],\n",
       "        [0.0000, 0.7382, 0.0000,  ..., 0.0000, 0.0000, 0.7215],\n",
       "        [0.0000, 0.7382, 0.0000,  ..., 0.0000, 0.0000, 0.8188],\n",
       "        ...,\n",
       "        [0.5812, 0.5548, 0.5812,  ..., 0.0000, 0.0000, 0.4000],\n",
       "        [0.6639, 0.7143, 0.6639,  ..., 0.0000, 0.0000, 0.5495],\n",
       "        [0.6010, 0.5109, 0.6010,  ..., 0.0000, 0.0000, 0.9654]])"
      ]
     },
     "execution_count": 7,
     "metadata": {},
     "output_type": "execute_result"
    }
   ],
   "source": [
    "data_rdkit.x"
   ]
  },
  {
   "cell_type": "code",
   "execution_count": 8,
   "id": "9789de0c-4105-4541-8129-bd309f962b68",
   "metadata": {},
   "outputs": [
    {
     "data": {
      "text/plain": [
       "457560"
      ]
     },
     "execution_count": 8,
     "metadata": {},
     "output_type": "execute_result"
    }
   ],
   "source": [
    "data_rdkit.x.shape[0]"
   ]
  },
  {
   "cell_type": "code",
   "execution_count": 9,
   "id": "518fe903-2bae-4824-b620-30e33629a78f",
   "metadata": {},
   "outputs": [],
   "source": [
    "from torch_geometric.data import Data\n",
    "from torch_geometric.loader import NeighborLoader"
   ]
  },
  {
   "cell_type": "code",
   "execution_count": 10,
   "id": "58d4e5ca-400e-41ee-bc91-c2a5bc010325",
   "metadata": {},
   "outputs": [],
   "source": [
    "data_zwi = Data(x=data_rdkit.x, edge_index = data_rdkit.train_pos_edge_index)"
   ]
  },
  {
   "cell_type": "code",
   "execution_count": 11,
   "id": "104d9214-f469-4376-a32c-2a0ab6b00cad",
   "metadata": {},
   "outputs": [],
   "source": [
    "loader = NeighborLoader(\n",
    "    data_zwi,\n",
    "    num_neighbors = [10]*2,\n",
    "    batch_size=128\n",
    ")"
   ]
  },
  {
   "cell_type": "code",
   "execution_count": 12,
   "id": "3ceda7a1-9eec-4ef8-8e05-d45d9399d93a",
   "metadata": {},
   "outputs": [
    {
     "data": {
      "text/plain": [
       "Data(x=[457560, 205], edge_index=[2, 979616])"
      ]
     },
     "execution_count": 12,
     "metadata": {},
     "output_type": "execute_result"
    }
   ],
   "source": [
    "data_zwi"
   ]
  },
  {
   "cell_type": "code",
   "execution_count": 17,
   "id": "e90930d0-e255-45e5-9d54-a1b8c97f9299",
   "metadata": {},
   "outputs": [
    {
     "data": {
      "text/plain": [
       "Data(x=[1453, 205], edge_index=[2, 5199], batch_size=128)"
      ]
     },
     "execution_count": 17,
     "metadata": {},
     "output_type": "execute_result"
    }
   ],
   "source": [
    "next(iter(loader))"
   ]
  },
  {
   "cell_type": "code",
   "execution_count": 19,
   "id": "1e804d6c-811a-441e-b2ec-2e3db19686b5",
   "metadata": {},
   "outputs": [
    {
     "name": "stdout",
     "output_type": "stream",
     "text": [
      "1 4\n",
      "2 3\n",
      "3 2\n"
     ]
    }
   ],
   "source": [
    "for i, j in zip([1,2,3], [4,3,2,1]):\n",
    "    print(i,j)"
   ]
  },
  {
   "cell_type": "markdown",
   "id": "c2ad8cf3-27f1-4412-8c76-831e32f9abf4",
   "metadata": {},
   "source": [
    "## Setup pytorch Model"
   ]
  },
  {
   "cell_type": "code",
   "execution_count": 5,
   "id": "b5f3d8d8-7294-4a5f-8d52-7f12d7e41a6a",
   "metadata": {
    "tags": []
   },
   "outputs": [],
   "source": [
    "class GNN_homogen_with_data(torch.nn.Module):\n",
    "    '''\n",
    "    basic implementation of GNN, inspired by content shown in https://antoniolonga.github.io/Pytorch_geometric_tutorials/posts/post12.html from Antionio Longa\n",
    "    '''\n",
    "    def __init__(self):\n",
    "        super(GNN_homogen_with_data, self).__init__()\n",
    "        self.conv1 = GCNConv(data.num_features, int(data.num_features/2))\n",
    "        self.conv2 = GCNConv(int(data.num_features/2), 64)\n",
    "    \n",
    "    def encode(self):\n",
    "        x = self.conv1(data.x.relu(), data.train_pos_edge_index) # first convolution layer\n",
    "        x = x.relu() # relu function for tu - disables negative values\n",
    "        x = self.conv2(x, data.train_pos_edge_index) # second convolution layer\n",
    "        return x\n",
    "    \n",
    "    def decode(self, z, pos_edge_index, neg_edge_index):\n",
    "        edge_index = torch.cat([pos_edge_index, neg_edge_index], dim=-1) #fuse pos and neg edges together\n",
    "        logits = (z[edge_index[0]] * z[edge_index[1]]).sum(dim=-1) # dot product of ... getting the mapped entries with z? z=model?\n",
    "        return logits\n",
    "    \n",
    "    def decode_all(self, z):\n",
    "        prob_adj = z @ z.t() # get adjacenticy matrix NxN\n",
    "        return (prob_adj > 0).nonzero(as_tuple=False).t() # get predicted edge_list # should this not be 0.5?"
   ]
  },
  {
   "cell_type": "code",
   "execution_count": 6,
   "id": "002b3536-95fc-4bba-8c1f-48b4cc9c439b",
   "metadata": {},
   "outputs": [
    {
     "data": {
      "text/plain": [
       "device(type='cpu')"
      ]
     },
     "execution_count": 6,
     "metadata": {},
     "output_type": "execute_result"
    }
   ],
   "source": [
    "device = torch.device('cuda' if torch.cuda.is_available() else 'cpu')\n",
    "device"
   ]
  },
  {
   "cell_type": "code",
   "execution_count": 7,
   "id": "ec4f65bb-4c06-491d-a696-2213df63f15f",
   "metadata": {},
   "outputs": [],
   "source": [
    "data = data_rdkit.to(device)\n",
    "model = GNN_homogen_with_data().to(device)\n",
    "optimizer = torch.optim.Adam(params=model.parameters())#, lr=0.01)"
   ]
  },
  {
   "cell_type": "code",
   "execution_count": 8,
   "id": "2159bca0-12ce-44bb-9f69-5e0608956f90",
   "metadata": {},
   "outputs": [],
   "source": [
    "def get_link_labels(pos_edge_index, neg_edge_index):\n",
    "    # returns a tensor:\n",
    "    # [1,1,1,1,...,0,0,0,0,0,..] with the number of ones is equel to the lenght of pos_edge_index\n",
    "    # and the number of zeros is equal to the length of neg_edge_index\n",
    "    E = pos_edge_index.size(1) + neg_edge_index.size(1)\n",
    "    link_labels = torch.zeros(E, dtype=torch.float, device=device)\n",
    "    link_labels[:pos_edge_index.size(1)] = 1.\n",
    "    return link_labels"
   ]
  },
  {
   "cell_type": "code",
   "execution_count": 35,
   "id": "8f3020ac-e020-4d0d-a6f3-1cc0d2fbda93",
   "metadata": {},
   "outputs": [
    {
     "data": {
      "text/plain": [
       "GNN_homogen_with_data(\n",
       "  (conv1): GCNConv(205, 102)\n",
       "  (conv2): GCNConv(102, 64)\n",
       ")"
      ]
     },
     "execution_count": 35,
     "metadata": {},
     "output_type": "execute_result"
    }
   ],
   "source": [
    "model.train()"
   ]
  },
  {
   "cell_type": "code",
   "execution_count": 36,
   "id": "91cada48-6008-4cc3-8354-b37b20f2eeee",
   "metadata": {},
   "outputs": [],
   "source": [
    "optimizer.zero_grad()"
   ]
  },
  {
   "cell_type": "code",
   "execution_count": 37,
   "id": "5e7067b6-bfc8-42d8-bf5c-a5e0e7399bf8",
   "metadata": {},
   "outputs": [],
   "source": [
    "z=model.encode()"
   ]
  },
  {
   "cell_type": "code",
   "execution_count": 38,
   "id": "f46cc1f1-a523-466f-915f-21a559572bec",
   "metadata": {},
   "outputs": [
    {
     "data": {
      "text/plain": [
       "tensor([[-0.4670,  0.1408, -0.8019,  ...,  0.0056,  0.3684,  0.6618],\n",
       "        [-0.1301,  0.0648, -0.2999,  ...,  0.0251,  0.1170,  0.2053],\n",
       "        [-0.0544,  0.0499, -0.2298,  ...,  0.0467,  0.0913,  0.1152],\n",
       "        ...,\n",
       "        [-0.2212,  0.0238, -0.1623,  ..., -0.0334,  0.0529,  0.2227],\n",
       "        [-0.1212,  0.1021, -0.3154,  ..., -0.0771,  0.1422,  0.1915],\n",
       "        [-0.1763, -0.0750, -0.2026,  ..., -0.0559,  0.0088,  0.2075]],\n",
       "       grad_fn=<AddBackward0>)"
      ]
     },
     "execution_count": 38,
     "metadata": {},
     "output_type": "execute_result"
    }
   ],
   "source": [
    "z"
   ]
  },
  {
   "cell_type": "code",
   "execution_count": 39,
   "id": "c3968784-9886-4453-aab8-5206e14698a8",
   "metadata": {},
   "outputs": [
    {
     "data": {
      "text/plain": [
       "tensor(0)"
      ]
     },
     "execution_count": 39,
     "metadata": {},
     "output_type": "execute_result"
    }
   ],
   "source": [
    "torch.isnan(z).sum()"
   ]
  },
  {
   "cell_type": "code",
   "execution_count": 40,
   "id": "fc3f3a9f-3637-4baa-9dae-7a3177e8dfbb",
   "metadata": {},
   "outputs": [
    {
     "data": {
      "text/plain": [
       "tensor([72.6093, 25.2580, 62.7024,  ...,  6.6383,  1.1867,  3.4956],\n",
       "       grad_fn=<SumBackward1>)"
      ]
     },
     "execution_count": 40,
     "metadata": {},
     "output_type": "execute_result"
    }
   ],
   "source": [
    "link_logits = model.decode(z, data.train_pos_edge_index, data.train_neg_edge_index)\n",
    "link_logits"
   ]
  },
  {
   "cell_type": "code",
   "execution_count": 41,
   "id": "ddcfc5c0-cbcc-4fb3-b8b2-2787fc8007c9",
   "metadata": {},
   "outputs": [
    {
     "data": {
      "text/plain": [
       "tensor(0)"
      ]
     },
     "execution_count": 41,
     "metadata": {},
     "output_type": "execute_result"
    }
   ],
   "source": [
    "torch.isnan(link_logits).sum()"
   ]
  },
  {
   "cell_type": "code",
   "execution_count": 42,
   "id": "5f456923-9904-4fe8-b913-6393953cd3fc",
   "metadata": {},
   "outputs": [
    {
     "data": {
      "text/plain": [
       "tensor(0)"
      ]
     },
     "execution_count": 42,
     "metadata": {},
     "output_type": "execute_result"
    }
   ],
   "source": [
    "(link_logits<0).sum()"
   ]
  },
  {
   "cell_type": "code",
   "execution_count": 43,
   "id": "38a8170e-bb35-4df5-b356-10aba1c36cca",
   "metadata": {},
   "outputs": [
    {
     "data": {
      "text/plain": [
       "tensor([1.0000, 1.0000, 1.0000,  ..., 0.9987, 0.7661, 0.9706],\n",
       "       grad_fn=<SigmoidBackward0>)"
      ]
     },
     "execution_count": 43,
     "metadata": {},
     "output_type": "execute_result"
    }
   ],
   "source": [
    "link_logits.sigmoid()"
   ]
  },
  {
   "cell_type": "code",
   "execution_count": 9,
   "id": "4f3465f1-a084-4668-87a6-aeaf03640c93",
   "metadata": {},
   "outputs": [
    {
     "data": {
      "text/plain": [
       "tensor([1., 1., 1.,  ..., 0., 0., 0.])"
      ]
     },
     "execution_count": 9,
     "metadata": {},
     "output_type": "execute_result"
    }
   ],
   "source": [
    "link_labels = get_link_labels(data.train_pos_edge_index, data.train_neg_edge_index)\n",
    "link_labels"
   ]
  },
  {
   "cell_type": "code",
   "execution_count": 45,
   "id": "4e9b2166-b3e8-4d61-8837-fed47df31766",
   "metadata": {},
   "outputs": [
    {
     "data": {
      "text/plain": [
       "tensor(6.7655, grad_fn=<BinaryCrossEntropyWithLogitsBackward0>)"
      ]
     },
     "execution_count": 45,
     "metadata": {},
     "output_type": "execute_result"
    }
   ],
   "source": [
    "loss = F.binary_cross_entropy_with_logits(link_logits, link_labels)\n",
    "loss"
   ]
  },
  {
   "cell_type": "code",
   "execution_count": 33,
   "id": "12c7ac81-fcdd-4f4e-bdc7-b27f130fdfcd",
   "metadata": {},
   "outputs": [],
   "source": [
    "loss.backward()"
   ]
  },
  {
   "cell_type": "code",
   "execution_count": 34,
   "id": "f1c2665a-be25-4bdc-b5e8-6e6831c1e3b6",
   "metadata": {},
   "outputs": [],
   "source": [
    "optimizer.step()"
   ]
  },
  {
   "cell_type": "code",
   "execution_count": 49,
   "id": "bd6c7367-0c77-48d6-973e-6bab91f0aa47",
   "metadata": {},
   "outputs": [
    {
     "data": {
      "text/plain": [
       "66592040"
      ]
     },
     "execution_count": 49,
     "metadata": {},
     "output_type": "execute_result"
    }
   ],
   "source": [
    "link_labels.size(0)"
   ]
  },
  {
   "cell_type": "code",
   "execution_count": 16,
   "id": "c07a51b6-4cb1-415e-88b9-501efcafd47c",
   "metadata": {},
   "outputs": [],
   "source": [
    "def train():\n",
    "    model.train()\n",
    "    optimizer.zero_grad()\n",
    "    link_logits = model.decode(model.encode(), data.train_pos_edge_index, data.train_neg_edge_index)\n",
    "    link_labels = get_link_labels(data.train_pos_edge_index, data.train_neg_edge_index)\n",
    "    loss = F.binary_cross_entropy_with_logits(link_logits, link_labels)\n",
    "    loss.backward()\n",
    "    optimizer.step()\n",
    "    return loss"
   ]
  },
  {
   "cell_type": "code",
   "execution_count": 17,
   "id": "2c8c46c6-9c1d-4020-8549-6a7975b21bf1",
   "metadata": {},
   "outputs": [],
   "source": [
    "@torch.no_grad()\n",
    "def test():\n",
    "    model.eval()\n",
    "    link_probs = model.decode(model.encode(), data.test_pos_edge_index, data.test_neg_edge_index).sigmoid()\n",
    "    link_labels = get_link_labels(data.test_pos_edge_index, data.test_neg_edge_index)\n",
    "    return roc_auc_score(link_labels.cpu(), link_probs.cpu())"
   ]
  },
  {
   "cell_type": "code",
   "execution_count": 18,
   "id": "e04a20c2-0edf-4592-9e6b-0d788be1a605",
   "metadata": {},
   "outputs": [],
   "source": [
    "@torch.no_grad()\n",
    "def full_test():\n",
    "    model.eval()\n",
    "    link_logits = model.decode(model.encode(), data.test_pos_edge_index, data.test_neg_edge_index)\n",
    "    print(link_logits)\n",
    "    link_labels = get_link_labels(data.test_pos_edge_index, data.test_neg_edge_index)\n",
    "    # compute recall and precision\n",
    "    precision, recall = accuracy_precision_recall_pyg(torch.cat([data.test_pos_edge_index, data.test_neg_edge_index], dim=-1),\n",
    "                                                 link_labels, link_logits, id_breakpoint)\n",
    "    print(\"precision:\", precision, \"\\nrecall:\", recall)\n",
    "    # plot ROC CURVE\n",
    "    calc_and_plot_ROC_pyg(link_labels, link_logits)"
   ]
  },
  {
   "cell_type": "code",
   "execution_count": 15,
   "id": "1aeef478-5752-4bca-b129-e281a9d5405d",
   "metadata": {},
   "outputs": [
    {
     "name": "stdout",
     "output_type": "stream",
     "text": [
      "Epoch: 1 ; Loss: tensor(9.2706, grad_fn=<BinaryCrossEntropyWithLogitsBackward0>) ; Test ROC AUC: 0.7336643030816544\n",
      "Epoch: 2 ; Loss: tensor(6.9671, grad_fn=<BinaryCrossEntropyWithLogitsBackward0>) ; Test ROC AUC: 0.7390290114644246\n",
      "Epoch: 3 ; Loss: tensor(5.1703, grad_fn=<BinaryCrossEntropyWithLogitsBackward0>) ; Test ROC AUC: 0.7417725628091064\n",
      "Epoch: 4 ; Loss: tensor(3.8084, grad_fn=<BinaryCrossEntropyWithLogitsBackward0>) ; Test ROC AUC: 0.7421662768982091\n",
      "Epoch: 5 ; Loss: tensor(2.8165, grad_fn=<BinaryCrossEntropyWithLogitsBackward0>) ; Test ROC AUC: 0.7428829489230879\n",
      "Epoch: 6 ; Loss: tensor(2.1272, grad_fn=<BinaryCrossEntropyWithLogitsBackward0>) ; Test ROC AUC: 0.7439224628256254\n",
      "Epoch: 7 ; Loss: tensor(1.6692, grad_fn=<BinaryCrossEntropyWithLogitsBackward0>) ; Test ROC AUC: 0.7453842648973489\n",
      "Epoch: 8 ; Loss: tensor(1.3726, grad_fn=<BinaryCrossEntropyWithLogitsBackward0>) ; Test ROC AUC: 0.7473296556949978\n",
      "Epoch: 9 ; Loss: tensor(1.1860, grad_fn=<BinaryCrossEntropyWithLogitsBackward0>) ; Test ROC AUC: 0.7499318257621792\n",
      "Epoch: 10 ; Loss: tensor(1.0725, grad_fn=<BinaryCrossEntropyWithLogitsBackward0>) ; Test ROC AUC: 0.7527397201200967\n"
     ]
    }
   ],
   "source": [
    "for epoch in range(1, 11):\n",
    "    loss = train()\n",
    "    roc_auc = test()\n",
    "    print(\"Epoch:\", epoch, \"; Loss:\", loss, \"; Test ROC AUC:\", roc_auc)"
   ]
  },
  {
   "cell_type": "code",
   "execution_count": 20,
   "id": "14def9d7-bcf8-4cbf-82aa-75d76b82b642",
   "metadata": {},
   "outputs": [
    {
     "name": "stdout",
     "output_type": "stream",
     "text": [
      "precision: 0.3404063930262432 \n",
      "recall: 0.6071075737990581\n"
     ]
    },
    {
     "data": {
      "image/png": "[encoded data removed]",
      "text/plain": [
       "<Figure size 432x288 with 1 Axes>"
      ]
     },
     "metadata": {
      "needs_background": "light"
     },
     "output_type": "display_data"
    }
   ],
   "source": [
    "full_test()"
   ]
  },
  {
   "cell_type": "code",
   "execution_count": 21,
   "id": "ae8f4942-c57b-42cb-a94d-d52a64ee37bd",
   "metadata": {},
   "outputs": [
    {
     "name": "stdout",
     "output_type": "stream",
     "text": [
      "Epoch: 11 ; Loss: tensor(1.0076, grad_fn=<BinaryCrossEntropyWithLogitsBackward0>) ; Test ROC AUC: 0.7549805743143828\n",
      "Epoch: 12 ; Loss: tensor(0.9710, grad_fn=<BinaryCrossEntropyWithLogitsBackward0>) ; Test ROC AUC: 0.7564041066590939\n",
      "Epoch: 13 ; Loss: tensor(0.9459, grad_fn=<BinaryCrossEntropyWithLogitsBackward0>) ; Test ROC AUC: 0.757269274781993\n",
      "Epoch: 14 ; Loss: tensor(0.9219, grad_fn=<BinaryCrossEntropyWithLogitsBackward0>) ; Test ROC AUC: 0.7579334351035216\n",
      "Epoch: 15 ; Loss: tensor(0.8956, grad_fn=<BinaryCrossEntropyWithLogitsBackward0>) ; Test ROC AUC: 0.758643981929027\n",
      "Epoch: 16 ; Loss: tensor(0.8672, grad_fn=<BinaryCrossEntropyWithLogitsBackward0>) ; Test ROC AUC: 0.7592010341765093\n",
      "Epoch: 17 ; Loss: tensor(0.8390, grad_fn=<BinaryCrossEntropyWithLogitsBackward0>) ; Test ROC AUC: 0.7590186709554771\n",
      "Epoch: 18 ; Loss: tensor(0.8128, grad_fn=<BinaryCrossEntropyWithLogitsBackward0>) ; Test ROC AUC: 0.7579934569493014\n",
      "Epoch: 19 ; Loss: tensor(0.7899, grad_fn=<BinaryCrossEntropyWithLogitsBackward0>) ; Test ROC AUC: 0.7555278826810243\n",
      "Epoch: 20 ; Loss: tensor(0.7701, grad_fn=<BinaryCrossEntropyWithLogitsBackward0>) ; Test ROC AUC: 0.751146879615023\n"
     ]
    }
   ],
   "source": [
    "for epoch in range(11, 21):\n",
    "    loss = train()\n",
    "    roc_auc = test()\n",
    "    print(\"Epoch:\", epoch, \"; Loss:\", loss, \"; Test ROC AUC:\", roc_auc)"
   ]
  },
  {
   "cell_type": "code",
   "execution_count": 23,
   "id": "a4d24fc2-45a9-4020-bda1-9a353cb9ccac",
   "metadata": {},
   "outputs": [
    {
     "name": "stdout",
     "output_type": "stream",
     "text": [
      "tensor([ 0.0666,  0.4319,  0.0088,  ...,  0.4245, -0.0031, -0.0181])\n",
      "precision: 0.32546035881228974 \n",
      "recall: 0.4469837429363986\n"
     ]
    },
    {
     "data": {
      "image/png": "[encoded data removed]",
      "text/plain": [
       "<Figure size 432x288 with 1 Axes>"
      ]
     },
     "metadata": {
      "needs_background": "light"
     },
     "output_type": "display_data"
    }
   ],
   "source": [
    "full_test()"
   ]
  },
  {
   "cell_type": "code",
   "execution_count": 24,
   "id": "9f97be61-50cb-4061-9d4b-c38cb23fe835",
   "metadata": {},
   "outputs": [
    {
     "data": {
      "text/plain": [
       "tensor([[-0.1433,  0.0097,  0.0989,  ...,  0.2064, -0.0479,  0.1719],\n",
       "        [-0.0692, -0.0005, -0.0018,  ...,  0.0494, -0.0432,  0.0615],\n",
       "        [-0.0086,  0.0089, -0.0023,  ...,  0.0052, -0.0084,  0.0424],\n",
       "        ...,\n",
       "        [-0.0403, -0.0972,  0.0121,  ...,  0.0717, -0.0172, -0.0785],\n",
       "        [-0.0096, -0.0365,  0.0252,  ..., -0.0192, -0.0198, -0.0091],\n",
       "        [-0.0325, -0.1020,  0.0247,  ...,  0.0700, -0.0158, -0.0574]],\n",
       "       grad_fn=<AddBackward0>)"
      ]
     },
     "execution_count": 24,
     "metadata": {},
     "output_type": "execute_result"
    }
   ],
   "source": [
    "model.eval()\n",
    "model.encode()"
   ]
  },
  {
   "cell_type": "code",
   "execution_count": 25,
   "id": "84d41c17-6a1c-4a1d-b9a3-cc30f527ac39",
   "metadata": {},
   "outputs": [
    {
     "name": "stdout",
     "output_type": "stream",
     "text": [
      "Epoch: 21 ; Loss: tensor(0.7522, grad_fn=<BinaryCrossEntropyWithLogitsBackward0>) ; Test ROC AUC: 0.744047692829638\n",
      "Epoch: 22 ; Loss: tensor(0.7362, grad_fn=<BinaryCrossEntropyWithLogitsBackward0>) ; Test ROC AUC: 0.7333378246254986\n",
      "Epoch: 23 ; Loss: tensor(0.7222, grad_fn=<BinaryCrossEntropyWithLogitsBackward0>) ; Test ROC AUC: 0.7188626137036236\n",
      "Epoch: 24 ; Loss: tensor(0.7105, grad_fn=<BinaryCrossEntropyWithLogitsBackward0>) ; Test ROC AUC: 0.7000721817584457\n",
      "Epoch: 25 ; Loss: tensor(0.7005, grad_fn=<BinaryCrossEntropyWithLogitsBackward0>) ; Test ROC AUC: 0.6772320776638246\n"
     ]
    }
   ],
   "source": [
    "for epoch in range(21, 26):\n",
    "    loss = train()\n",
    "    roc_auc = test()\n",
    "    print(\"Epoch:\", epoch, \"; Loss:\", loss, \"; Test ROC AUC:\", roc_auc)"
   ]
  },
  {
   "cell_type": "code",
   "execution_count": 26,
   "id": "6fbd428b-67d7-4169-8b65-b3508b0eadce",
   "metadata": {},
   "outputs": [
    {
     "name": "stdout",
     "output_type": "stream",
     "text": [
      "tensor([-0.2166,  0.1704, -0.0507,  ...,  0.1714, -0.0311, -0.0361])\n",
      "precision: 0.29562585542234016 \n",
      "recall: 0.29540845016067274\n"
     ]
    },
    {
     "data": {
      "image/png": "[encoded data removed]",
      "text/plain": [
       "<Figure size 432x288 with 1 Axes>"
      ]
     },
     "metadata": {
      "needs_background": "light"
     },
     "output_type": "display_data"
    }
   ],
   "source": [
    "full_test()"
   ]
  },
  {
   "cell_type": "code",
   "execution_count": 27,
   "id": "f90a113b-1ddc-4d96-a527-cca75cc2044e",
   "metadata": {},
   "outputs": [
    {
     "data": {
      "text/plain": [
       "tensor([[-0.0818,  0.0969,  0.0227,  ...,  0.0825,  0.0057,  0.1202],\n",
       "        [-0.0431,  0.0253, -0.0345,  ...,  0.0001, -0.0253,  0.0443],\n",
       "        [ 0.0068,  0.0242, -0.0198,  ..., -0.0208,  0.0064,  0.0319],\n",
       "        ...,\n",
       "        [-0.0326, -0.0720, -0.0114,  ...,  0.0353, -0.0135, -0.1034],\n",
       "        [-0.0050, -0.0191,  0.0146,  ..., -0.0523, -0.0300, -0.0461],\n",
       "        [-0.0284, -0.0783,  0.0078,  ...,  0.0369, -0.0103, -0.0795]],\n",
       "       grad_fn=<AddBackward0>)"
      ]
     },
     "execution_count": 27,
     "metadata": {},
     "output_type": "execute_result"
    }
   ],
   "source": [
    "model.eval()\n",
    "z = model.encode()\n",
    "z"
   ]
  },
  {
   "cell_type": "code",
   "execution_count": 28,
   "id": "2bc51578-24ef-4192-beff-c0f3af5db47c",
   "metadata": {},
   "outputs": [
    {
     "data": {
      "text/plain": [
       "tensor([0.5803, 0.5594, 0.6413,  ..., 0.5040, 0.4959, 0.4672],\n",
       "       grad_fn=<SigmoidBackward0>)"
      ]
     },
     "execution_count": 28,
     "metadata": {},
     "output_type": "execute_result"
    }
   ],
   "source": [
    "model.decode(z, data.train_pos_edge_index, data.train_neg_edge_index).sigmoid()"
   ]
  },
  {
   "cell_type": "markdown",
   "id": "57824c35-5f42-421e-b3b3-228e097502fd",
   "metadata": {},
   "source": [
    "## Alternative Model to fix things"
   ]
  },
  {
   "cell_type": "code",
   "execution_count": 15,
   "id": "0e9e62c4-4a8e-4174-b689-99df494105cb",
   "metadata": {},
   "outputs": [],
   "source": [
    "class GNN_homogen_with_data_cached(torch.nn.Module):\n",
    "    '''\n",
    "    basic implementation of GNN, inspired by content shown in https://antoniolonga.github.io/Pytorch_geometric_tutorials/posts/post12.html from Antionio Longa\n",
    "    '''\n",
    "    def __init__(self):\n",
    "        super(GNN_homogen_with_data_cached, self).__init__()\n",
    "        self.conv1 = GCNConv(data.num_features, int(data.num_features/2), cached=True)\n",
    "        self.conv2 = GCNConv(int(data.num_features/2), 64, cached = True)\n",
    "    \n",
    "    def encode(self):\n",
    "        x = self.conv1(data.x.relu(), data.train_pos_edge_index) # first convolution layer\n",
    "        x = x.relu() # relu function for tu - disables negative values\n",
    "        x = self.conv2(x, data.train_pos_edge_index) # second convolution layer\n",
    "        return x\n",
    "    \n",
    "    def decode(self, z, pos_edge_index, neg_edge_index):\n",
    "        edge_index = torch.cat([pos_edge_index, neg_edge_index], dim=-1) #fuse pos and neg edges together\n",
    "        logits = (z[edge_index[0]] * z[edge_index[1]]).sum(dim=-1) # dot product of ... getting the mapped entries with z? z=model?\n",
    "        return logits\n",
    "    \n",
    "    def decode_all(self, z):\n",
    "        prob_adj = z @ z.t() # get adjacenticy matrix NxN\n",
    "        return (prob_adj > 0).nonzero(as_tuple=False).t() # get predicted edge_list # should this not be 0.5?"
   ]
  },
  {
   "cell_type": "code",
   "execution_count": 16,
   "id": "d91e6832-7faa-45ab-b3a3-967f2de7ba73",
   "metadata": {},
   "outputs": [],
   "source": [
    "def train_2():\n",
    "    model.train()\n",
    "    optimizer.zero_grad()\n",
    "    link_logits = model.decode(model.encode(), data.train_pos_edge_index, data.train_neg_edge_index)\n",
    "    link_labels = get_link_labels(data.train_pos_edge_index, data.train_neg_edge_index)\n",
    "    loss = F.binary_cross_entropy_with_logits(link_logits, link_labels, reduction='sum')\n",
    "    loss.backward()\n",
    "    optimizer.step()\n",
    "    return loss"
   ]
  },
  {
   "cell_type": "code",
   "execution_count": 25,
   "id": "88fb89dc-1099-4a58-b7f3-dbcc676fc825",
   "metadata": {},
   "outputs": [],
   "source": [
    "@torch.no_grad()\n",
    "def z_test():\n",
    "    model.eval()\n",
    "    z = model.encode()\n",
    "    print(z)\n",
    "    return"
   ]
  },
  {
   "cell_type": "code",
   "execution_count": 17,
   "id": "7750a788-2f4f-4c98-b430-877d2d13bd47",
   "metadata": {},
   "outputs": [
    {
     "data": {
      "text/plain": [
       "device(type='cpu')"
      ]
     },
     "execution_count": 17,
     "metadata": {},
     "output_type": "execute_result"
    }
   ],
   "source": [
    "device = torch.device('cuda' if torch.cuda.is_available() else 'cpu')\n",
    "device"
   ]
  },
  {
   "cell_type": "code",
   "execution_count": 18,
   "id": "ba45e591-3b80-45cd-a5f5-cecba95d6c06",
   "metadata": {},
   "outputs": [],
   "source": [
    "data = data_rdkit.to(device)\n",
    "model = GNN_homogen_with_data_cached().to(device)\n",
    "optimizer = torch.optim.Adam(params=model.parameters())#, lr=0.01)"
   ]
  },
  {
   "cell_type": "code",
   "execution_count": 19,
   "id": "b1e2ced3-b937-419a-b163-00cb3b4a3f97",
   "metadata": {},
   "outputs": [
    {
     "name": "stdout",
     "output_type": "stream",
     "text": [
      "Epoch: 1 ; Loss: tensor(8.9781e+08, grad_fn=<BinaryCrossEntropyWithLogitsBackward0>) ; Test ROC AUC: 0.7242989680075109\n",
      "Epoch: 2 ; Loss: tensor(6.6856e+08, grad_fn=<BinaryCrossEntropyWithLogitsBackward0>) ; Test ROC AUC: 0.7309782417928271\n",
      "Epoch: 3 ; Loss: tensor(4.8708e+08, grad_fn=<BinaryCrossEntropyWithLogitsBackward0>) ; Test ROC AUC: 0.7373643229068805\n",
      "Epoch: 4 ; Loss: tensor(3.4809e+08, grad_fn=<BinaryCrossEntropyWithLogitsBackward0>) ; Test ROC AUC: 0.741168834513283\n",
      "Epoch: 5 ; Loss: tensor(2.4565e+08, grad_fn=<BinaryCrossEntropyWithLogitsBackward0>) ; Test ROC AUC: 0.7422895928006011\n",
      "Epoch: 6 ; Loss: tensor(1.7405e+08, grad_fn=<BinaryCrossEntropyWithLogitsBackward0>) ; Test ROC AUC: 0.7439112265025393\n",
      "Epoch: 7 ; Loss: tensor(1.2809e+08, grad_fn=<BinaryCrossEntropyWithLogitsBackward0>) ; Test ROC AUC: 0.7461738684772207\n",
      "Epoch: 8 ; Loss: tensor(1.0185e+08, grad_fn=<BinaryCrossEntropyWithLogitsBackward0>) ; Test ROC AUC: 0.7485974582470802\n",
      "Epoch: 9 ; Loss: tensor(88745320., grad_fn=<BinaryCrossEntropyWithLogitsBackward0>) ; Test ROC AUC: 0.7503451043515802\n",
      "Epoch: 10 ; Loss: tensor(83530496., grad_fn=<BinaryCrossEntropyWithLogitsBackward0>) ; Test ROC AUC: 0.7508831447972492\n"
     ]
    }
   ],
   "source": [
    "for epoch in range(1, 11):\n",
    "    loss = train_2()\n",
    "    roc_auc = test()\n",
    "    print(\"Epoch:\", epoch, \"; Loss:\", loss, \"; Test ROC AUC:\", roc_auc)"
   ]
  },
  {
   "cell_type": "code",
   "execution_count": 24,
   "id": "33191d7b-9f15-42bf-8a0e-7a0ddc082242",
   "metadata": {},
   "outputs": [
    {
     "name": "stdout",
     "output_type": "stream",
     "text": [
      "tensor([1.4182, 1.7766, 0.2950,  ..., 1.7239, 0.1113, 0.1064])\n",
      "precision: 0.339743216406529 \n",
      "recall: 0.6102018609376372\n"
     ]
    },
    {
     "data": {
      "image/png": "[encoded data removed]",
      "text/plain": [
       "<Figure size 432x288 with 1 Axes>"
      ]
     },
     "metadata": {
      "needs_background": "light"
     },
     "output_type": "display_data"
    }
   ],
   "source": [
    "full_test()"
   ]
  },
  {
   "cell_type": "code",
   "execution_count": 26,
   "id": "922b412a-4f56-419d-8148-4b09ce64be51",
   "metadata": {},
   "outputs": [
    {
     "name": "stdout",
     "output_type": "stream",
     "text": [
      "tensor([[-0.1450,  0.2688,  0.2312,  ..., -0.1882,  0.0748, -0.2233],\n",
      "        [-0.0480,  0.0495,  0.0916,  ..., -0.0197, -0.0080, -0.0617],\n",
      "        [-0.0993,  0.0621,  0.0518,  ..., -0.0214, -0.0005, -0.0428],\n",
      "        ...,\n",
      "        [-0.1081,  0.0408,  0.0410,  ..., -0.0474,  0.0368, -0.1320],\n",
      "        [-0.1324,  0.1811,  0.0460,  ..., -0.0894, -0.0805, -0.0610],\n",
      "        [-0.0852,  0.0256,  0.0416,  ..., -0.0378,  0.0775, -0.1210]])\n"
     ]
    }
   ],
   "source": [
    "z_test()"
   ]
  },
  {
   "cell_type": "code",
   "execution_count": 27,
   "id": "88d47b28-f84d-4ba6-b404-3511fe849e3b",
   "metadata": {},
   "outputs": [
    {
     "name": "stdout",
     "output_type": "stream",
     "text": [
      "Epoch: 11 ; Loss: tensor(82155712., grad_fn=<BinaryCrossEntropyWithLogitsBackward0>) ; Test ROC AUC: 0.7507464775112872\n",
      "Epoch: 12 ; Loss: tensor(81380080., grad_fn=<BinaryCrossEntropyWithLogitsBackward0>) ; Test ROC AUC: 0.7505390308352826\n",
      "Epoch: 13 ; Loss: tensor(79846944., grad_fn=<BinaryCrossEntropyWithLogitsBackward0>) ; Test ROC AUC: 0.7501128650922967\n",
      "Epoch: 14 ; Loss: tensor(77426520., grad_fn=<BinaryCrossEntropyWithLogitsBackward0>) ; Test ROC AUC: 0.7494684374898192\n",
      "Epoch: 15 ; Loss: tensor(74465088., grad_fn=<BinaryCrossEntropyWithLogitsBackward0>) ; Test ROC AUC: 0.7490902712146033\n",
      "Epoch: 16 ; Loss: tensor(71163768., grad_fn=<BinaryCrossEntropyWithLogitsBackward0>) ; Test ROC AUC: 0.7489670001894655\n",
      "Epoch: 17 ; Loss: tensor(67661136., grad_fn=<BinaryCrossEntropyWithLogitsBackward0>) ; Test ROC AUC: 0.7488636254086836\n",
      "Epoch: 18 ; Loss: tensor(64158672., grad_fn=<BinaryCrossEntropyWithLogitsBackward0>) ; Test ROC AUC: 0.7486202947720062\n",
      "Epoch: 19 ; Loss: tensor(60847532., grad_fn=<BinaryCrossEntropyWithLogitsBackward0>) ; Test ROC AUC: 0.7477837000182289\n",
      "Epoch: 20 ; Loss: tensor(57870240., grad_fn=<BinaryCrossEntropyWithLogitsBackward0>) ; Test ROC AUC: 0.7455217516116425\n"
     ]
    }
   ],
   "source": [
    "for epoch in range(11, 21):\n",
    "    loss = train_2()\n",
    "    roc_auc = test()\n",
    "    print(\"Epoch:\", epoch, \"; Loss:\", loss, \"; Test ROC AUC:\", roc_auc)"
   ]
  },
  {
   "cell_type": "code",
   "execution_count": 28,
   "id": "82040b4f-c1d6-4585-8554-7d849c849e8c",
   "metadata": {},
   "outputs": [
    {
     "name": "stdout",
     "output_type": "stream",
     "text": [
      "tensor([0.3356, 0.5646, 0.0615,  ..., 0.5634, 0.0305, 0.0385])\n",
      "precision: 0.33422005339150374 \n",
      "recall: 0.591046048069185\n"
     ]
    },
    {
     "data": {
      "image/png": "[encoded data removed]",
      "text/plain": [
       "<Figure size 432x288 with 1 Axes>"
      ]
     },
     "metadata": {
      "needs_background": "light"
     },
     "output_type": "display_data"
    }
   ],
   "source": [
    "full_test()"
   ]
  },
  {
   "cell_type": "code",
   "execution_count": 29,
   "id": "fe0ddcb9-1295-4dc0-a28e-e10eb5a7fb05",
   "metadata": {},
   "outputs": [
    {
     "name": "stdout",
     "output_type": "stream",
     "text": [
      "tensor([[-0.1529,  0.1316,  0.1137,  ...,  0.0548, -0.1824, -0.0795],\n",
      "        [-0.0508,  0.0233,  0.0478,  ...,  0.0460, -0.0769, -0.0225],\n",
      "        [-0.0961,  0.0425,  0.0172,  ...,  0.0184, -0.0487, -0.0059],\n",
      "        ...,\n",
      "        [-0.0567, -0.0218,  0.0472,  ...,  0.0530, -0.0184, -0.0814],\n",
      "        [-0.0804,  0.1232,  0.0674,  ...,  0.0496, -0.1660,  0.0133],\n",
      "        [-0.0334, -0.0411,  0.0474,  ...,  0.0593,  0.0147, -0.0789]])\n"
     ]
    }
   ],
   "source": [
    "z_test()"
   ]
  },
  {
   "cell_type": "markdown",
   "id": "d2316002-c700-4184-b3fd-84c3ddde0367",
   "metadata": {},
   "source": [
    "## Alternative Model using bilinear layer instead of dotproduct for decode"
   ]
  },
  {
   "cell_type": "code",
   "execution_count": 13,
   "id": "31597ce3-db16-4de9-b295-9574d17c1097",
   "metadata": {},
   "outputs": [],
   "source": [
    "from torch.nn import Bilinear, Flatten"
   ]
  },
  {
   "cell_type": "code",
   "execution_count": 14,
   "id": "d19b6071-d837-434d-af4d-48c903d21358",
   "metadata": {},
   "outputs": [],
   "source": [
    "class GNN_homogen_with_data_bil(torch.nn.Module):\n",
    "    '''\n",
    "    basic implementation of GNN, inspired by content shown in https://antoniolonga.github.io/Pytorch_geometric_tutorials/posts/post12.html from Antionio Longa\n",
    "    '''\n",
    "    def __init__(self):\n",
    "        super(GNN_homogen_with_data_bil, self).__init__()\n",
    "        self.conv1 = GCNConv(data.num_features, int(data.num_features/2))\n",
    "        self.conv2 = GCNConv(int(data.num_features/2), 64)\n",
    "        self.bilin = Bilinear(64, 64, 1)\n",
    "        self.endflat = Flatten(0,-1)\n",
    "    \n",
    "    def encode(self):\n",
    "        x = self.conv1(data.x.relu(), data.train_pos_edge_index) # first convolution layer\n",
    "        x = x.relu() # relu function for tu - disables negative values\n",
    "        x = self.conv2(x, data.train_pos_edge_index) # second convolution layer\n",
    "        return x\n",
    "    \n",
    "    def decode(self, z, pos_edge_index, neg_edge_index):\n",
    "        edge_index = torch.cat([pos_edge_index, neg_edge_index], dim=-1) #fuse pos and neg edges together\n",
    "        logits = self.endflat(self.bilin(z[edge_index[0]], z[edge_index[1]]))\n",
    "        return logits"
   ]
  },
  {
   "cell_type": "code",
   "execution_count": 15,
   "id": "a15a9ffe-1c6f-4345-ab7a-9104d1b89299",
   "metadata": {},
   "outputs": [
    {
     "data": {
      "text/plain": [
       "device(type='cpu')"
      ]
     },
     "execution_count": 15,
     "metadata": {},
     "output_type": "execute_result"
    }
   ],
   "source": [
    "device = torch.device('cuda' if torch.cuda.is_available() else 'cpu')\n",
    "device"
   ]
  },
  {
   "cell_type": "code",
   "execution_count": 16,
   "id": "0c1fec2d-5232-4eae-8b1b-cd90d3ed2c8c",
   "metadata": {},
   "outputs": [],
   "source": [
    "data = data_rdkit.to(device)\n",
    "model = GNN_homogen_with_data_bil().to(device)\n",
    "optimizer = torch.optim.Adam(params=model.parameters())#, lr=0.01)"
   ]
  },
  {
   "cell_type": "code",
   "execution_count": 17,
   "id": "c7c5594d-cf6b-4943-b3b0-258cf4355e3f",
   "metadata": {},
   "outputs": [
    {
     "ename": "RuntimeError",
     "evalue": "[enforce fail at ..\\c10\\core\\CPUAllocator.cpp:76] data. DefaultCPUAllocator: not enough memory: you tried to allocate 1091043983360 bytes.",
     "output_type": "error",
     "traceback": [
      "\u001b[1;31m---------------------------------------------------------------------------\u001b[0m",
      "\u001b[1;31mRuntimeError\u001b[0m                              Traceback (most recent call last)",
      "Input \u001b[1;32mIn [17]\u001b[0m, in \u001b[0;36m<module>\u001b[1;34m\u001b[0m\n\u001b[0;32m      1\u001b[0m \u001b[38;5;28;01mfor\u001b[39;00m epoch \u001b[38;5;129;01min\u001b[39;00m \u001b[38;5;28mrange\u001b[39m(\u001b[38;5;241m1\u001b[39m, \u001b[38;5;241m6\u001b[39m):\n\u001b[1;32m----> 2\u001b[0m     loss \u001b[38;5;241m=\u001b[39m \u001b[43mtrain\u001b[49m\u001b[43m(\u001b[49m\u001b[43m)\u001b[49m\n\u001b[0;32m      3\u001b[0m     roc_auc \u001b[38;5;241m=\u001b[39m test()\n\u001b[0;32m      4\u001b[0m     \u001b[38;5;28mprint\u001b[39m(\u001b[38;5;124m\"\u001b[39m\u001b[38;5;124mEpoch:\u001b[39m\u001b[38;5;124m\"\u001b[39m, epoch, \u001b[38;5;124m\"\u001b[39m\u001b[38;5;124m; Loss:\u001b[39m\u001b[38;5;124m\"\u001b[39m, loss, \u001b[38;5;124m\"\u001b[39m\u001b[38;5;124m; Test ROC AUC:\u001b[39m\u001b[38;5;124m\"\u001b[39m, roc_auc)\n",
      "Input \u001b[1;32mIn [10]\u001b[0m, in \u001b[0;36mtrain\u001b[1;34m()\u001b[0m\n\u001b[0;32m      5\u001b[0m link_labels \u001b[38;5;241m=\u001b[39m get_link_labels(data\u001b[38;5;241m.\u001b[39mtrain_pos_edge_index, data\u001b[38;5;241m.\u001b[39mtrain_neg_edge_index)\n\u001b[0;32m      6\u001b[0m loss \u001b[38;5;241m=\u001b[39m F\u001b[38;5;241m.\u001b[39mbinary_cross_entropy_with_logits(link_logits, link_labels)\n\u001b[1;32m----> 7\u001b[0m \u001b[43mloss\u001b[49m\u001b[38;5;241;43m.\u001b[39;49m\u001b[43mbackward\u001b[49m\u001b[43m(\u001b[49m\u001b[43m)\u001b[49m\n\u001b[0;32m      8\u001b[0m optimizer\u001b[38;5;241m.\u001b[39mstep()\n\u001b[0;32m      9\u001b[0m \u001b[38;5;28;01mreturn\u001b[39;00m loss\n",
      "File \u001b[1;32m~\\Anaconda3new\\envs\\Bachelorarbeit\\lib\\site-packages\\torch\\_tensor.py:307\u001b[0m, in \u001b[0;36mTensor.backward\u001b[1;34m(self, gradient, retain_graph, create_graph, inputs)\u001b[0m\n\u001b[0;32m    298\u001b[0m \u001b[38;5;28;01mif\u001b[39;00m has_torch_function_unary(\u001b[38;5;28mself\u001b[39m):\n\u001b[0;32m    299\u001b[0m     \u001b[38;5;28;01mreturn\u001b[39;00m handle_torch_function(\n\u001b[0;32m    300\u001b[0m         Tensor\u001b[38;5;241m.\u001b[39mbackward,\n\u001b[0;32m    301\u001b[0m         (\u001b[38;5;28mself\u001b[39m,),\n\u001b[1;32m   (...)\u001b[0m\n\u001b[0;32m    305\u001b[0m         create_graph\u001b[38;5;241m=\u001b[39mcreate_graph,\n\u001b[0;32m    306\u001b[0m         inputs\u001b[38;5;241m=\u001b[39minputs)\n\u001b[1;32m--> 307\u001b[0m \u001b[43mtorch\u001b[49m\u001b[38;5;241;43m.\u001b[39;49m\u001b[43mautograd\u001b[49m\u001b[38;5;241;43m.\u001b[39;49m\u001b[43mbackward\u001b[49m\u001b[43m(\u001b[49m\u001b[38;5;28;43mself\u001b[39;49m\u001b[43m,\u001b[49m\u001b[43m \u001b[49m\u001b[43mgradient\u001b[49m\u001b[43m,\u001b[49m\u001b[43m \u001b[49m\u001b[43mretain_graph\u001b[49m\u001b[43m,\u001b[49m\u001b[43m \u001b[49m\u001b[43mcreate_graph\u001b[49m\u001b[43m,\u001b[49m\u001b[43m \u001b[49m\u001b[43minputs\u001b[49m\u001b[38;5;241;43m=\u001b[39;49m\u001b[43minputs\u001b[49m\u001b[43m)\u001b[49m\n",
      "File \u001b[1;32m~\\Anaconda3new\\envs\\Bachelorarbeit\\lib\\site-packages\\torch\\autograd\\__init__.py:154\u001b[0m, in \u001b[0;36mbackward\u001b[1;34m(tensors, grad_tensors, retain_graph, create_graph, grad_variables, inputs)\u001b[0m\n\u001b[0;32m    151\u001b[0m \u001b[38;5;28;01mif\u001b[39;00m retain_graph \u001b[38;5;129;01mis\u001b[39;00m \u001b[38;5;28;01mNone\u001b[39;00m:\n\u001b[0;32m    152\u001b[0m     retain_graph \u001b[38;5;241m=\u001b[39m create_graph\n\u001b[1;32m--> 154\u001b[0m \u001b[43mVariable\u001b[49m\u001b[38;5;241;43m.\u001b[39;49m\u001b[43m_execution_engine\u001b[49m\u001b[38;5;241;43m.\u001b[39;49m\u001b[43mrun_backward\u001b[49m\u001b[43m(\u001b[49m\n\u001b[0;32m    155\u001b[0m \u001b[43m    \u001b[49m\u001b[43mtensors\u001b[49m\u001b[43m,\u001b[49m\u001b[43m \u001b[49m\u001b[43mgrad_tensors_\u001b[49m\u001b[43m,\u001b[49m\u001b[43m \u001b[49m\u001b[43mretain_graph\u001b[49m\u001b[43m,\u001b[49m\u001b[43m \u001b[49m\u001b[43mcreate_graph\u001b[49m\u001b[43m,\u001b[49m\u001b[43m \u001b[49m\u001b[43minputs\u001b[49m\u001b[43m,\u001b[49m\n\u001b[0;32m    156\u001b[0m \u001b[43m    \u001b[49m\u001b[43mallow_unreachable\u001b[49m\u001b[38;5;241;43m=\u001b[39;49m\u001b[38;5;28;43;01mTrue\u001b[39;49;00m\u001b[43m,\u001b[49m\u001b[43m \u001b[49m\u001b[43maccumulate_grad\u001b[49m\u001b[38;5;241;43m=\u001b[39;49m\u001b[38;5;28;43;01mTrue\u001b[39;49;00m\u001b[43m)\u001b[49m\n",
      "\u001b[1;31mRuntimeError\u001b[0m: [enforce fail at ..\\c10\\core\\CPUAllocator.cpp:76] data. DefaultCPUAllocator: not enough memory: you tried to allocate 1091043983360 bytes."
     ]
    }
   ],
   "source": [
    "for epoch in range(1, 6):\n",
    "    loss = train()\n",
    "    roc_auc = test()\n",
    "    print(\"Epoch:\", epoch, \"; Loss:\", loss, \"; Test ROC AUC:\", roc_auc)"
   ]
  },
  {
   "cell_type": "markdown",
   "id": "8d8d2a30-9088-43ff-8803-b6fd3e35afd8",
   "metadata": {},
   "source": [
    "## Beginning of accuracy section"
   ]
  },
  {
   "cell_type": "code",
   "execution_count": 21,
   "id": "b5b78695-7897-4366-bc06-1bbab40c7432",
   "metadata": {},
   "outputs": [],
   "source": [
    "from sklearn import metrics\n",
    "import matplotlib.pyplot as plt\n",
    "from collections import defaultdict"
   ]
  },
  {
   "cell_type": "code",
   "execution_count": 22,
   "id": "9fa8d597-1a61-4965-8886-c209a3c032b3",
   "metadata": {},
   "outputs": [],
   "source": [
    "def calc_and_plot_ROC_pyg(link_labels, link_logits):\n",
    "    label_prob = link_logits.sigmoid()\n",
    "    # use sklearn to get fpr and tpr\n",
    "    fpr, tpr, _ = metrics.roc_curve(link_labels.detach().numpy(), label_prob.detach().numpy())\n",
    "    # calculate the roc_auc (area under the curve)\n",
    "    roc_auc = metrics.auc(fpr, tpr)\n",
    "    # PLOT THE ROC CURVE\n",
    "    '''\n",
    "    Following code inspired/partly copied from https://scikit-learn.org/stable/auto_examples/model_selection/plot_roc.html#sphx-glr-auto-examples-model-selection-plot-roc-py\n",
    "    '''\n",
    "    plt.figure()\n",
    "    plt.plot(fpr, tpr, color=\"darkorange\", label=\"ROC curve (ROC AUC=%0.2f)\" % roc_auc)\n",
    "    plt.plot([0,1], [0,1], color=\"blue\", linestyle=\"--\")\n",
    "    plt.xlim([-0.05, 1.0])\n",
    "    plt.ylim([0.0, 1.05])\n",
    "    plt.xlabel(\"False Positive Rate\")\n",
    "    plt.ylabel(\"True Positive Rate\")\n",
    "    plt.title(\"ROC CURVE\")\n",
    "    plt.legend(loc=\"lower right\")\n",
    "    plt.show()"
   ]
  },
  {
   "cell_type": "code",
   "execution_count": 74,
   "id": "dd3edbea-3651-444d-8e7d-72f59363b695",
   "metadata": {},
   "outputs": [
    {
     "data": {
      "image/png": "[encoded data removed]",
      "text/plain": [
       "<Figure size 432x288 with 1 Axes>"
      ]
     },
     "metadata": {
      "needs_background": "light"
     },
     "output_type": "display_data"
    }
   ],
   "source": [
    "calc_and_plot_ROC_pyg(link_labels, link_logits)"
   ]
  },
  {
   "cell_type": "code",
   "execution_count": 23,
   "id": "332bd84c-90d4-40cb-81b2-411c0e4973c1",
   "metadata": {},
   "outputs": [],
   "source": [
    "def accuracy_precision_recall_pyg(edge_index, link_labels, link_logits, id_breakpoint):\n",
    "    # define function for creating precision and recall at k for each user\n",
    "    def precision_recall_at_k(edge_index, link_labels, link_logits, k, threshold, id_breakpoint):\n",
    "        # problem with duplicity of edges... fixed with double of simplelib k, then it should result in the same metrics\n",
    "        user_est_true = defaultdict(list)\n",
    "        # write user_est_true\n",
    "        for edge, true_label, pred_label in zip(edge_index.t().detach().numpy(), link_labels.detach().numpy(), link_logits.sigmoid().detach().numpy()):\n",
    "            user = None\n",
    "            # determine user. user = experiment\n",
    "            if edge[0]<id_breakpoint:\n",
    "                user = edge[0]\n",
    "            else:\n",
    "                user = edge[1]\n",
    "            # write into user_est_true\n",
    "            user_est_true[user].append((pred_label, true_label))\n",
    "\n",
    "        # create precisions and recalls dictionary\n",
    "        precisions = dict()\n",
    "        recalls = dict()\n",
    "        for uid, user_ratings in user_est_true.items():\n",
    "\n",
    "            # Sort user ratings by estimated value\n",
    "            user_ratings.sort(key=lambda x: x[0], reverse=True)\n",
    "\n",
    "            # Number of relevant items\n",
    "            n_rel = sum((true_r >= threshold) for (_, true_r) in user_ratings)\n",
    "\n",
    "            # Number of recommended items in top k\n",
    "            n_rec_k = sum((est >= threshold) for (est, _) in user_ratings[:k])\n",
    "\n",
    "            # Number of relevant and recommended items in top k\n",
    "            n_rel_and_rec_k = sum(((true_r >= threshold) and (est >= threshold))\n",
    "                                  for (est, true_r) in user_ratings[:k])\n",
    "\n",
    "            # Precision@K: Proportion of recommended items that are relevant\n",
    "            # When n_rec_k is 0, Precision is undefined. We here set it to 0.\n",
    "\n",
    "            precisions[uid] = n_rel_and_rec_k / n_rec_k if n_rec_k != 0 else 0\n",
    "\n",
    "            # Recall@K: Proportion of relevant items that are recommended\n",
    "            # When n_rel is 0, Recall is undefined. We here set it to 0.\n",
    "\n",
    "            recalls[uid] = n_rel_and_rec_k / n_rel if n_rel != 0 else 0\n",
    "        return precisions, recalls\n",
    "    # execute precision-recall function and compute average over precision and recall values\n",
    "    precision_list, recall_list = precision_recall_at_k(edge_index, link_labels, link_logits, 200, 0.5, id_breakpoint)\n",
    "    p = sum(precision_list.values())/len(precision_list)\n",
    "    r = sum(recall_list.values())/len(recall_list)\n",
    "    return p, r"
   ]
  },
  {
   "cell_type": "code",
   "execution_count": 10,
   "id": "73d1c190-851b-4534-a7cc-d80781d244f0",
   "metadata": {},
   "outputs": [],
   "source": [
    "import pandas as pd"
   ]
  },
  {
   "cell_type": "code",
   "execution_count": 11,
   "id": "cf83ce3d-594a-42d9-b9ec-a9d67f3c2cdc",
   "metadata": {},
   "outputs": [],
   "source": [
    "edge_index = torch.cat([data.train_pos_edge_index, data.train_neg_edge_index], dim=-1)"
   ]
  },
  {
   "cell_type": "code",
   "execution_count": 12,
   "id": "fdfa86f7-75fe-4795-bc03-d79e109052ab",
   "metadata": {},
   "outputs": [
    {
     "data": {
      "text/plain": [
       "torch.Size([2, 66592040])"
      ]
     },
     "execution_count": 12,
     "metadata": {},
     "output_type": "execute_result"
    }
   ],
   "source": [
    "edge_index.size()"
   ]
  },
  {
   "cell_type": "code",
   "execution_count": 13,
   "id": "90ca73f9-4d0a-4c81-9920-78b6ed9b887d",
   "metadata": {},
   "outputs": [],
   "source": [
    "link_logits = link_labels.clone()"
   ]
  },
  {
   "cell_type": "code",
   "execution_count": 14,
   "id": "1f5f8744-e819-4563-8544-0433dc9c6318",
   "metadata": {},
   "outputs": [],
   "source": [
    "temp = pd.DataFrame(np.c_[np.transpose(edge_index.detach().numpy()), link_labels.detach().numpy(), link_logits.sigmoid().detach().numpy()], columns=['id1', 'id2', 'true_label', 'pred_label'])"
   ]
  },
  {
   "cell_type": "code",
   "execution_count": 15,
   "id": "d3cffbf2-8bc2-4785-8110-1dfa7451be84",
   "metadata": {},
   "outputs": [
    {
     "data": {
      "text/html": [
       "<div>\n",
       "<style scoped>\n",
       "    .dataframe tbody tr th:only-of-type {\n",
       "        vertical-align: middle;\n",
       "    }\n",
       "\n",
       "    .dataframe tbody tr th {\n",
       "        vertical-align: top;\n",
       "    }\n",
       "\n",
       "    .dataframe thead th {\n",
       "        text-align: right;\n",
       "    }\n",
       "</style>\n",
       "<table border=\"1\" class=\"dataframe\">\n",
       "  <thead>\n",
       "    <tr style=\"text-align: right;\">\n",
       "      <th></th>\n",
       "      <th>id1</th>\n",
       "      <th>id2</th>\n",
       "      <th>true_label</th>\n",
       "      <th>pred_label</th>\n",
       "    </tr>\n",
       "  </thead>\n",
       "  <tbody>\n",
       "    <tr>\n",
       "      <th>0</th>\n",
       "      <td>2119.0</td>\n",
       "      <td>303887.0</td>\n",
       "      <td>1.0</td>\n",
       "      <td>0.731059</td>\n",
       "    </tr>\n",
       "    <tr>\n",
       "      <th>1</th>\n",
       "      <td>1020.0</td>\n",
       "      <td>35844.0</td>\n",
       "      <td>1.0</td>\n",
       "      <td>0.731059</td>\n",
       "    </tr>\n",
       "    <tr>\n",
       "      <th>2</th>\n",
       "      <td>102.0</td>\n",
       "      <td>258793.0</td>\n",
       "      <td>1.0</td>\n",
       "      <td>0.731059</td>\n",
       "    </tr>\n",
       "    <tr>\n",
       "      <th>3</th>\n",
       "      <td>753.0</td>\n",
       "      <td>344510.0</td>\n",
       "      <td>1.0</td>\n",
       "      <td>0.731059</td>\n",
       "    </tr>\n",
       "    <tr>\n",
       "      <th>4</th>\n",
       "      <td>1308.0</td>\n",
       "      <td>355446.0</td>\n",
       "      <td>1.0</td>\n",
       "      <td>0.731059</td>\n",
       "    </tr>\n",
       "    <tr>\n",
       "      <th>...</th>\n",
       "      <td>...</td>\n",
       "      <td>...</td>\n",
       "      <td>...</td>\n",
       "      <td>...</td>\n",
       "    </tr>\n",
       "    <tr>\n",
       "      <th>66592035</th>\n",
       "      <td>349241.0</td>\n",
       "      <td>302.0</td>\n",
       "      <td>0.0</td>\n",
       "      <td>0.500000</td>\n",
       "    </tr>\n",
       "    <tr>\n",
       "      <th>66592036</th>\n",
       "      <td>237878.0</td>\n",
       "      <td>769.0</td>\n",
       "      <td>0.0</td>\n",
       "      <td>0.500000</td>\n",
       "    </tr>\n",
       "    <tr>\n",
       "      <th>66592037</th>\n",
       "      <td>425314.0</td>\n",
       "      <td>2208.0</td>\n",
       "      <td>0.0</td>\n",
       "      <td>0.500000</td>\n",
       "    </tr>\n",
       "    <tr>\n",
       "      <th>66592038</th>\n",
       "      <td>447778.0</td>\n",
       "      <td>152.0</td>\n",
       "      <td>0.0</td>\n",
       "      <td>0.500000</td>\n",
       "    </tr>\n",
       "    <tr>\n",
       "      <th>66592039</th>\n",
       "      <td>53359.0</td>\n",
       "      <td>494.0</td>\n",
       "      <td>0.0</td>\n",
       "      <td>0.500000</td>\n",
       "    </tr>\n",
       "  </tbody>\n",
       "</table>\n",
       "<p>66592040 rows × 4 columns</p>\n",
       "</div>"
      ],
      "text/plain": [
       "               id1       id2  true_label  pred_label\n",
       "0           2119.0  303887.0         1.0    0.731059\n",
       "1           1020.0   35844.0         1.0    0.731059\n",
       "2            102.0  258793.0         1.0    0.731059\n",
       "3            753.0  344510.0         1.0    0.731059\n",
       "4           1308.0  355446.0         1.0    0.731059\n",
       "...            ...       ...         ...         ...\n",
       "66592035  349241.0     302.0         0.0    0.500000\n",
       "66592036  237878.0     769.0         0.0    0.500000\n",
       "66592037  425314.0    2208.0         0.0    0.500000\n",
       "66592038  447778.0     152.0         0.0    0.500000\n",
       "66592039   53359.0     494.0         0.0    0.500000\n",
       "\n",
       "[66592040 rows x 4 columns]"
      ]
     },
     "execution_count": 15,
     "metadata": {},
     "output_type": "execute_result"
    }
   ],
   "source": [
    "temp"
   ]
  },
  {
   "cell_type": "code",
   "execution_count": null,
   "id": "09b2b194-1eab-4520-a97a-bc8a991c24a8",
   "metadata": {},
   "outputs": [],
   "source": [
    "temp.id1.combine(temp.id2, func=lambda x,y: x+y)"
   ]
  },
  {
   "cell_type": "code",
   "execution_count": 89,
   "id": "dc1b3528-f53a-4283-b8c7-d46c76597ed5",
   "metadata": {},
   "outputs": [],
   "source": [
    "precision, recall = accuracy_precision_recall_pyg(torch.cat([data.train_pos_edge_index, data.train_neg_edge_index], dim=-1),\n",
    "                                                 link_labels, link_logits, id_breakpoint)"
   ]
  },
  {
   "cell_type": "code",
   "execution_count": 90,
   "id": "63062f9f-7e7b-4f85-a1f4-9240cc7f4b46",
   "metadata": {},
   "outputs": [
    {
     "name": "stdout",
     "output_type": "stream",
     "text": [
      "precision: 0.36884013842343405 \n",
      "recall: 0.6119862432430785\n"
     ]
    }
   ],
   "source": [
    "print(\"precision:\", precision, \"\\nrecall:\", recall)"
   ]
  },
  {
   "cell_type": "markdown",
   "id": "17e4ef0c-7949-40d5-a339-2c0e14db4f4d",
   "metadata": {},
   "source": [
    "## Testing it with test data - worst test case (manual testing section)"
   ]
  },
  {
   "cell_type": "code",
   "execution_count": 126,
   "id": "37d39a6b-b444-473f-80e7-3a0a6e9d10e6",
   "metadata": {},
   "outputs": [
    {
     "data": {
      "text/plain": [
       "GNN_homogen_with_data(\n",
       "  (conv1): GCNConv(205, 102)\n",
       "  (conv2): GCNConv(102, 64)\n",
       ")"
      ]
     },
     "execution_count": 126,
     "metadata": {},
     "output_type": "execute_result"
    }
   ],
   "source": [
    "model.eval()"
   ]
  },
  {
   "cell_type": "code",
   "execution_count": 127,
   "id": "6c75a61c-dcdd-4b03-bfb3-2051c228c133",
   "metadata": {},
   "outputs": [],
   "source": [
    "z = model.encode()"
   ]
  },
  {
   "cell_type": "code",
   "execution_count": 128,
   "id": "ac3540b9-0bb2-4a8b-8b43-64dd75d39deb",
   "metadata": {},
   "outputs": [
    {
     "data": {
      "text/plain": [
       "tensor([[-0.0330, -0.0004,  0.0117,  ..., -0.0381,  0.0109,  0.0610],\n",
       "        [-0.0330, -0.0004,  0.0116,  ..., -0.0381,  0.0109,  0.0610],\n",
       "        [-0.0330, -0.0004,  0.0116,  ..., -0.0381,  0.0109,  0.0610],\n",
       "        ...,\n",
       "        [-0.0330, -0.0004,  0.0116,  ..., -0.0381,  0.0109,  0.0610],\n",
       "        [-0.0330, -0.0004,  0.0116,  ..., -0.0381,  0.0109,  0.0610],\n",
       "        [-0.0330, -0.0004,  0.0116,  ..., -0.0381,  0.0109,  0.0610]],\n",
       "       grad_fn=<AddBackward0>)"
      ]
     },
     "execution_count": 128,
     "metadata": {},
     "output_type": "execute_result"
    }
   ],
   "source": [
    "z"
   ]
  },
  {
   "cell_type": "code",
   "execution_count": 129,
   "id": "4d5ad26f-d732-4063-8888-b5b7c1ea758d",
   "metadata": {},
   "outputs": [
    {
     "data": {
      "text/plain": [
       "tensor([0.0370, 0.0370, 0.0370,  ..., 0.0370, 0.0370, 0.0370],\n",
       "       grad_fn=<SumBackward1>)"
      ]
     },
     "execution_count": 129,
     "metadata": {},
     "output_type": "execute_result"
    }
   ],
   "source": [
    "link_logits = model.decode(z, data.test_pos_edge_index, data.test_neg_edge_index)\n",
    "link_logits"
   ]
  },
  {
   "cell_type": "code",
   "execution_count": 130,
   "id": "355dffa7-1c4a-4e59-b58e-6c4ac33c2564",
   "metadata": {},
   "outputs": [
    {
     "data": {
      "text/plain": [
       "tensor([0.5093, 0.5092, 0.5092,  ..., 0.5092, 0.5092, 0.5092],\n",
       "       grad_fn=<SigmoidBackward0>)"
      ]
     },
     "execution_count": 130,
     "metadata": {},
     "output_type": "execute_result"
    }
   ],
   "source": [
    "link_probs = link_logits.sigmoid()\n",
    "link_probs"
   ]
  },
  {
   "cell_type": "code",
   "execution_count": 137,
   "id": "6ef03fb7-39ae-4511-b391-3d9d82cafd56",
   "metadata": {
    "tags": []
   },
   "outputs": [
    {
     "data": {
      "text/plain": [
       "tensor(0.0370, grad_fn=<SelectBackward0>)"
      ]
     },
     "execution_count": 137,
     "metadata": {},
     "output_type": "execute_result"
    }
   ],
   "source": [
    "link_logits[0]"
   ]
  },
  {
   "cell_type": "code",
   "execution_count": 131,
   "id": "24dfd794-ab94-4964-ab41-fe0783888248",
   "metadata": {},
   "outputs": [
    {
     "data": {
      "text/plain": [
       "tensor(0)"
      ]
     },
     "execution_count": 131,
     "metadata": {},
     "output_type": "execute_result"
    }
   ],
   "source": [
    "(link_probs<0.5).sum()"
   ]
  },
  {
   "cell_type": "code",
   "execution_count": 132,
   "id": "38f1f423-6849-4522-af29-658cb78b7d24",
   "metadata": {},
   "outputs": [
    {
     "data": {
      "text/plain": [
       "tensor([1., 1., 1.,  ..., 0., 0., 0.])"
      ]
     },
     "execution_count": 132,
     "metadata": {},
     "output_type": "execute_result"
    }
   ],
   "source": [
    "link_labels = get_link_labels(data.test_pos_edge_index, data.test_neg_edge_index)\n",
    "link_labels"
   ]
  },
  {
   "cell_type": "code",
   "execution_count": 133,
   "id": "88ff8ea1-cccb-4ab4-b1fb-efe521ccd951",
   "metadata": {},
   "outputs": [
    {
     "data": {
      "image/png": "[encoded data removed]",
      "text/plain": [
       "<Figure size 432x288 with 1 Axes>"
      ]
     },
     "metadata": {
      "needs_background": "light"
     },
     "output_type": "display_data"
    }
   ],
   "source": [
    "calc_and_plot_ROC_pyg(link_labels, link_logits)"
   ]
  },
  {
   "cell_type": "code",
   "execution_count": 134,
   "id": "70e25b7e-2eb2-466a-af57-edb2020eabf1",
   "metadata": {},
   "outputs": [],
   "source": [
    "precision, recall = accuracy_precision_recall_pyg(torch.cat([data.test_pos_edge_index, data.test_neg_edge_index], dim=-1),\n",
    "                                                 link_labels, link_logits, id_breakpoint)"
   ]
  },
  {
   "cell_type": "code",
   "execution_count": 135,
   "id": "df9bc21e-f0d5-4776-a6f5-6ca437a44eb4",
   "metadata": {},
   "outputs": [
    {
     "name": "stdout",
     "output_type": "stream",
     "text": [
      "precision: 0.3608354276867442 \n",
      "recall: 0.6721041255977497\n"
     ]
    }
   ],
   "source": [
    "print(\"precision:\", precision, \"\\nrecall:\", recall)"
   ]
  },
  {
   "cell_type": "markdown",
   "id": "48ae788b-d81c-445f-beb9-215d92a3365e",
   "metadata": {},
   "source": [
    "## Test section 2"
   ]
  },
  {
   "cell_type": "code",
   "execution_count": 218,
   "id": "30f0f0df-cbd4-43a3-856e-ad1180bf10de",
   "metadata": {},
   "outputs": [
    {
     "data": {
      "text/plain": [
       "tensor([[-0.1414, -0.1699, -0.0718,  ..., -0.0716, -0.1209, -0.1339],\n",
       "        [-0.0779, -0.0596, -0.0362,  ..., -0.0012, -0.0550, -0.0735],\n",
       "        [-0.0961, -0.0153,  0.0493,  ..., -0.0115,  0.0200, -0.0973],\n",
       "        ...,\n",
       "        [-0.0266, -0.0262, -0.0494,  ..., -0.0315, -0.0786,  0.0398],\n",
       "        [ 0.0965,  0.0257, -0.0892,  ..., -0.0850, -0.0207,  0.1184],\n",
       "        [-0.0029, -0.0178, -0.0322,  ..., -0.0350, -0.0455,  0.0485]],\n",
       "       grad_fn=<AddBackward0>)"
      ]
     },
     "execution_count": 218,
     "metadata": {},
     "output_type": "execute_result"
    }
   ],
   "source": [
    "model.eval()\n",
    "z=model.encode()\n",
    "z"
   ]
  },
  {
   "cell_type": "code",
   "execution_count": 219,
   "id": "8536a0de-9601-4ee0-8e43-bbd53af5e966",
   "metadata": {},
   "outputs": [
    {
     "data": {
      "text/plain": [
       "tensor([0.6867, 0.7601, 0.5345,  ..., 0.7459, 0.5091, 0.5096],\n",
       "       grad_fn=<SigmoidBackward0>)"
      ]
     },
     "execution_count": 219,
     "metadata": {},
     "output_type": "execute_result"
    }
   ],
   "source": [
    "link_logits = model.decode(z, data.test_pos_edge_index, data.test_neg_edge_index)\n",
    "link_logits.sigmoid()"
   ]
  },
  {
   "cell_type": "code",
   "execution_count": 223,
   "id": "f63b8fe0-e76d-4780-a593-fb8eb96cab80",
   "metadata": {},
   "outputs": [
    {
     "data": {
      "text/plain": [
       "tensor(510480)"
      ]
     },
     "execution_count": 223,
     "metadata": {},
     "output_type": "execute_result"
    }
   ],
   "source": [
    "(link_logits.sigmoid()<0.5).sum()"
   ]
  },
  {
   "cell_type": "code",
   "execution_count": 220,
   "id": "7848ed2f-3d87-4557-8b95-60c097bc1760",
   "metadata": {},
   "outputs": [
    {
     "data": {
      "text/plain": [
       "tensor([1., 1., 1.,  ..., 0., 0., 0.])"
      ]
     },
     "execution_count": 220,
     "metadata": {},
     "output_type": "execute_result"
    }
   ],
   "source": [
    "link_labels = get_link_labels(data.test_pos_edge_index, data.test_neg_edge_index)\n",
    "link_labels"
   ]
  },
  {
   "cell_type": "code",
   "execution_count": 221,
   "id": "4a1c54b7-00db-4166-9d33-d2271ccbe382",
   "metadata": {},
   "outputs": [
    {
     "data": {
      "image/png": "[encoded data removed]",
      "text/plain": [
       "<Figure size 432x288 with 1 Axes>"
      ]
     },
     "metadata": {
      "needs_background": "light"
     },
     "output_type": "display_data"
    }
   ],
   "source": [
    "calc_and_plot_ROC_pyg(link_labels, link_logits)"
   ]
  },
  {
   "cell_type": "code",
   "execution_count": 222,
   "id": "ff31149c-4284-42db-b29f-a512456b24e9",
   "metadata": {},
   "outputs": [
    {
     "name": "stdout",
     "output_type": "stream",
     "text": [
      "precision: 0.34207395758778514 \n",
      "recall: 0.6056583577358485\n"
     ]
    }
   ],
   "source": [
    "precision, recall = accuracy_precision_recall_pyg(torch.cat([data.test_pos_edge_index, data.test_neg_edge_index], dim=-1),\n",
    "                                                 link_labels, link_logits, id_breakpoint)\n",
    "print(\"precision:\", precision, \"\\nrecall:\", recall)"
   ]
  }
 ],
 "metadata": {
  "kernelspec": {
   "display_name": "Python [conda env:Bachelorarbeit]",
   "language": "python",
   "name": "conda-env-Bachelorarbeit-py"
  },
  "language_info": {
   "codemirror_mode": {
    "name": "ipython",
    "version": 3
   },
   "file_extension": ".py",
   "mimetype": "text/x-python",
   "name": "python",
   "nbconvert_exporter": "python",
   "pygments_lexer": "ipython3",
   "version": "3.8.12"
  }
 },
 "nbformat": 4,
 "nbformat_minor": 5
}

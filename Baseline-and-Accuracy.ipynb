{
 "cells": [
  {
   "cell_type": "markdown",
   "id": "220b9ce8-8b9b-49b5-a658-e820b96e7f6d",
   "metadata": {},
   "source": [
    "# Baseline Recommender and Accuracy"
   ]
  },
  {
   "cell_type": "markdown",
   "id": "42ecc20e-1986-49bc-a099-2a0073ec17b3",
   "metadata": {},
   "source": [
    "## Import section"
   ]
  },
  {
   "cell_type": "code",
   "execution_count": 1,
   "id": "05a6a5ab-cd4f-4088-b2d2-22fe956f723e",
   "metadata": {},
   "outputs": [],
   "source": [
    "from utils.data_related.data_gen import data_transform_split"
   ]
  },
  {
   "cell_type": "code",
   "execution_count": 2,
   "id": "1d6717b1-35d2-44e1-bc16-5c78352192ab",
   "metadata": {},
   "outputs": [],
   "source": [
    "import surprise\n",
    "from surprise import Reader, Dataset, SVD\n",
    "import numpy as np"
   ]
  },
  {
   "cell_type": "code",
   "execution_count": 3,
   "id": "72c951e9-34a9-4997-a327-db8079d3accb",
   "metadata": {},
   "outputs": [],
   "source": [
    "from collections import defaultdict"
   ]
  },
  {
   "cell_type": "code",
   "execution_count": 4,
   "id": "15f39276-e934-4814-bdea-42799f74001c",
   "metadata": {},
   "outputs": [],
   "source": [
    "trainset, testset = data_transform_split(0)"
   ]
  },
  {
   "cell_type": "code",
   "execution_count": 5,
   "id": "33239a41-f361-4145-b7b4-8dbb987b2894",
   "metadata": {},
   "outputs": [
    {
     "data": {
      "text/plain": [
       "surprise.trainset.Trainset"
      ]
     },
     "execution_count": 5,
     "metadata": {},
     "output_type": "execute_result"
    }
   ],
   "source": [
    "type(trainset)"
   ]
  },
  {
   "cell_type": "code",
   "execution_count": 6,
   "id": "b7900886-e262-4ba0-8bb4-dbcd4a8b91fb",
   "metadata": {},
   "outputs": [
    {
     "data": {
      "text/plain": [
       "list"
      ]
     },
     "execution_count": 6,
     "metadata": {},
     "output_type": "execute_result"
    }
   ],
   "source": [
    "type(testset)"
   ]
  },
  {
   "cell_type": "markdown",
   "id": "bbcfc462-aaa1-4730-8669-f33944918294",
   "metadata": {},
   "source": [
    "## Baseline Recommender Init and Setup"
   ]
  },
  {
   "cell_type": "code",
   "execution_count": 7,
   "id": "b1479044-56bf-4f90-886e-e373316e8644",
   "metadata": {},
   "outputs": [],
   "source": [
    "algo = SVD()"
   ]
  },
  {
   "cell_type": "code",
   "execution_count": 8,
   "id": "487f75a1-f22f-4e8d-bad9-e3c63590cd8e",
   "metadata": {},
   "outputs": [
    {
     "data": {
      "text/plain": [
       "<surprise.prediction_algorithms.matrix_factorization.SVD at 0x1d84b62b8e0>"
      ]
     },
     "execution_count": 8,
     "metadata": {},
     "output_type": "execute_result"
    }
   ],
   "source": [
    "algo.fit(trainset)"
   ]
  },
  {
   "cell_type": "code",
   "execution_count": 9,
   "id": "dda7cd2b-6aa2-4d70-bf21-1b506d7b8fa4",
   "metadata": {},
   "outputs": [],
   "source": [
    "predictions = algo.test(testset)"
   ]
  },
  {
   "cell_type": "markdown",
   "id": "fd43520a-c6b2-43e8-b832-ac0a8b6e9d3d",
   "metadata": {},
   "source": [
    "### Precision & Recall"
   ]
  },
  {
   "cell_type": "code",
   "execution_count": 10,
   "id": "b0f2c82b-39da-494f-b3e4-cf6d12ee3f8f",
   "metadata": {},
   "outputs": [],
   "source": [
    "from utils.accuracy.accuracy_surpriselib import accuracy_precision_recall, calc_ROC_curve"
   ]
  },
  {
   "cell_type": "code",
   "execution_count": 11,
   "id": "7c3b1500-db0e-47d6-908d-aa39c429efb1",
   "metadata": {},
   "outputs": [],
   "source": [
    "precision, recall = accuracy_precision_recall(predictions)"
   ]
  },
  {
   "cell_type": "code",
   "execution_count": 12,
   "id": "e6d52bc7-7b5e-4820-b020-0bff3f977f07",
   "metadata": {},
   "outputs": [
    {
     "name": "stdout",
     "output_type": "stream",
     "text": [
      "precision: 0.2628904076879337 \n",
      "recall: 0.2354617615638589\n"
     ]
    }
   ],
   "source": [
    "print(\"precision:\", precision, \"\\nrecall:\", recall)"
   ]
  },
  {
   "cell_type": "markdown",
   "id": "9dfa7e0d-296d-41a2-a5df-5a26bbd050b2",
   "metadata": {},
   "source": [
    "### ROC"
   ]
  },
  {
   "cell_type": "code",
   "execution_count": 14,
   "id": "ec8d7a83-dafc-4b56-9924-a68c26537839",
   "metadata": {},
   "outputs": [
    {
     "data": {
      "image/png": "[encoded data removed]",
      "text/plain": [
       "<Figure size 432x288 with 1 Axes>"
      ]
     },
     "metadata": {
      "needs_background": "light"
     },
     "output_type": "display_data"
    }
   ],
   "source": [
    "calc_ROC_curve(predictions)"
   ]
  }
 ],
 "metadata": {
  "kernelspec": {
   "display_name": "Python 3 (ipykernel)",
   "language": "python",
   "name": "python3"
  },
  "language_info": {
   "codemirror_mode": {
    "name": "ipython",
    "version": 3
   },
   "file_extension": ".py",
   "mimetype": "text/x-python",
   "name": "python",
   "nbconvert_exporter": "python",
   "pygments_lexer": "ipython3",
   "version": "3.9.2"
  }
 },
 "nbformat": 4,
 "nbformat_minor": 5
}

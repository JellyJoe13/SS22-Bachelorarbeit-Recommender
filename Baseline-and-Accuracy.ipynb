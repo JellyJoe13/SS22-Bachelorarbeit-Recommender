{
 "cells": [
  {
   "cell_type": "markdown",
   "id": "220b9ce8-8b9b-49b5-a658-e820b96e7f6d",
   "metadata": {},
   "source": [
    "# Baseline Recommender and Accuracy"
   ]
  },
  {
   "cell_type": "markdown",
   "id": "42ecc20e-1986-49bc-a099-2a0073ec17b3",
   "metadata": {},
   "source": [
    "## Import section"
   ]
  },
  {
   "cell_type": "code",
   "execution_count": 1,
   "id": "05a6a5ab-cd4f-4088-b2d2-22fe956f723e",
   "metadata": {},
   "outputs": [],
   "source": [
    "from utils.data_related.data_gen import data_transform_split"
   ]
  },
  {
   "cell_type": "code",
   "execution_count": 2,
   "id": "1d6717b1-35d2-44e1-bc16-5c78352192ab",
   "metadata": {},
   "outputs": [],
   "source": [
    "import surprise\n",
    "from surprise import Reader, Dataset, SVD\n",
    "import numpy as np"
   ]
  },
  {
   "cell_type": "code",
   "execution_count": 3,
   "id": "72c951e9-34a9-4997-a327-db8079d3accb",
   "metadata": {},
   "outputs": [],
   "source": [
    "from collections import defaultdict"
   ]
  },
  {
   "cell_type": "markdown",
   "id": "b3ece1e5-5360-45be-b518-dd4cb20b5129",
   "metadata": {},
   "source": [
    "## Full Data set - split 0"
   ]
  },
  {
   "cell_type": "code",
   "execution_count": 4,
   "id": "15f39276-e934-4814-bdea-42799f74001c",
   "metadata": {},
   "outputs": [],
   "source": [
    "trainset, testset = data_transform_split(0)"
   ]
  },
  {
   "cell_type": "code",
   "execution_count": 5,
   "id": "33239a41-f361-4145-b7b4-8dbb987b2894",
   "metadata": {},
   "outputs": [
    {
     "data": {
      "text/plain": [
       "surprise.trainset.Trainset"
      ]
     },
     "execution_count": 5,
     "metadata": {},
     "output_type": "execute_result"
    }
   ],
   "source": [
    "type(trainset)"
   ]
  },
  {
   "cell_type": "code",
   "execution_count": 6,
   "id": "b7900886-e262-4ba0-8bb4-dbcd4a8b91fb",
   "metadata": {},
   "outputs": [
    {
     "data": {
      "text/plain": [
       "list"
      ]
     },
     "execution_count": 6,
     "metadata": {},
     "output_type": "execute_result"
    }
   ],
   "source": [
    "type(testset)"
   ]
  },
  {
   "cell_type": "markdown",
   "id": "bbcfc462-aaa1-4730-8669-f33944918294",
   "metadata": {},
   "source": [
    "### Baseline Recommender Init and Setup"
   ]
  },
  {
   "cell_type": "code",
   "execution_count": 7,
   "id": "b1479044-56bf-4f90-886e-e373316e8644",
   "metadata": {},
   "outputs": [],
   "source": [
    "algo = SVD()"
   ]
  },
  {
   "cell_type": "code",
   "execution_count": 8,
   "id": "487f75a1-f22f-4e8d-bad9-e3c63590cd8e",
   "metadata": {},
   "outputs": [
    {
     "data": {
      "text/plain": [
       "<surprise.prediction_algorithms.matrix_factorization.SVD at 0x1e479e20fa0>"
      ]
     },
     "execution_count": 8,
     "metadata": {},
     "output_type": "execute_result"
    }
   ],
   "source": [
    "algo.fit(trainset)"
   ]
  },
  {
   "cell_type": "code",
   "execution_count": 9,
   "id": "dda7cd2b-6aa2-4d70-bf21-1b506d7b8fa4",
   "metadata": {},
   "outputs": [],
   "source": [
    "predictions = algo.test(testset)"
   ]
  },
  {
   "cell_type": "markdown",
   "id": "fd43520a-c6b2-43e8-b832-ac0a8b6e9d3d",
   "metadata": {},
   "source": [
    "### Precision & Recall"
   ]
  },
  {
   "cell_type": "code",
   "execution_count": 10,
   "id": "b0f2c82b-39da-494f-b3e4-cf6d12ee3f8f",
   "metadata": {},
   "outputs": [],
   "source": [
    "from utils.accuracy.accuracy_surpriselib import accuracy_precision_recall, calc_ROC_curve"
   ]
  },
  {
   "cell_type": "code",
   "execution_count": 12,
   "id": "7c3b1500-db0e-47d6-908d-aa39c429efb1",
   "metadata": {},
   "outputs": [],
   "source": [
    "precision, recall = accuracy_precision_recall(predictions, \"both\")"
   ]
  },
  {
   "cell_type": "code",
   "execution_count": 13,
   "id": "e6d52bc7-7b5e-4820-b020-0bff3f977f07",
   "metadata": {},
   "outputs": [
    {
     "name": "stdout",
     "output_type": "stream",
     "text": [
      "precision: (0.2611882565632653, 0.25983153570807277) \n",
      "recall: (0.23095294748856357, 0.24044114807624142)\n"
     ]
    }
   ],
   "source": [
    "print(\"precision:\", precision, \"\\nrecall:\", recall)"
   ]
  },
  {
   "cell_type": "markdown",
   "id": "9dfa7e0d-296d-41a2-a5df-5a26bbd050b2",
   "metadata": {},
   "source": [
    "### ROC"
   ]
  },
  {
   "cell_type": "code",
   "execution_count": 14,
   "id": "ec8d7a83-dafc-4b56-9924-a68c26537839",
   "metadata": {},
   "outputs": [
    {
     "data": {
      "image/png": "[encoded data removed]",
      "text/plain": [
       "<Figure size 432x288 with 1 Axes>"
      ]
     },
     "metadata": {
      "needs_background": "light"
     },
     "output_type": "display_data"
    }
   ],
   "source": [
    "calc_ROC_curve(predictions)"
   ]
  },
  {
   "cell_type": "markdown",
   "id": "dc68222f-0556-4d76-b07b-6c936d8e294f",
   "metadata": {},
   "source": [
    "## Test Data set - split 0"
   ]
  },
  {
   "cell_type": "code",
   "execution_count": 15,
   "id": "4ee712ec-46ae-4180-b872-507602fd5bf7",
   "metadata": {},
   "outputs": [],
   "source": [
    "trainset, testset = data_transform_split(5)"
   ]
  },
  {
   "cell_type": "code",
   "execution_count": 16,
   "id": "a4eedbbe-59cd-4b4a-827f-8785bb409dc2",
   "metadata": {},
   "outputs": [
    {
     "data": {
      "text/plain": [
       "surprise.trainset.Trainset"
      ]
     },
     "execution_count": 16,
     "metadata": {},
     "output_type": "execute_result"
    }
   ],
   "source": [
    "type(trainset)"
   ]
  },
  {
   "cell_type": "code",
   "execution_count": 17,
   "id": "4aff412c-3549-436e-9047-4ab2c8bbc1fd",
   "metadata": {},
   "outputs": [
    {
     "data": {
      "text/plain": [
       "list"
      ]
     },
     "execution_count": 17,
     "metadata": {},
     "output_type": "execute_result"
    }
   ],
   "source": [
    "type(testset)"
   ]
  },
  {
   "cell_type": "markdown",
   "id": "a9beccf1-4726-4aa3-9107-1c999c665aa9",
   "metadata": {},
   "source": [
    "### Baseline Recommender Init and Setup"
   ]
  },
  {
   "cell_type": "code",
   "execution_count": 18,
   "id": "bb59115c-09d9-4d19-84d7-d18f123f9748",
   "metadata": {},
   "outputs": [],
   "source": [
    "algo = SVD()"
   ]
  },
  {
   "cell_type": "code",
   "execution_count": 19,
   "id": "ff289bf2-c177-4ed0-b0ba-141f383cb24f",
   "metadata": {},
   "outputs": [
    {
     "data": {
      "text/plain": [
       "<surprise.prediction_algorithms.matrix_factorization.SVD at 0x1e430ec4820>"
      ]
     },
     "execution_count": 19,
     "metadata": {},
     "output_type": "execute_result"
    }
   ],
   "source": [
    "algo.fit(trainset)"
   ]
  },
  {
   "cell_type": "code",
   "execution_count": 20,
   "id": "db4aead9-f109-4319-b8aa-404a475d447c",
   "metadata": {},
   "outputs": [],
   "source": [
    "predictions = algo.test(testset)"
   ]
  },
  {
   "cell_type": "markdown",
   "id": "7ac7dcc6-7624-4620-8bbf-3f7c7b26512f",
   "metadata": {},
   "source": [
    "### Precision & Recall"
   ]
  },
  {
   "cell_type": "code",
   "execution_count": 21,
   "id": "d00de497-5fcc-4f10-a504-ea9f126d7fd6",
   "metadata": {},
   "outputs": [],
   "source": [
    "from utils.accuracy.accuracy_surpriselib import accuracy_precision_recall, calc_ROC_curve"
   ]
  },
  {
   "cell_type": "code",
   "execution_count": 22,
   "id": "889bc3ab-8426-4ad1-b90d-11157b8eba4a",
   "metadata": {},
   "outputs": [],
   "source": [
    "precision, recall = accuracy_precision_recall(predictions, \"both\")"
   ]
  },
  {
   "cell_type": "code",
   "execution_count": 23,
   "id": "33f978b3-4f16-4693-9a50-8289dc954e0a",
   "metadata": {},
   "outputs": [
    {
     "name": "stdout",
     "output_type": "stream",
     "text": [
      "precision: (0.0, 0.0) \n",
      "recall: (0.0, 0.0)\n"
     ]
    }
   ],
   "source": [
    "print(\"precision:\", precision, \"\\nrecall:\", recall)"
   ]
  },
  {
   "cell_type": "markdown",
   "id": "bcaefb50-5efa-4370-bc69-dca8d557bb85",
   "metadata": {},
   "source": [
    "### ROC"
   ]
  },
  {
   "cell_type": "code",
   "execution_count": 24,
   "id": "72bb220b-dbb8-4fc1-8d09-c76929d0abdd",
   "metadata": {},
   "outputs": [
    {
     "data": {
      "image/png": "[encoded data removed]",
      "text/plain": [
       "<Figure size 432x288 with 1 Axes>"
      ]
     },
     "metadata": {
      "needs_background": "light"
     },
     "output_type": "display_data"
    }
   ],
   "source": [
    "calc_ROC_curve(predictions)"
   ]
  },
  {
   "cell_type": "markdown",
   "id": "53ae0acc-a30d-43e6-9990-89993eb397ba",
   "metadata": {
    "tags": []
   },
   "source": [
    "## Full Data set - split 1"
   ]
  },
  {
   "cell_type": "code",
   "execution_count": 25,
   "id": "be78ff7a-96e2-4632-b7cf-3cb59ab41197",
   "metadata": {},
   "outputs": [],
   "source": [
    "trainset, testset = data_transform_split(0, 1)"
   ]
  },
  {
   "cell_type": "code",
   "execution_count": 26,
   "id": "887de103-f4a6-4180-8738-c3830ebe26e8",
   "metadata": {},
   "outputs": [
    {
     "data": {
      "text/plain": [
       "surprise.trainset.Trainset"
      ]
     },
     "execution_count": 26,
     "metadata": {},
     "output_type": "execute_result"
    }
   ],
   "source": [
    "type(trainset)"
   ]
  },
  {
   "cell_type": "code",
   "execution_count": 27,
   "id": "26701980-281e-48c1-9098-dd50e0822bb2",
   "metadata": {},
   "outputs": [
    {
     "data": {
      "text/plain": [
       "list"
      ]
     },
     "execution_count": 27,
     "metadata": {},
     "output_type": "execute_result"
    }
   ],
   "source": [
    "type(testset)"
   ]
  },
  {
   "cell_type": "markdown",
   "id": "ef8be035-d757-4f8b-ac51-ae2ba2cdae1f",
   "metadata": {},
   "source": [
    "### Baseline Recommender Init and Setup"
   ]
  },
  {
   "cell_type": "code",
   "execution_count": 28,
   "id": "a4ff188b-27b5-48e5-ab0b-db2f10381546",
   "metadata": {},
   "outputs": [],
   "source": [
    "algo = SVD()"
   ]
  },
  {
   "cell_type": "code",
   "execution_count": 29,
   "id": "562ec51a-9c7a-44fe-bd72-bf81ea1ac4cb",
   "metadata": {},
   "outputs": [
    {
     "data": {
      "text/plain": [
       "<surprise.prediction_algorithms.matrix_factorization.SVD at 0x1e46164ebb0>"
      ]
     },
     "execution_count": 29,
     "metadata": {},
     "output_type": "execute_result"
    }
   ],
   "source": [
    "algo.fit(trainset)"
   ]
  },
  {
   "cell_type": "code",
   "execution_count": 30,
   "id": "57ff43a1-9d30-4450-8430-71ae9ab0c4f1",
   "metadata": {},
   "outputs": [],
   "source": [
    "predictions = algo.test(testset)"
   ]
  },
  {
   "cell_type": "markdown",
   "id": "3e229497-7535-47dd-91e6-a85410e20db0",
   "metadata": {},
   "source": [
    "### Precision & Recall"
   ]
  },
  {
   "cell_type": "code",
   "execution_count": 31,
   "id": "742d6dab-6c04-4619-a93f-6a8b4a1ad7d2",
   "metadata": {},
   "outputs": [],
   "source": [
    "from utils.accuracy.accuracy_surpriselib import accuracy_precision_recall, calc_ROC_curve"
   ]
  },
  {
   "cell_type": "code",
   "execution_count": 32,
   "id": "c558557b-bd5e-4769-8759-115c364055c6",
   "metadata": {},
   "outputs": [],
   "source": [
    "precision, recall = accuracy_precision_recall(predictions, \"both\")"
   ]
  },
  {
   "cell_type": "code",
   "execution_count": 33,
   "id": "03a92764-cba4-4037-b6be-4094c00b6425",
   "metadata": {},
   "outputs": [
    {
     "name": "stdout",
     "output_type": "stream",
     "text": [
      "precision: (0.16672451842536312, 0.1668362395640104) \n",
      "recall: (0.19370560284966512, 0.2041814946619217)\n"
     ]
    }
   ],
   "source": [
    "print(\"precision:\", precision, \"\\nrecall:\", recall)"
   ]
  },
  {
   "cell_type": "markdown",
   "id": "b0a46d0d-ff34-4ced-b1e3-da9c5eda4ce0",
   "metadata": {},
   "source": [
    "### ROC"
   ]
  },
  {
   "cell_type": "code",
   "execution_count": 34,
   "id": "1cc290c8-0a5a-4b2e-8593-91a0db285412",
   "metadata": {},
   "outputs": [
    {
     "data": {
      "image/png": "[encoded data removed]",
      "text/plain": [
       "<Figure size 432x288 with 1 Axes>"
      ]
     },
     "metadata": {
      "needs_background": "light"
     },
     "output_type": "display_data"
    }
   ],
   "source": [
    "calc_ROC_curve(predictions)"
   ]
  },
  {
   "cell_type": "markdown",
   "id": "85bf4517-ddf4-4f67-aaa5-585b0ece0ac9",
   "metadata": {},
   "source": [
    "## Full Data set - split 2"
   ]
  },
  {
   "cell_type": "code",
   "execution_count": 35,
   "id": "f0390f27-1d6d-41ee-8ade-efa783507ef5",
   "metadata": {},
   "outputs": [],
   "source": [
    "trainset, testset = data_transform_split(0, 2)"
   ]
  },
  {
   "cell_type": "code",
   "execution_count": 36,
   "id": "9a588e77-c2de-4811-bf4c-a3896e0c7b0e",
   "metadata": {},
   "outputs": [
    {
     "data": {
      "text/plain": [
       "surprise.trainset.Trainset"
      ]
     },
     "execution_count": 36,
     "metadata": {},
     "output_type": "execute_result"
    }
   ],
   "source": [
    "type(trainset)"
   ]
  },
  {
   "cell_type": "code",
   "execution_count": 37,
   "id": "c665c658-3b9a-4bfa-b8e5-68028362c6ab",
   "metadata": {},
   "outputs": [
    {
     "data": {
      "text/plain": [
       "list"
      ]
     },
     "execution_count": 37,
     "metadata": {},
     "output_type": "execute_result"
    }
   ],
   "source": [
    "type(testset)"
   ]
  },
  {
   "cell_type": "markdown",
   "id": "8d6ef9b6-2b8b-447f-91a2-3a8af4bd481a",
   "metadata": {},
   "source": [
    "### Baseline Recommender Init and Setup"
   ]
  },
  {
   "cell_type": "code",
   "execution_count": 38,
   "id": "6291ff84-b3a7-4290-8c75-0271e323bf9f",
   "metadata": {},
   "outputs": [],
   "source": [
    "algo = SVD()"
   ]
  },
  {
   "cell_type": "code",
   "execution_count": 39,
   "id": "050d787f-570a-40a4-b80f-e3b6fc31e9d0",
   "metadata": {},
   "outputs": [
    {
     "data": {
      "text/plain": [
       "<surprise.prediction_algorithms.matrix_factorization.SVD at 0x1e430eeabb0>"
      ]
     },
     "execution_count": 39,
     "metadata": {},
     "output_type": "execute_result"
    }
   ],
   "source": [
    "algo.fit(trainset)"
   ]
  },
  {
   "cell_type": "code",
   "execution_count": 40,
   "id": "6d5d038a-89fc-4e4f-ac64-82fe86fcc1b8",
   "metadata": {},
   "outputs": [],
   "source": [
    "predictions = algo.test(testset)"
   ]
  },
  {
   "cell_type": "markdown",
   "id": "6b3ac54b-f82a-4883-9a95-a2396e352a55",
   "metadata": {},
   "source": [
    "### Precision & Recall"
   ]
  },
  {
   "cell_type": "code",
   "execution_count": 41,
   "id": "ac1b7a56-9f53-4fbc-8dc0-eb3b6ce4cf6c",
   "metadata": {},
   "outputs": [],
   "source": [
    "from utils.accuracy.accuracy_surpriselib import accuracy_precision_recall, calc_ROC_curve"
   ]
  },
  {
   "cell_type": "code",
   "execution_count": 42,
   "id": "4858094b-117c-4bee-9e50-d3e164944002",
   "metadata": {},
   "outputs": [],
   "source": [
    "precision, recall = accuracy_precision_recall(predictions, \"both\")"
   ]
  },
  {
   "cell_type": "code",
   "execution_count": 43,
   "id": "3d0a9589-346c-42cd-9120-b1b463bfee8a",
   "metadata": {},
   "outputs": [
    {
     "name": "stdout",
     "output_type": "stream",
     "text": [
      "precision: (0.026156941649899398, 0.026156941649899398) \n",
      "recall: (0.0007858576290314197, 0.0007858576290314197)\n"
     ]
    }
   ],
   "source": [
    "print(\"precision:\", precision, \"\\nrecall:\", recall)"
   ]
  },
  {
   "cell_type": "markdown",
   "id": "74b6069a-0fd9-482c-8dd2-b963a060a798",
   "metadata": {},
   "source": [
    "### ROC"
   ]
  },
  {
   "cell_type": "code",
   "execution_count": 44,
   "id": "af7a29a0-b114-42c7-bfe0-176b48bb417c",
   "metadata": {},
   "outputs": [
    {
     "data": {
      "image/png": "[encoded data removed]",
      "text/plain": [
       "<Figure size 432x288 with 1 Axes>"
      ]
     },
     "metadata": {
      "needs_background": "light"
     },
     "output_type": "display_data"
    }
   ],
   "source": [
    "calc_ROC_curve(predictions)"
   ]
  },
  {
   "cell_type": "code",
   "execution_count": null,
   "id": "67818ce4-c11f-4f9a-b10e-79a19ac3f148",
   "metadata": {},
   "outputs": [],
   "source": []
  }
 ],
 "metadata": {
  "kernelspec": {
   "display_name": "Python 3 (ipykernel)",
   "language": "python",
   "name": "python3"
  },
  "language_info": {
   "codemirror_mode": {
    "name": "ipython",
    "version": 3
   },
   "file_extension": ".py",
   "mimetype": "text/x-python",
   "name": "python",
   "nbconvert_exporter": "python",
   "pygments_lexer": "ipython3",
   "version": "3.8.12"
  }
 },
 "nbformat": 4,
 "nbformat_minor": 5
}

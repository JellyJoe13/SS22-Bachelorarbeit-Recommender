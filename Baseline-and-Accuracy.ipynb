{
 "cells": [
  {
   "cell_type": "markdown",
   "id": "220b9ce8-8b9b-49b5-a658-e820b96e7f6d",
   "metadata": {},
   "source": [
    "# Baseline Recommender and Accuracy"
   ]
  },
  {
   "cell_type": "markdown",
   "id": "42ecc20e-1986-49bc-a099-2a0073ec17b3",
   "metadata": {},
   "source": [
    "## Import section"
   ]
  },
  {
   "cell_type": "code",
   "execution_count": 2,
   "id": "05a6a5ab-cd4f-4088-b2d2-22fe956f723e",
   "metadata": {},
   "outputs": [],
   "source": [
    "from data_gen import data_transform_split"
   ]
  },
  {
   "cell_type": "code",
   "execution_count": 3,
   "id": "1d6717b1-35d2-44e1-bc16-5c78352192ab",
   "metadata": {},
   "outputs": [],
   "source": [
    "import surprise\n",
    "from surprise import Reader, Dataset, SVD\n",
    "import numpy as np"
   ]
  },
  {
   "cell_type": "code",
   "execution_count": 4,
   "id": "72c951e9-34a9-4997-a327-db8079d3accb",
   "metadata": {},
   "outputs": [],
   "source": [
    "from collections import defaultdict"
   ]
  },
  {
   "cell_type": "code",
   "execution_count": 5,
   "id": "15f39276-e934-4814-bdea-42799f74001c",
   "metadata": {},
   "outputs": [],
   "source": [
    "trainset, testset = data_transform_split(0)"
   ]
  },
  {
   "cell_type": "code",
   "execution_count": 4,
   "id": "33239a41-f361-4145-b7b4-8dbb987b2894",
   "metadata": {},
   "outputs": [
    {
     "data": {
      "text/plain": [
       "surprise.trainset.Trainset"
      ]
     },
     "execution_count": 4,
     "metadata": {},
     "output_type": "execute_result"
    }
   ],
   "source": [
    "type(trainset)"
   ]
  },
  {
   "cell_type": "code",
   "execution_count": 5,
   "id": "b7900886-e262-4ba0-8bb4-dbcd4a8b91fb",
   "metadata": {},
   "outputs": [
    {
     "data": {
      "text/plain": [
       "list"
      ]
     },
     "execution_count": 5,
     "metadata": {},
     "output_type": "execute_result"
    }
   ],
   "source": [
    "type(testset)"
   ]
  },
  {
   "cell_type": "markdown",
   "id": "bbcfc462-aaa1-4730-8669-f33944918294",
   "metadata": {},
   "source": [
    "## Baseline Recommender Init and Setup"
   ]
  },
  {
   "cell_type": "code",
   "execution_count": 6,
   "id": "b1479044-56bf-4f90-886e-e373316e8644",
   "metadata": {},
   "outputs": [],
   "source": [
    "algo = SVD()"
   ]
  },
  {
   "cell_type": "code",
   "execution_count": 7,
   "id": "487f75a1-f22f-4e8d-bad9-e3c63590cd8e",
   "metadata": {},
   "outputs": [
    {
     "data": {
      "text/plain": [
       "<surprise.prediction_algorithms.matrix_factorization.SVD at 0x2785863ac40>"
      ]
     },
     "execution_count": 7,
     "metadata": {},
     "output_type": "execute_result"
    }
   ],
   "source": [
    "algo.fit(trainset)"
   ]
  },
  {
   "cell_type": "code",
   "execution_count": 8,
   "id": "dda7cd2b-6aa2-4d70-bf21-1b506d7b8fa4",
   "metadata": {},
   "outputs": [],
   "source": [
    "predictions = algo.test(testset)"
   ]
  },
  {
   "cell_type": "markdown",
   "id": "fd43520a-c6b2-43e8-b832-ac0a8b6e9d3d",
   "metadata": {},
   "source": [
    "### Precision & Recall"
   ]
  },
  {
   "cell_type": "code",
   "execution_count": 23,
   "id": "6c761fd7-0de1-42b8-b1b1-425b8954529b",
   "metadata": {},
   "outputs": [],
   "source": [
    "def accuracy_precision_recall(predictions):\n",
    "    '''\n",
    "    Code copied from https://surprise.readthedocs.io/en/stable/FAQ.html#how-to-compute-precision-k-and-recall-k and wrapped in outer function for slight modification\n",
    "    '''\n",
    "    def precision_recall_at_k(predictions, k=10, threshold=3.5):\n",
    "        \"\"\"Return precision and recall at k metrics for each user\"\"\"\n",
    "\n",
    "        # First map the predictions to each user.\n",
    "        user_est_true = defaultdict(list)\n",
    "        for uid, _, true_r, est, _ in predictions:\n",
    "            user_est_true[uid].append((est, true_r))\n",
    "\n",
    "        precisions = dict()\n",
    "        recalls = dict()\n",
    "        for uid, user_ratings in user_est_true.items():\n",
    "\n",
    "            # Sort user ratings by estimated value\n",
    "            user_ratings.sort(key=lambda x: x[0], reverse=True)\n",
    "\n",
    "            # Number of relevant items\n",
    "            n_rel = sum((true_r >= threshold) for (_, true_r) in user_ratings)\n",
    "\n",
    "            # Number of recommended items in top k\n",
    "            n_rec_k = sum((est >= threshold) for (est, _) in user_ratings[:k])\n",
    "\n",
    "            # Number of relevant and recommended items in top k\n",
    "            n_rel_and_rec_k = sum(((true_r >= threshold) and (est >= threshold))\n",
    "                                  for (est, true_r) in user_ratings[:k])\n",
    "\n",
    "            # Precision@K: Proportion of recommended items that are relevant\n",
    "            # When n_rec_k is 0, Precision is undefined. We here set it to 0.\n",
    "\n",
    "            precisions[uid] = n_rel_and_rec_k / n_rec_k if n_rec_k != 0 else 0\n",
    "\n",
    "            # Recall@K: Proportion of relevant items that are recommended\n",
    "            # When n_rel is 0, Recall is undefined. We here set it to 0.\n",
    "\n",
    "            recalls[uid] = n_rel_and_rec_k / n_rel if n_rel != 0 else 0\n",
    "\n",
    "        return precisions, recalls\n",
    "    # execute precision-recall function and compute average over precision and recall values\n",
    "    precision_list, recall_list = precision_recall_at_k(predictions, k=100, threshold=0.5)\n",
    "    p = sum(precision_list.values())/len(precision_list)\n",
    "    r = sum(recall_list.values())/len(recall_list)\n",
    "    return p, r"
   ]
  },
  {
   "cell_type": "code",
   "execution_count": 24,
   "id": "7c3b1500-db0e-47d6-908d-aa39c429efb1",
   "metadata": {},
   "outputs": [],
   "source": [
    "precision, recall = accuracy_precision_recall(predictions)"
   ]
  },
  {
   "cell_type": "code",
   "execution_count": 25,
   "id": "e6d52bc7-7b5e-4820-b020-0bff3f977f07",
   "metadata": {},
   "outputs": [
    {
     "name": "stdout",
     "output_type": "stream",
     "text": [
      "precision: 0.26508770263742354 \n",
      "recall: 0.23397106251391514\n"
     ]
    }
   ],
   "source": [
    "print(\"precision:\", precision, \"\\nrecall:\", recall)"
   ]
  },
  {
   "cell_type": "markdown",
   "id": "9dfa7e0d-296d-41a2-a5df-5a26bbd050b2",
   "metadata": {},
   "source": [
    "### ROC"
   ]
  },
  {
   "cell_type": "code",
   "execution_count": 50,
   "id": "033e9773-1ae8-4287-a103-757559485766",
   "metadata": {},
   "outputs": [],
   "source": [
    "from sklearn import metrics\n",
    "import matplotlib.pyplot as plt"
   ]
  },
  {
   "cell_type": "code",
   "execution_count": 37,
   "id": "259f46b8-5163-40f8-84f6-cfa86c46a284",
   "metadata": {},
   "outputs": [],
   "source": [
    "def surpriselib_prediction_to_sklearn(predictions:list):\n",
    "    # determine how many predictions we have and large the reserved arrays should be\n",
    "    prediction_count = len(predictions)\n",
    "    # initialize output parameters y_true and y_score\n",
    "    y_true = np.zeros(shape=(prediction_count,))\n",
    "    y_score = np.zeros(shape=(prediction_count,))\n",
    "    # iterate over predictions and transform it into preallocated arrays\n",
    "    for index, pred in enumerate(predictions):\n",
    "        y_true[index]=int(pred.r_ui)\n",
    "        y_score[index]=pred.est\n",
    "    return y_true, y_score"
   ]
  },
  {
   "cell_type": "code",
   "execution_count": 1,
   "id": "b70c2edf-5578-422a-8687-ffd23e06446b",
   "metadata": {},
   "outputs": [],
   "source": [
    "def calc_and_plot_ROC(data_input, mode:int=0):\n",
    "    '''\n",
    "    Plot function for transfering the input data from surpriselib/pyg to sklearn and plot the roc\n",
    "    \n",
    "    Parameters\n",
    "    ----------\n",
    "    data_input : list of surpriselib Prediction Objects or pyg TODO\n",
    "    mode : int\n",
    "        Signals if the input is from surpriselib or pytorch geometric 0=Surpriselib, 1=pyg\n",
    "    '''\n",
    "    #asserting range of mode\n",
    "    assert mode>=0\n",
    "    assert mode<=1\n",
    "    # initialize converted parameters\n",
    "    y_true = None\n",
    "    y_score = None\n",
    "    # begin split into cases on how to convert the data\n",
    "    if mode==0:\n",
    "        # mode for surpriselib data\n",
    "        # use separate function to convert surpriselib result data to sklearn usable variables\n",
    "        y_true, y_score = surpriselib_prediction_to_sklearn(predictions)\n",
    "    else:\n",
    "        print(\"noch nicht implementiert\")\n",
    "        return\n",
    "    # use sklearn to get fpr and tpr\n",
    "    fpr, tpr, _ = metrics.roc_curve(y_true, y_score)\n",
    "    # calculate the roc_auc (area under the curve)\n",
    "    roc_auc = metrics.auc(fpr, tpr)\n",
    "    # PLOT THE ROC CURVE\n",
    "    '''\n",
    "    Following code inspired/partly copied from https://scikit-learn.org/stable/auto_examples/model_selection/plot_roc.html#sphx-glr-auto-examples-model-selection-plot-roc-py\n",
    "    '''\n",
    "    plt.figure()\n",
    "    plt.plot(fpr, tpr, color=\"darkorange\", label=\"ROC curve (ROC AUC=%0.2f)\" % roc_auc)\n",
    "    plt.plot([0,1], [0,1], color=\"blue\", linestyle=\"--\")\n",
    "    plt.xlim([-0.05, 1.0])\n",
    "    plt.ylim([0.0, 1.05])\n",
    "    plt.xlabel(\"False Positive Rate\")\n",
    "    plt.ylabel(\"True Positive Rate\")\n",
    "    plt.title(\"ROC CURVE\")\n",
    "    plt.legend(loc=\"lower right\")\n",
    "    plt.show()"
   ]
  },
  {
   "cell_type": "code",
   "execution_count": 54,
   "id": "ec8d7a83-dafc-4b56-9924-a68c26537839",
   "metadata": {},
   "outputs": [
    {
     "data": {
      "image/png": "[encoded data removed]",
      "text/plain": [
       "<Figure size 432x288 with 1 Axes>"
      ]
     },
     "metadata": {
      "needs_background": "light"
     },
     "output_type": "display_data"
    }
   ],
   "source": [
    "calc_and_plot_ROC(predictions)"
   ]
  },
  {
   "cell_type": "code",
   "execution_count": null,
   "id": "6425787a-afb2-44c5-9d8f-0fe57ade8f17",
   "metadata": {},
   "outputs": [],
   "source": []
  }
 ],
 "metadata": {
  "kernelspec": {
   "display_name": "Python [conda env:Bachelorarbeit] *",
   "language": "python",
   "name": "conda-env-Bachelorarbeit-py"
  },
  "language_info": {
   "codemirror_mode": {
    "name": "ipython",
    "version": 3
   },
   "file_extension": ".py",
   "mimetype": "text/x-python",
   "name": "python",
   "nbconvert_exporter": "python",
   "pygments_lexer": "ipython3",
   "version": "3.8.12"
  }
 },
 "nbformat": 4,
 "nbformat_minor": 5
}

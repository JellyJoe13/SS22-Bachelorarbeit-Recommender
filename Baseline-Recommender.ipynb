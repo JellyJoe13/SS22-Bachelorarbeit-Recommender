{
 "cells": [
  {
   "cell_type": "markdown",
   "id": "88dfcaf2-795d-4ef0-a23f-8f8b7752cc8a",
   "metadata": {},
   "source": [
    "# Baseline Recommender"
   ]
  },
  {
   "cell_type": "markdown",
   "id": "382e1a12-3cd4-48b5-a155-fc402bf03abc",
   "metadata": {},
   "source": [
    "## Data Importing"
   ]
  },
  {
   "cell_type": "code",
   "execution_count": null,
   "id": "2f9f03b9-cc05-43b1-90e4-949b298e8a25",
   "metadata": {},
   "outputs": [],
   "source": []
  },
  {
   "cell_type": "markdown",
   "id": "1330aad7-ac49-412e-a6c5-879256c4b48c",
   "metadata": {},
   "source": [
    "## Data Converting"
   ]
  },
  {
   "cell_type": "code",
   "execution_count": null,
   "id": "8beec075-1b9b-46f9-bf84-92a38d4bc5e9",
   "metadata": {},
   "outputs": [],
   "source": []
  }
 ],
 "metadata": {
  "kernelspec": {
   "display_name": "Python [conda env:Bachelorarbeit] *",
   "language": "python",
   "name": "conda-env-Bachelorarbeit-py"
  },
  "language_info": {
   "codemirror_mode": {
    "name": "ipython",
    "version": 3
   },
   "file_extension": ".py",
   "mimetype": "text/x-python",
   "name": "python",
   "nbconvert_exporter": "python",
   "pygments_lexer": "ipython3",
   "version": "3.8.12"
  }
 },
 "nbformat": 4,
 "nbformat_minor": 5
}

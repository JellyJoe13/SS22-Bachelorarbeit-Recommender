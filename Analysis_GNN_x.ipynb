{
 "cells": [
  {
   "cell_type": "markdown",
   "id": "06e5070f-5375-46cd-92ca-a537c8dabd43",
   "metadata": {
    "tags": []
   },
   "source": [
    "# On the purpose of analyzing x and scaling/normalizing to make GNN run with this x"
   ]
  },
  {
   "cell_type": "code",
   "execution_count": 2,
   "id": "c8e89a44-85f9-4d7b-8c66-433c9df9a2c8",
   "metadata": {},
   "outputs": [],
   "source": [
    "import numpy as np"
   ]
  },
  {
   "cell_type": "code",
   "execution_count": null,
   "id": "9ae24856-dfba-474b-9cb8-64f73585011f",
   "metadata": {},
   "outputs": [],
   "source": [
    "# load numpy array\n",
    "load_x = np.loadtxt(\"data/descriptors_x.csv\",delimiter = \",\")"
   ]
  },
  {
   "cell_type": "code",
   "execution_count": null,
   "id": "1c4dd8e6-a73f-467d-826c-052d6c0e6389",
   "metadata": {},
   "outputs": [],
   "source": []
  }
 ],
 "metadata": {
  "kernelspec": {
   "display_name": "Python [conda env:Bachelorarbeit] *",
   "language": "python",
   "name": "conda-env-Bachelorarbeit-py"
  },
  "language_info": {
   "codemirror_mode": {
    "name": "ipython",
    "version": 3
   },
   "file_extension": ".py",
   "mimetype": "text/x-python",
   "name": "python",
   "nbconvert_exporter": "python",
   "pygments_lexer": "ipython3",
   "version": "3.8.12"
  }
 },
 "nbformat": 4,
 "nbformat_minor": 5
}

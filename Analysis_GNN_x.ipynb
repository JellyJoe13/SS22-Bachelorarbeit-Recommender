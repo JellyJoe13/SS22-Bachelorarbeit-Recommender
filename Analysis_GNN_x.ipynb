{
 "cells": [
  {
   "cell_type": "markdown",
   "id": "06e5070f-5375-46cd-92ca-a537c8dabd43",
   "metadata": {
    "tags": []
   },
   "source": [
    "# On the purpose of analyzing x and scaling/normalizing to make GNN run with this x"
   ]
  },
  {
   "cell_type": "code",
   "execution_count": 42,
   "id": "c8e89a44-85f9-4d7b-8c66-433c9df9a2c8",
   "metadata": {},
   "outputs": [],
   "source": [
    "import numpy as np\n",
    "import math"
   ]
  },
  {
   "cell_type": "code",
   "execution_count": 2,
   "id": "9ae24856-dfba-474b-9cb8-64f73585011f",
   "metadata": {},
   "outputs": [],
   "source": [
    "# load numpy array\n",
    "load_x = np.nan_to_num(np.loadtxt(\"data/descriptors_x.csv\",delimiter = \",\"), nan=0).astype('float64')"
   ]
  },
  {
   "cell_type": "code",
   "execution_count": 3,
   "id": "d344686a-a62e-4c8f-b6c9-c4168e4273b4",
   "metadata": {},
   "outputs": [
    {
     "data": {
      "text/plain": [
       "array([[ True,  True,  True, ...,  True,  True,  True],\n",
       "       [ True,  True,  True, ...,  True,  True,  True],\n",
       "       [ True,  True,  True, ...,  True,  True,  True],\n",
       "       ...,\n",
       "       [False, False, False, ...,  True,  True,  True],\n",
       "       [False, False, False, ...,  True,  True,  True],\n",
       "       [False, False, False, ...,  True,  True,  True]])"
      ]
     },
     "execution_count": 3,
     "metadata": {},
     "output_type": "execute_result"
    }
   ],
   "source": [
    "load_x==0"
   ]
  },
  {
   "cell_type": "code",
   "execution_count": 4,
   "id": "6dee97e2-5e70-42bd-92d9-de9430db2ecc",
   "metadata": {},
   "outputs": [
    {
     "data": {
      "text/plain": [
       "array([[ 67],\n",
       "       [ 80],\n",
       "       [160],\n",
       "       [195]], dtype=int64)"
      ]
     },
     "execution_count": 4,
     "metadata": {},
     "output_type": "execute_result"
    }
   ],
   "source": [
    "# find columns with only zeros and delete them\n",
    "index_cols = np.argwhere(np.all(load_x==0, axis=0))\n",
    "index_cols"
   ]
  },
  {
   "cell_type": "code",
   "execution_count": 5,
   "id": "a8002504-9a18-4757-ad23-cf5dea264f76",
   "metadata": {},
   "outputs": [],
   "source": [
    "load_x = np.delete(load_x, index_cols, axis=1)"
   ]
  },
  {
   "cell_type": "code",
   "execution_count": 16,
   "id": "2c291c39-70a9-41f5-8b35-2a677e8f9c7c",
   "metadata": {},
   "outputs": [
    {
     "data": {
      "text/plain": [
       "array([False,  True, False, False, False, False, False, False, False,\n",
       "       False,  True,  True, False, False, False, False, False, False,\n",
       "       False, False,  True, False,  True, False,  True, False, False,\n",
       "       False, False, False, False, False, False, False, False, False,\n",
       "       False, False, False,  True, False, False, False,  True, False,\n",
       "       False,  True, False, False, False, False, False, False, False,\n",
       "       False, False, False, False, False, False, False, False, False,\n",
       "       False,  True, False, False, False, False, False, False, False,\n",
       "        True, False, False, False, False, False, False, False, False,\n",
       "       False, False, False, False,  True, False, False, False, False,\n",
       "       False,  True,  True,  True,  True,  True,  True,  True,  True,\n",
       "        True,  True, False, False, False, False, False, False, False,\n",
       "       False, False, False, False, False, False, False, False, False,\n",
       "       False, False,  True, False, False, False, False, False, False,\n",
       "       False, False, False, False, False, False, False, False, False,\n",
       "       False, False, False, False, False, False, False, False, False,\n",
       "       False, False, False, False, False, False, False, False, False,\n",
       "       False, False, False, False, False, False, False, False, False,\n",
       "       False, False, False, False, False, False, False, False, False,\n",
       "       False, False, False, False, False, False, False, False, False,\n",
       "       False, False, False, False, False, False, False, False, False,\n",
       "       False, False, False, False, False, False, False, False, False,\n",
       "       False, False, False, False, False, False])"
      ]
     },
     "execution_count": 16,
     "metadata": {},
     "output_type": "execute_result"
    }
   ],
   "source": [
    "# next is how to deal with negative values\n",
    "# we will shift them so that they are positive now. even if there are very large small entries then later on it will be either scaled to [0,1] or they will be scaled with log treating these negative values like small values and the bigger ones as an exception.\n",
    "# The relation between the numbers is never lost, only shifted\n",
    "index_cols = (load_x<0).sum(axis=0)>0\n",
    "# index_cols = np.argwhere(np.any(load_x<0, axis=0))\n",
    "index_cols"
   ]
  },
  {
   "cell_type": "code",
   "execution_count": 23,
   "id": "6429ff33-d038-4d08-adc6-e1cc4993de24",
   "metadata": {},
   "outputs": [
    {
     "data": {
      "text/plain": [
       "array([ -9.869375  ,  -0.31888651,  -0.97516071,  -3.01910214,\n",
       "        -3.7058597 ,  -1.24265491, -33.45      , -27.14      ,\n",
       "        -0.16190162,  -0.16190162,  -0.16190162,  -0.16190162,\n",
       "        -4.45069444, -12.240625  , -14.42262346,  -9.41635802,\n",
       "       -38.70929934, -91.1707568 , -65.43988874, -89.98155098,\n",
       "        -8.74040141, -51.28947068, -23.28585   ])"
      ]
     },
     "execution_count": 23,
     "metadata": {},
     "output_type": "execute_result"
    }
   ],
   "source": [
    "# find the minimal entries to shift\n",
    "min_entries = load_x[:, index_cols].min(axis=0)-0.1\n",
    "min_entries"
   ]
  },
  {
   "cell_type": "code",
   "execution_count": 38,
   "id": "7c9453b2-6c9a-42e1-a0e5-5f277c0d6db2",
   "metadata": {},
   "outputs": [],
   "source": [
    "load_x[:, index_cols]-=np.transpose(np.repeat(np.reshape(min_entries, (-1,1)), load_x.shape[0], axis=1))"
   ]
  },
  {
   "cell_type": "code",
   "execution_count": 39,
   "id": "5b726e5d-cd62-44a4-bfe5-b9e514ff7407",
   "metadata": {},
   "outputs": [
    {
     "data": {
      "text/plain": [
       "0"
      ]
     },
     "execution_count": 39,
     "metadata": {},
     "output_type": "execute_result"
    }
   ],
   "source": [
    "(load_x<0).sum()"
   ]
  },
  {
   "cell_type": "code",
   "execution_count": 44,
   "id": "6bbe6401-e356-47fb-8359-70e7d7f6e185",
   "metadata": {},
   "outputs": [],
   "source": [
    "# scaling is missing. for the majority it is ok to divide it with the maximum entry, but if there are very large entries we either do not want to scale this way as information in the lower parts will be lost or if the large numbers are outliers\n",
    "# For this reason we have following rules: If we have 5 or more entries above 10^10 we keep them and apply logarithmic scaling (base 10). Else we assume that they are outliers and delete them.\n",
    "# getting the entries above 10^10\n",
    "idx_large = load_x>math.pow(10,10)"
   ]
  },
  {
   "cell_type": "code",
   "execution_count": 48,
   "id": "e4d0b98f-8b54-4100-9f04-474842f60825",
   "metadata": {},
   "outputs": [
    {
     "data": {
      "text/plain": [
       "array([False, False, False, False, False, False, False, False, False,\n",
       "       False, False, False, False, False, False, False, False, False,\n",
       "       False, False, False, False, False, False, False, False, False,\n",
       "       False, False, False, False, False, False, False, False, False,\n",
       "       False, False, False, False,  True, False, False, False, False,\n",
       "       False, False, False, False, False, False, False, False, False,\n",
       "       False, False, False, False, False, False, False, False, False,\n",
       "       False, False, False, False, False, False, False, False, False,\n",
       "       False, False, False, False, False, False, False, False, False,\n",
       "       False, False, False, False, False, False, False, False, False,\n",
       "       False, False, False, False, False, False, False, False, False,\n",
       "       False, False, False, False, False, False, False, False, False,\n",
       "       False, False, False, False, False, False, False, False, False,\n",
       "       False, False, False, False, False, False, False, False, False,\n",
       "       False, False, False, False, False, False, False, False, False,\n",
       "       False, False, False, False, False, False, False, False, False,\n",
       "       False, False, False, False, False, False, False, False, False,\n",
       "       False, False, False, False, False, False, False, False, False,\n",
       "       False, False, False, False, False, False, False, False, False,\n",
       "       False, False, False, False, False, False, False, False, False,\n",
       "       False, False, False, False, False, False, False, False, False,\n",
       "       False, False, False, False, False, False, False, False, False,\n",
       "       False, False, False, False, False, False])"
      ]
     },
     "execution_count": 48,
     "metadata": {},
     "output_type": "execute_result"
    }
   ],
   "source": [
    "# compute the row wise sum\n",
    "apply_log_col_index = idx_large.sum(axis=0)>5\n",
    "apply_log_col_index"
   ]
  },
  {
   "cell_type": "code",
   "execution_count": 55,
   "id": "6364645d-b5ea-4d34-9056-a0bc5cb3f497",
   "metadata": {},
   "outputs": [],
   "source": [
    "# for the rows with many large entries use log 10 scaling (first add 1 so that 0 entries will not produce -inf)"
   ]
  },
  {
   "cell_type": "code",
   "execution_count": 54,
   "id": "7372cfaa-090f-4543-a9a4-694005600985",
   "metadata": {},
   "outputs": [],
   "source": [
    "load_x[:, apply_log_col_index]=np.log10(load_x[:, apply_log_col_index]+1)"
   ]
  },
  {
   "cell_type": "code",
   "execution_count": 56,
   "id": "99b0144a-082a-41bf-bcb7-71f976cc08b0",
   "metadata": {},
   "outputs": [],
   "source": [
    "# now every remaining 10^10 index is labelled as an outlier and can be replaced by 0\n",
    "load_x[load_x>math.pow(10,10)]=0"
   ]
  },
  {
   "cell_type": "code",
   "execution_count": 57,
   "id": "08c2cf62-8512-4a4a-8714-7a9448a32579",
   "metadata": {},
   "outputs": [],
   "source": [
    "# run 0 column erasing part again\n",
    "load_x = np.delete(load_x, np.argwhere(np.all(load_x==0, axis=0)), axis=1)"
   ]
  },
  {
   "cell_type": "code",
   "execution_count": 69,
   "id": "ca23f196-5c28-45cd-b465-b7ea577c4bba",
   "metadata": {},
   "outputs": [],
   "source": [
    "# run a [0,1] scaling over all the columns\n",
    "col_max_entry = np.max(load_x, axis=0)"
   ]
  },
  {
   "cell_type": "code",
   "execution_count": 70,
   "id": "ee8fe4ca-6410-46b8-b21f-275ab82322f8",
   "metadata": {},
   "outputs": [],
   "source": [
    "load_x /= col_max_entry"
   ]
  },
  {
   "cell_type": "code",
   "execution_count": 80,
   "id": "1aaa51fc-4f40-4ab4-a30d-d8b5c8ab1f55",
   "metadata": {},
   "outputs": [],
   "source": [
    "# in case we did not have any need to shift columns we have now many zero rows, which we will solve by introducing a new column using random values\n",
    "load_x = np.c_[load_x, np.random.rand(load_x.shape[0])]"
   ]
  },
  {
   "cell_type": "code",
   "execution_count": 81,
   "id": "59e4903f-71a7-43b3-a76e-f9944430e5d6",
   "metadata": {},
   "outputs": [
    {
     "data": {
      "text/plain": [
       "array([[0.        , 0.73820766, 0.        , ..., 0.        , 0.        ,\n",
       "        0.60837226],\n",
       "       [0.        , 0.73820766, 0.        , ..., 0.        , 0.        ,\n",
       "        0.77614077],\n",
       "       [0.        , 0.73820766, 0.        , ..., 0.        , 0.        ,\n",
       "        0.70438978],\n",
       "       ...,\n",
       "       [0.58123546, 0.55479141, 0.58123546, ..., 0.        , 0.        ,\n",
       "        0.43603667],\n",
       "       [0.66394602, 0.71434246, 0.66394602, ..., 0.        , 0.        ,\n",
       "        0.4158152 ],\n",
       "       [0.60097239, 0.51088925, 0.60097239, ..., 0.        , 0.        ,\n",
       "        0.3011869 ]])"
      ]
     },
     "execution_count": 81,
     "metadata": {},
     "output_type": "execute_result"
    }
   ],
   "source": [
    "load_x"
   ]
  },
  {
   "cell_type": "markdown",
   "id": "3ce8c20f-1d04-4ce6-8b27-07c3151fd80e",
   "metadata": {},
   "source": [
    "## Testing section"
   ]
  },
  {
   "cell_type": "code",
   "execution_count": 43,
   "id": "0b369593-0b10-4d62-942a-514f87d049a4",
   "metadata": {},
   "outputs": [
    {
     "data": {
      "text/plain": [
       "10000000000.0"
      ]
     },
     "execution_count": 43,
     "metadata": {},
     "output_type": "execute_result"
    }
   ],
   "source": [
    "math.pow(10,10)"
   ]
  },
  {
   "cell_type": "code",
   "execution_count": 36,
   "id": "fae0e6d4-f123-4b12-b40a-c2311c2a928e",
   "metadata": {},
   "outputs": [
    {
     "data": {
      "text/plain": [
       "array([[1, 2, 3],\n",
       "       [1, 2, 3],\n",
       "       [1, 2, 3]])"
      ]
     },
     "execution_count": 36,
     "metadata": {},
     "output_type": "execute_result"
    }
   ],
   "source": [
    "np.transpose(np.repeat(np.reshape(np.array([1,2,3]), (-1,1)), 3, axis=1))"
   ]
  },
  {
   "cell_type": "code",
   "execution_count": 22,
   "id": "06d52c1d-f34b-4612-9cba-56d49c04103c",
   "metadata": {},
   "outputs": [
    {
     "data": {
      "text/plain": [
       "2655047.4161205404"
      ]
     },
     "execution_count": 22,
     "metadata": {},
     "output_type": "execute_result"
    }
   ],
   "source": [
    "load_x[:, 67].sum()"
   ]
  },
  {
   "cell_type": "code",
   "execution_count": 23,
   "id": "5146c40a-afd1-49df-9f8d-3e6c3cf41f73",
   "metadata": {},
   "outputs": [
    {
     "data": {
      "text/plain": [
       "0"
      ]
     },
     "execution_count": 23,
     "metadata": {},
     "output_type": "execute_result"
    }
   ],
   "source": [
    "np.isnan(load_x).sum()"
   ]
  },
  {
   "cell_type": "code",
   "execution_count": 24,
   "id": "955796bf-c7e7-4f75-b949-65c395a2f398",
   "metadata": {},
   "outputs": [
    {
     "data": {
      "text/plain": [
       "(457560, 204)"
      ]
     },
     "execution_count": 24,
     "metadata": {},
     "output_type": "execute_result"
    }
   ],
   "source": [
    "load_x.shape"
   ]
  },
  {
   "cell_type": "code",
   "execution_count": 7,
   "id": "1c4dd8e6-a73f-467d-826c-052d6c0e6389",
   "metadata": {},
   "outputs": [],
   "source": [
    "# analyze if a column is just containing 0 entries\n",
    "x_zero = np.sum(load_x==0, axis=0)\n",
    "x_neg  = np.sum(load_x<0 , axis=0)\n",
    "x_pos  = np.sum(load_x>0 , axis=0)"
   ]
  },
  {
   "cell_type": "code",
   "execution_count": 8,
   "id": "80fce8ef-c499-4986-b73b-b6ce3eb5bbb4",
   "metadata": {},
   "outputs": [
    {
     "data": {
      "text/plain": [
       "0"
      ]
     },
     "execution_count": 8,
     "metadata": {},
     "output_type": "execute_result"
    }
   ],
   "source": [
    "(x_zero==load_x.shape[0]).sum()"
   ]
  },
  {
   "cell_type": "code",
   "execution_count": 9,
   "id": "646cf7ce-2dff-4fa6-a7c9-348e191d781c",
   "metadata": {},
   "outputs": [
    {
     "data": {
      "text/plain": [
       "3"
      ]
     },
     "execution_count": 9,
     "metadata": {},
     "output_type": "execute_result"
    }
   ],
   "source": [
    "((x_zero+x_neg)==load_x.shape[0]).sum()"
   ]
  },
  {
   "cell_type": "code",
   "execution_count": 10,
   "id": "d550c955-42c9-4cc8-8ac8-c5e5198e0f1f",
   "metadata": {},
   "outputs": [
    {
     "data": {
      "text/plain": [
       "array([     0, 393134,      0,      0,      0,      0,      0,      0,\n",
       "            0,      0,    310, 454905,      0,      0,      0,      0,\n",
       "            0,      0,      0,      0, 454905,      0, 454905,      0,\n",
       "       261813,      0,      0,      0,      0,      0,      0,      0,\n",
       "            0,      0,      0,      0,      0,      0,      0, 454049,\n",
       "            0,      0,      0,      3,      0,      0,      1,      0,\n",
       "            0,      0,      0,      0,      0,      0,      0,      0,\n",
       "            0,      0,      0,      0,      0,      0,      0,      0,\n",
       "            1,      0,      0,      0,      0,      0,      0,      0,\n",
       "            1,      0,      0,      0,      0,      0,      0,      0,\n",
       "            0,      0,      0,      0,      0,      1,      0,      0,\n",
       "            0,      0,      0,    609,    222,   1360,   2031,  31623,\n",
       "       196488,   4161,  38198,  19429,  84388,      0,      0,      0,\n",
       "            0,      0,      0,      0,      0,      0,      0,      0,\n",
       "            0,      0,      0,      0,      0,      0,      0,   8228,\n",
       "            0,      0,      0,      0,      0,      0,      0,      0,\n",
       "            0,      0,      0,      0,      0,      0,      0,      0,\n",
       "            0,      0,      0,      0,      0,      0,      0,      0,\n",
       "            0,      0,      0,      0,      0,      0,      0,      0,\n",
       "            0,      0,      0,      0,      0,      0,      0,      0,\n",
       "            0,      0,      0,      0,      0,      0,      0,      0,\n",
       "            0,      0,      0,      0,      0,      0,      0,      0,\n",
       "            0,      0,      0,      0,      0,      0,      0,      0,\n",
       "            0,      0,      0,      0,      0,      0,      0,      0,\n",
       "            0,      0,      0,      0,      0,      0,      0,      0,\n",
       "            0,      0,      0,      0])"
      ]
     },
     "execution_count": 10,
     "metadata": {},
     "output_type": "execute_result"
    }
   ],
   "source": [
    "x_neg"
   ]
  },
  {
   "cell_type": "code",
   "execution_count": 9,
   "id": "8cbcac44-2318-444b-af1b-057017b945f9",
   "metadata": {},
   "outputs": [
    {
     "data": {
      "text/plain": [
       "(457560, 23)"
      ]
     },
     "execution_count": 9,
     "metadata": {},
     "output_type": "execute_result"
    }
   ],
   "source": [
    "neg_column_entries = load_x[:, (x_neg>0)]\n",
    "neg_column_entries.shape"
   ]
  },
  {
   "cell_type": "code",
   "execution_count": 10,
   "id": "64a1bce8-c152-4b23-a709-e6dd7dd6423c",
   "metadata": {},
   "outputs": [
    {
     "data": {
      "text/plain": [
       "array([-9.76937500e+00, -2.18886515e-01, -8.75160711e-01, -2.91910214e+00,\n",
       "       -3.60585970e+00, -1.14265491e+00, -3.33500000e+01, -2.70400000e+01,\n",
       "       -6.19016157e-02, -6.19016157e-02, -6.19016157e-02, -6.19016157e-02,\n",
       "       -4.35069444e+00, -1.21406250e+01, -1.43226235e+01, -9.31635802e+00,\n",
       "       -3.86092993e+01, -9.10707568e+01, -6.53398887e+01, -8.98815510e+01,\n",
       "       -8.64040141e+00, -5.11894707e+01, -2.31858500e+01])"
      ]
     },
     "execution_count": 10,
     "metadata": {},
     "output_type": "execute_result"
    }
   ],
   "source": [
    "# per column determine which was the minimal entry and shift values so that all values in matrix are >=0\n",
    "min_entries = neg_column_entries.min(axis=0)\n",
    "min_entries"
   ]
  },
  {
   "cell_type": "code",
   "execution_count": 11,
   "id": "2bf410be-9641-4f72-9106-b47361facd73",
   "metadata": {},
   "outputs": [],
   "source": [
    "neg_column_entries -= (np.repeat(np.reshape(min_entries, (-1,1)), neg_column_entries.shape[0], axis=1).transpose() - 0.1) # 0.1 for avoidance of zero entries for multiple min entries"
   ]
  },
  {
   "cell_type": "code",
   "execution_count": 12,
   "id": "75a15bda-7d18-45fd-971b-c4b04f3fbb43",
   "metadata": {},
   "outputs": [
    {
     "data": {
      "text/plain": [
       "(457560, 181)"
      ]
     },
     "execution_count": 12,
     "metadata": {},
     "output_type": "execute_result"
    }
   ],
   "source": [
    "# get positive column entries\n",
    "pos_column_entries = load_x[:, np.logical_and(x_pos>0, x_neg==0)]\n",
    "pos_column_entries.shape"
   ]
  },
  {
   "cell_type": "code",
   "execution_count": 13,
   "id": "f8f1913d-870a-401f-92ce-681d5884c023",
   "metadata": {},
   "outputs": [
    {
     "data": {
      "text/plain": [
       "(457560, 204)"
      ]
     },
     "execution_count": 13,
     "metadata": {},
     "output_type": "execute_result"
    }
   ],
   "source": [
    "#reunite both column matrices, every entry is now >=0\n",
    "pos_x = np.concatenate((pos_column_entries, neg_column_entries), axis=1)\n",
    "pos_x.shape"
   ]
  },
  {
   "cell_type": "code",
   "execution_count": 14,
   "id": "a68a761f-7c89-4d87-adf0-7c6168f5beb1",
   "metadata": {},
   "outputs": [
    {
     "data": {
      "text/plain": [
       "array([1.74681989e+001, 1.74681989e+001, 8.76493197e+000, 9.48329259e-001,\n",
       "       4.70734000e+003, 4.36663600e+003, 4.70450998e+003, 1.85600000e+003,\n",
       "       2.00000000e+000, 1.79769313e+308, 6.01705788e-001, 2.00000000e+000,\n",
       "       2.77777778e+000, 3.55555556e+000, 1.27904000e+002, 1.25904000e+002,\n",
       "       3.31868517e+000, 3.12569820e+000, 1.50200000e+001, 7.10846639e+000,\n",
       "       1.28277760e+004, 2.51177027e+002, 1.91115817e+002, 1.91115817e+002,\n",
       "       1.55526275e+002, 1.09424866e+002, 1.09424866e+002, 8.49903232e+001,\n",
       "       8.49903232e+001, 5.30649032e+001, 5.95720077e+001, 3.55820414e+001,\n",
       "       7.47874836e+001, 4.75997012e+128, 2.89782514e+002, 1.48653503e+002,\n",
       "       1.91500878e+003, 3.73694664e+002, 1.55945729e+002, 2.65823088e+002,\n",
       "       8.43374801e+001, 3.96560434e+002, 2.71567814e+002, 7.21369131e+001,\n",
       "       1.05369961e+002, 9.28075191e+001, 3.14145051e+002, 4.16183347e+002,\n",
       "       1.56137987e+002, 3.13175989e+002, 3.10906253e+002, 3.31498818e+002,\n",
       "       3.24557016e+001, 2.51877752e+002, 1.33900976e+002, 2.70882161e+002,\n",
       "       2.41648852e+002, 1.72485355e+002, 2.97425920e+002, 1.05369961e+002,\n",
       "       1.72485355e+002, 1.59299439e+002, 2.65494462e+002, 1.01493153e+002,\n",
       "       4.67015422e+002, 2.30521949e+002, 6.54701135e+001, 9.08784952e+001,\n",
       "       2.11426000e+003, 8.43467260e+002, 2.69315369e+002, 7.67125949e+001,\n",
       "       3.11885775e+002, 2.57668397e+002, 2.40756318e+002, 1.78497680e+002,\n",
       "       2.14700629e+002, 2.65075858e+002, 1.65790203e+002, 1.00000000e+000,\n",
       "       3.32000000e+002, 8.60000000e+001, 1.27000000e+002, 1.20000000e+001,\n",
       "       3.00000000e+001, 3.00000000e+001, 1.10000000e+001, 7.00000000e+000,\n",
       "       1.20000000e+001, 6.50000000e+001, 7.40000000e+001, 1.27000000e+002,\n",
       "       1.60000000e+002, 1.20000000e+001, 3.00000000e+001, 3.00000000e+001,\n",
       "       3.00000000e+001, 1.18216640e+003, 8.00000000e+000, 2.40000000e+001,\n",
       "       2.40000000e+001, 4.00000000e+000, 4.00000000e+000, 1.00000000e+001,\n",
       "       5.00000000e+000, 2.50000000e+001, 8.00000000e+000, 8.00000000e+000,\n",
       "       5.10000000e+001, 4.50000000e+001, 4.00000000e+000, 3.00000000e+000,\n",
       "       4.00000000e+000, 1.50000000e+001, 4.90000000e+001, 1.60000000e+001,\n",
       "       6.00000000e+000, 7.00000000e+000, 5.00000000e+000, 5.00000000e+000,\n",
       "       4.00000000e+000, 2.00000000e+000, 4.00000000e+000, 2.40000000e+001,\n",
       "       2.60000000e+001, 4.50000000e+001, 3.00000000e+000, 7.00000000e+000,\n",
       "       8.00000000e+000, 2.00000000e+000, 2.00000000e+000, 2.00000000e+000,\n",
       "       1.10000000e+001, 1.00000000e+000, 2.80000000e+001, 1.00000000e+000,\n",
       "       4.00000000e+000, 1.00000000e+001, 3.50000000e+001, 5.00000000e+000,\n",
       "       6.00000000e+000, 2.40000000e+001, 2.00000000e+000, 4.00000000e+000,\n",
       "       5.00000000e+000, 4.00000000e+000, 2.00000000e+000, 2.00000000e+000,\n",
       "       6.00000000e+000, 6.00000000e+000, 2.00000000e+000, 6.00000000e+000,\n",
       "       1.00000000e+001, 4.00000000e+000, 4.00000000e+000, 4.00000000e+000,\n",
       "       4.00000000e+000, 3.00000000e+000, 3.00000000e+000, 2.00000000e+000,\n",
       "       3.00000000e+000, 8.00000000e+000, 2.50000000e+001, 2.50000000e+001,\n",
       "       4.00000000e+000, 3.00000000e+000, 4.00000000e+000, 3.00000000e+000,\n",
       "       7.00000000e+000, 6.00000000e+000, 3.00000000e+000, 8.00000000e+000,\n",
       "       4.00000000e+000, 2.00000000e+000, 3.00000000e+000, 2.00000000e+000,\n",
       "       4.00000000e+000, 2.00000000e+000, 3.00000000e+000, 7.20000000e+001,\n",
       "       4.00000000e+000, 1.33693750e+001, 1.79769313e+308, 9.75160711e-001,\n",
       "       3.01910214e+000, 3.70585970e+000, 1.42626549e+001, 3.69300000e+001,\n",
       "       1.76292852e+004, 2.35793694e+002, 7.29604490e+002, 7.43432825e+002,\n",
       "       1.78491120e+002, 3.58462377e+002, 9.49321659e+001, 7.50144047e+002,\n",
       "       2.97452498e+002, 1.32779874e+002, 1.14218706e+002, 1.43100842e+002,\n",
       "       1.58610170e+002, 6.01700649e+001, 7.21631139e+001, 4.58976500e+001])"
      ]
     },
     "execution_count": 14,
     "metadata": {},
     "output_type": "execute_result"
    }
   ],
   "source": [
    "# now we have to address the problem of rows with only zeros and too large entries which need to be scaled\n",
    "# first the scaling. idea: divide each row by the max entry, meaning that every entry is then between 0 and 1.\n",
    "maximum_per_column = pos_x.max(axis=0)\n",
    "maximum_per_column"
   ]
  },
  {
   "cell_type": "code",
   "execution_count": 15,
   "id": "6866a0fa-8fb8-46bc-8d59-4fde3a314a4c",
   "metadata": {},
   "outputs": [
    {
     "data": {
      "text/plain": [
       "array([[0.00000000e+00, 0.00000000e+00, 0.00000000e+00, ...,\n",
       "        8.74040141e+00, 5.12894707e+01, 2.32858500e+01],\n",
       "       [0.00000000e+00, 0.00000000e+00, 0.00000000e+00, ...,\n",
       "        8.74040141e+00, 5.12894707e+01, 2.32858500e+01],\n",
       "       [0.00000000e+00, 0.00000000e+00, 0.00000000e+00, ...,\n",
       "        8.74040141e+00, 5.12894707e+01, 2.32858500e+01],\n",
       "       ...,\n",
       "       [1.01531366e+01, 1.01531366e+01, 1.92523739e-01, ...,\n",
       "        1.25343364e+01, 5.12894707e+01, 2.98756500e+01],\n",
       "       [1.15979412e+01, 1.15979412e+01, 1.26046863e-01, ...,\n",
       "        1.09318376e+01, 5.34793717e+01, 2.48403500e+01],\n",
       "       [1.04979052e+01, 1.04979052e+01, 4.99433107e-03, ...,\n",
       "        1.07558064e+01, 5.12894707e+01, 2.79793500e+01]])"
      ]
     },
     "execution_count": 15,
     "metadata": {},
     "output_type": "execute_result"
    }
   ],
   "source": [
    "pos_x"
   ]
  },
  {
   "cell_type": "code",
   "execution_count": 16,
   "id": "8d32a412-80aa-446a-a6b2-bc70e40bef6c",
   "metadata": {
    "tags": []
   },
   "outputs": [
    {
     "data": {
      "text/plain": [
       "array([[0.00000000e+00, 0.00000000e+00, 0.00000000e+00, ...,\n",
       "        1.45261625e-01, 7.10743590e-01, 5.07342969e-01],\n",
       "       [0.00000000e+00, 0.00000000e+00, 0.00000000e+00, ...,\n",
       "        1.45261625e-01, 7.10743590e-01, 5.07342969e-01],\n",
       "       [0.00000000e+00, 0.00000000e+00, 0.00000000e+00, ...,\n",
       "        1.45261625e-01, 7.10743590e-01, 5.07342969e-01],\n",
       "       ...,\n",
       "       [5.81235457e-01, 5.81235457e-01, 2.19652291e-02, ...,\n",
       "        2.08315156e-01, 7.10743590e-01, 6.50918947e-01],\n",
       "       [6.63946025e-01, 6.63946025e-01, 1.43808148e-02, ...,\n",
       "        1.81682330e-01, 7.41090133e-01, 5.41211805e-01],\n",
       "       [6.00972388e-01, 6.00972388e-01, 5.69808309e-04, ...,\n",
       "        1.78756769e-01, 7.10743590e-01, 6.09603106e-01]])"
      ]
     },
     "execution_count": 16,
     "metadata": {},
     "output_type": "execute_result"
    }
   ],
   "source": [
    "# rescale matrix\n",
    "pos_x /= np.repeat(np.reshape(maximum_per_column, (-1,1)), pos_x.shape[0], axis=1).transpose()\n",
    "pos_x"
   ]
  },
  {
   "cell_type": "code",
   "execution_count": 17,
   "id": "54dd3f16-95a2-41df-9ad7-5a09481947c8",
   "metadata": {},
   "outputs": [
    {
     "data": {
      "text/plain": [
       "True"
      ]
     },
     "execution_count": 17,
     "metadata": {},
     "output_type": "execute_result"
    }
   ],
   "source": [
    "((pos_x<=1).sum(axis=0)==457560).sum()==204"
   ]
  },
  {
   "cell_type": "code",
   "execution_count": 18,
   "id": "e941d1db-f29d-4f85-beff-ef37b7e2f4dd",
   "metadata": {},
   "outputs": [],
   "source": [
    "# matrix is scaled now and there are no zero columns. though we have 0 entries in the matrix (for example for the aid nodes). we fix this by adding a column containing ones, random values or the id and scale it. \n",
    "# taking last one so that columns and rows cannot be reduced (though may fail regardless)"
   ]
  },
  {
   "cell_type": "code",
   "execution_count": 19,
   "id": "e581bace-ce3f-4d17-b985-0906360909a8",
   "metadata": {},
   "outputs": [
    {
     "data": {
      "text/plain": [
       "array([2.18550095e-06, 4.37100190e-06, 6.55650285e-06, ...,\n",
       "       9.99993443e-01, 9.99995629e-01, 9.99997814e-01])"
      ]
     },
     "execution_count": 19,
     "metadata": {},
     "output_type": "execute_result"
    }
   ],
   "source": [
    "np.arange(1, pos_x.shape[0]+1) / (pos_x.shape[0]+1)"
   ]
  },
  {
   "cell_type": "code",
   "execution_count": 20,
   "id": "1a7d272e-4baf-4b98-b13e-9fc673c9d86b",
   "metadata": {},
   "outputs": [],
   "source": [
    "#column_to_append = np.ones(pos_x.shape[0])\n",
    "#column_to_append = np.random.rand(pos_x.shape[0])\n",
    "column_to_append = np.arange(1, pos_x.shape[0]+1) / (pos_x.shape[0]+1)"
   ]
  },
  {
   "cell_type": "code",
   "execution_count": 21,
   "id": "f188c659-463d-49a0-8b06-dfa2bb133cf0",
   "metadata": {},
   "outputs": [
    {
     "data": {
      "text/plain": [
       "array([[2.18550095e-06],\n",
       "       [4.37100190e-06],\n",
       "       [6.55650285e-06],\n",
       "       ...,\n",
       "       [9.99993443e-01],\n",
       "       [9.99995629e-01],\n",
       "       [9.99997814e-01]])"
      ]
     },
     "execution_count": 21,
     "metadata": {},
     "output_type": "execute_result"
    }
   ],
   "source": [
    "np.reshape(column_to_append, (-1,1))"
   ]
  },
  {
   "cell_type": "code",
   "execution_count": 22,
   "id": "d8fc37af-7117-47ec-835d-d43535a2ac60",
   "metadata": {},
   "outputs": [
    {
     "data": {
      "text/plain": [
       "array([[0.00000000e+00, 0.00000000e+00, 0.00000000e+00, ...,\n",
       "        7.10743590e-01, 5.07342969e-01, 2.18550095e-06],\n",
       "       [0.00000000e+00, 0.00000000e+00, 0.00000000e+00, ...,\n",
       "        7.10743590e-01, 5.07342969e-01, 4.37100190e-06],\n",
       "       [0.00000000e+00, 0.00000000e+00, 0.00000000e+00, ...,\n",
       "        7.10743590e-01, 5.07342969e-01, 6.55650285e-06],\n",
       "       ...,\n",
       "       [5.81235457e-01, 5.81235457e-01, 2.19652291e-02, ...,\n",
       "        7.10743590e-01, 6.50918947e-01, 9.99993443e-01],\n",
       "       [6.63946025e-01, 6.63946025e-01, 1.43808148e-02, ...,\n",
       "        7.41090133e-01, 5.41211805e-01, 9.99995629e-01],\n",
       "       [6.00972388e-01, 6.00972388e-01, 5.69808309e-04, ...,\n",
       "        7.10743590e-01, 6.09603106e-01, 9.99997814e-01]])"
      ]
     },
     "execution_count": 22,
     "metadata": {},
     "output_type": "execute_result"
    }
   ],
   "source": [
    "pos_x = np.concatenate((pos_x, np.reshape(column_to_append, (-1,1))), axis=1)\n",
    "pos_x"
   ]
  },
  {
   "cell_type": "code",
   "execution_count": 24,
   "id": "ad30b654-5dc7-47d8-ba22-0f56d7349a8c",
   "metadata": {},
   "outputs": [],
   "source": [
    "# save the file\n",
    "np.savetxt(\"data/descriptors_x_transformed.csv\", pos_x, delimiter=\",\")"
   ]
  }
 ],
 "metadata": {
  "kernelspec": {
   "display_name": "Python [conda env:Bachelorarbeit]",
   "language": "python",
   "name": "conda-env-Bachelorarbeit-py"
  },
  "language_info": {
   "codemirror_mode": {
    "name": "ipython",
    "version": 3
   },
   "file_extension": ".py",
   "mimetype": "text/x-python",
   "name": "python",
   "nbconvert_exporter": "python",
   "pygments_lexer": "ipython3",
   "version": "3.8.12"
  }
 },
 "nbformat": 4,
 "nbformat_minor": 5
}

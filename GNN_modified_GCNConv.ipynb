{
 "cells": [
  {
   "cell_type": "markdown",
   "id": "c6ffb2e0-a226-40f5-b019-9b405fa26843",
   "metadata": {},
   "source": [
    "# GNN Model using GCN Conv and minibatch and linear layers instead of dotproduct"
   ]
  },
  {
   "cell_type": "code",
   "execution_count": null,
   "id": "2c9bc96d-3763-4214-8272-07c9e4d5d041",
   "metadata": {},
   "outputs": [],
   "source": [
    "from torch.nn import Bilinear, Flatten"
   ]
  },
  {
   "cell_type": "code",
   "execution_count": null,
   "id": "3bcba654-eacc-4e53-ae37-36e8636bc05b",
   "metadata": {},
   "outputs": [],
   "source": [
    "class GNN_GCNConv_homogen(torch.nn.Module):\n",
    "    '''\n",
    "    basic implementation of GNN, inspired by content shown in https://antoniolonga.github.io/Pytorch_geometric_tutorials/posts/post12.html from Antionio Longa\n",
    "    '''\n",
    "    def __init__(self):\n",
    "        super(GNN_homogen_with_data_bil, self).__init__()\n",
    "        self.conv1 = GCNConv(data.num_features, int(data.num_features/2))\n",
    "        self.conv2 = GCNConv(int(data.num_features/2), 64)\n",
    "        self.bilin = Bilinear(64, 64, 1)\n",
    "        self.endflat = Flatten(0,-1)\n",
    "    \n",
    "    def encode(self):\n",
    "        x = self.conv1(data.x.relu(), data.train_pos_edge_index) # first convolution layer\n",
    "        x = x.relu() # relu function for tu - disables negative values\n",
    "        x = self.conv2(x, data.train_pos_edge_index) # second convolution layer\n",
    "        return x\n",
    "    \n",
    "    def decode(self, z, pos_edge_index, neg_edge_index):\n",
    "        edge_index = torch.cat([pos_edge_index, neg_edge_index], dim=-1) #fuse pos and neg edges together\n",
    "        logits = self.endflat(self.bilin(z[edge_index[0]], z[edge_index[1]]))\n",
    "        return logits"
   ]
  },
  {
   "cell_type": "code",
   "execution_count": 1,
   "id": "2906750a-7224-4191-be46-bbfba39d5f4b",
   "metadata": {},
   "outputs": [],
   "source": [
    "import torch\n",
    "from torch_geometric.data import Data"
   ]
  },
  {
   "cell_type": "code",
   "execution_count": 2,
   "id": "9c77818b-96ab-4699-9385-2d9a74fec556",
   "metadata": {},
   "outputs": [],
   "source": [
    "edge_index = torch.tensor([[0, 1, 1, 2],\n",
    "                           [1, 0, 2, 1]], dtype=torch.long)\n",
    "x = torch.tensor([[-1], [0], [1]], dtype=torch.float)"
   ]
  },
  {
   "cell_type": "code",
   "execution_count": 3,
   "id": "96dfad88-9506-4892-b3ce-ab0614f549ed",
   "metadata": {},
   "outputs": [],
   "source": [
    "attributes = torch.tensor([[1,2],[2,3],[3,4],[4,5]], dtype=torch.float)"
   ]
  },
  {
   "cell_type": "code",
   "execution_count": 4,
   "id": "862f62a6-5bff-48ef-b59c-19c83a43a6c1",
   "metadata": {},
   "outputs": [],
   "source": [
    "y = torch.tensor([1,2,3,4], dtype=torch.long)"
   ]
  },
  {
   "cell_type": "code",
   "execution_count": 5,
   "id": "95600edd-811e-4ad8-8795-6d83ef978fc2",
   "metadata": {},
   "outputs": [
    {
     "data": {
      "text/plain": [
       "Data(x=[3, 1], edge_index=[2, 4], edge_attr=[4, 2], y=[4])"
      ]
     },
     "execution_count": 5,
     "metadata": {},
     "output_type": "execute_result"
    }
   ],
   "source": [
    "data = Data(x=x, edge_index=edge_index.contiguous(), edge_attr=attributes, y=y)\n",
    "data"
   ]
  },
  {
   "cell_type": "code",
   "execution_count": 6,
   "id": "5e4c64df-0442-4ca1-b99f-18ccbe6673c4",
   "metadata": {},
   "outputs": [],
   "source": [
    "from torch_geometric.loader import NeighborLoader"
   ]
  },
  {
   "cell_type": "code",
   "execution_count": 33,
   "id": "b447279d-3daa-4101-a2a5-a40f912eb298",
   "metadata": {},
   "outputs": [],
   "source": [
    "loader = NeighborLoader(\n",
    "    data,\n",
    "    num_neighbors=[2],\n",
    "    # Use a batch size of 128 for sampling training nodes\n",
    "    batch_size=2,\n",
    ")"
   ]
  },
  {
   "cell_type": "code",
   "execution_count": 27,
   "id": "890cbf6c-d828-40a8-8761-5124393c70ab",
   "metadata": {},
   "outputs": [],
   "source": [
    "zwi = next(iter(loader))"
   ]
  },
  {
   "cell_type": "code",
   "execution_count": 28,
   "id": "260f03b7-8ee7-4d5b-9701-10ea8d56054f",
   "metadata": {},
   "outputs": [
    {
     "data": {
      "text/plain": [
       "Data(x=[3, 1], edge_index=[2, 3], edge_attr=[3, 2], y=[3], batch_size=2)"
      ]
     },
     "execution_count": 28,
     "metadata": {},
     "output_type": "execute_result"
    }
   ],
   "source": [
    "zwi"
   ]
  },
  {
   "cell_type": "code",
   "execution_count": 34,
   "id": "ce6ae901-2e4c-40b0-a2a8-6d667c661a3e",
   "metadata": {},
   "outputs": [],
   "source": [
    "count = 0\n",
    "for i in loader:\n",
    "    count += i.edge_index.size(1)"
   ]
  },
  {
   "cell_type": "code",
   "execution_count": 35,
   "id": "aa8aee97-4b0c-47c2-957b-0f9db774f844",
   "metadata": {},
   "outputs": [
    {
     "data": {
      "text/plain": [
       "4"
      ]
     },
     "execution_count": 35,
     "metadata": {},
     "output_type": "execute_result"
    }
   ],
   "source": [
    "count"
   ]
  },
  {
   "cell_type": "code",
   "execution_count": 32,
   "id": "807fda8f-c76c-4df9-a3e8-dbca186c0dc8",
   "metadata": {},
   "outputs": [
    {
     "data": {
      "text/plain": [
       "3"
      ]
     },
     "execution_count": 32,
     "metadata": {},
     "output_type": "execute_result"
    }
   ],
   "source": [
    "zwi.edge_index.size(1)"
   ]
  }
 ],
 "metadata": {
  "kernelspec": {
   "display_name": "Python [conda env:Bachelorarbeit]",
   "language": "python",
   "name": "conda-env-Bachelorarbeit-py"
  },
  "language_info": {
   "codemirror_mode": {
    "name": "ipython",
    "version": 3
   },
   "file_extension": ".py",
   "mimetype": "text/x-python",
   "name": "python",
   "nbconvert_exporter": "python",
   "pygments_lexer": "ipython3",
   "version": "3.8.12"
  }
 },
 "nbformat": 4,
 "nbformat_minor": 5
}

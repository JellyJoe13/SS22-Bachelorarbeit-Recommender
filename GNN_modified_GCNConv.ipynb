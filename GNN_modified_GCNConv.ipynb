{
 "cells": [
  {
   "cell_type": "markdown",
   "id": "c6ffb2e0-a226-40f5-b019-9b405fa26843",
   "metadata": {},
   "source": [
    "# GNN Model using GCN Conv and minibatch and linear layers instead of dotproduct"
   ]
  },
  {
   "cell_type": "code",
   "execution_count": null,
   "id": "2c9bc96d-3763-4214-8272-07c9e4d5d041",
   "metadata": {},
   "outputs": [],
   "source": [
    "from torch.nn import Bilinear, Flatten"
   ]
  },
  {
   "cell_type": "code",
   "execution_count": null,
   "id": "3bcba654-eacc-4e53-ae37-36e8636bc05b",
   "metadata": {},
   "outputs": [],
   "source": [
    "class GNN_GCNConv_homogen(torch.nn.Module):\n",
    "    '''\n",
    "    basic implementation of GNN, inspired by content shown in https://antoniolonga.github.io/Pytorch_geometric_tutorials/posts/post12.html from Antionio Longa\n",
    "    '''\n",
    "    def __init__(self):\n",
    "        super(GNN_homogen_with_data_bil, self).__init__()\n",
    "        self.conv1 = GCNConv(data.num_features, int(data.num_features/2))\n",
    "        self.conv2 = GCNConv(int(data.num_features/2), 64)\n",
    "        self.bilin = Bilinear(64, 64, 1)\n",
    "        self.endflat = Flatten(0,-1)\n",
    "    \n",
    "    def encode(self):\n",
    "        x = self.conv1(data.x.relu(), data.train_pos_edge_index) # first convolution layer\n",
    "        x = x.relu() # relu function for tu - disables negative values\n",
    "        x = self.conv2(x, data.train_pos_edge_index) # second convolution layer\n",
    "        return x\n",
    "    \n",
    "    def decode(self, z, pos_edge_index, neg_edge_index):\n",
    "        edge_index = torch.cat([pos_edge_index, neg_edge_index], dim=-1) #fuse pos and neg edges together\n",
    "        logits = self.endflat(self.bilin(z[edge_index[0]], z[edge_index[1]]))\n",
    "        return logits"
   ]
  }
 ],
 "metadata": {
  "kernelspec": {
   "display_name": "Python [conda env:Bachelorarbeit]",
   "language": "python",
   "name": "conda-env-Bachelorarbeit-py"
  },
  "language_info": {
   "codemirror_mode": {
    "name": "ipython",
    "version": 3
   },
   "file_extension": ".py",
   "mimetype": "text/x-python",
   "name": "python",
   "nbconvert_exporter": "python",
   "pygments_lexer": "ipython3",
   "version": "3.8.12"
  }
 },
 "nbformat": 4,
 "nbformat_minor": 5
}
